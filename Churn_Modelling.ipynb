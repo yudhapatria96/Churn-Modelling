{
  "nbformat": 4,
  "nbformat_minor": 0,
  "metadata": {
    "colab": {
      "name": "Churn_Modelling.ipynb",
      "provenance": [],
      "collapsed_sections": [
        "qF_WyfYWl72s",
        "TtwqfOY9cFAl",
        "juAR4y_Fc8RF",
        "l2zC2r7LdFq8",
        "w6VpBI35dN8y",
        "Dy6WL8yVdTI7",
        "_nK4MmrFdY-s",
        "ke_sb7MBdgSU",
        "EyrpP6sddk0B",
        "1aVbC5fidts9",
        "7bSUjo5ddzN2",
        "NfYlY6p-d6Ic",
        "oaCDPSW0d_1w",
        "9UnnercHePFA",
        "pPuiIW_3eX21",
        "jwTes314edAv",
        "xQumRa2seigf",
        "V_aF3t4Tep55",
        "orcFa2fletRS",
        "OQAyL-74ezVc"
      ]
    },
    "kernelspec": {
      "name": "python3",
      "display_name": "Python 3"
    },
    "language_info": {
      "name": "python"
    },
    "accelerator": "GPU"
  },
  "cells": [
    {
      "cell_type": "markdown",
      "metadata": {
        "id": "zYqjOIFvYxTI"
      },
      "source": [
        "## Import Library yang dibutuhkan"
      ]
    },
    {
      "cell_type": "code",
      "metadata": {
        "id": "HW-6YympYy7p"
      },
      "source": [
        "#Import library yang dibutuhkan \n",
        "#Importing General packages\n",
        "import pandas as pd\n",
        "import numpy as np\n",
        "import matplotlib.pyplot as plt\n",
        "import seaborn as sns\n",
        "from sklearn.preprocessing import LabelEncoder\n",
        "from sklearn.model_selection import train_test_split\n",
        "from sklearn.linear_model import LogisticRegression\n",
        "from sklearn.ensemble import RandomForestClassifier\n",
        "from sklearn.ensemble import GradientBoostingClassifier\n",
        "from sklearn.metrics import confusion_matrix, classification_report\n",
        "import pickle\n",
        "from pathlib import Path"
      ],
      "execution_count": 92,
      "outputs": []
    },
    {
      "cell_type": "markdown",
      "metadata": {
        "id": "cyd1FfJXY2_7"
      },
      "source": [
        "## File Unloading"
      ]
    },
    {
      "cell_type": "code",
      "metadata": {
        "colab": {
          "base_uri": "https://localhost:8080/"
        },
        "id": "Z6IP7F1yY04J",
        "outputId": "a55d17d6-efc5-4492-9760-03dff03ff1f6"
      },
      "source": [
        "#import dataset\n",
        "df_load = pd.read_csv('/content/Churn_Modelling.csv')\n",
        "\n",
        "#Tampilkan bentuk dari dataset\n",
        "print(df_load.shape)\n",
        "\n",
        "#Tampilkan 5 data teratas\n",
        "print(df_load.head())\n",
        "\n",
        "#Tampilkan jumlah ID yang unik\n",
        "print(df_load.CustomerId.nunique())"
      ],
      "execution_count": 93,
      "outputs": [
        {
          "output_type": "stream",
          "name": "stdout",
          "text": [
            "(10000, 14)\n",
            "   RowNumber  CustomerId   Surname  ...  IsActiveMember EstimatedSalary Exited\n",
            "0          1    15634602  Hargrave  ...               1       101348.88      1\n",
            "1          2    15647311      Hill  ...               1       112542.58      0\n",
            "2          3    15619304      Onio  ...               0       113931.57      1\n",
            "3          4    15701354      Boni  ...               0        93826.63      0\n",
            "4          5    15737888  Mitchell  ...               1        79084.10      0\n",
            "\n",
            "[5 rows x 14 columns]\n",
            "10000\n"
          ]
        }
      ]
    },
    {
      "cell_type": "code",
      "metadata": {
        "colab": {
          "base_uri": "https://localhost:8080/"
        },
        "id": "hQiIZoqc6e0d",
        "outputId": "c52b30ca-4137-43c1-abe0-89dc65b291cd"
      },
      "source": [
        "df_load.info()"
      ],
      "execution_count": 94,
      "outputs": [
        {
          "output_type": "stream",
          "name": "stdout",
          "text": [
            "<class 'pandas.core.frame.DataFrame'>\n",
            "RangeIndex: 10000 entries, 0 to 9999\n",
            "Data columns (total 14 columns):\n",
            " #   Column           Non-Null Count  Dtype  \n",
            "---  ------           --------------  -----  \n",
            " 0   RowNumber        10000 non-null  int64  \n",
            " 1   CustomerId       10000 non-null  int64  \n",
            " 2   Surname          10000 non-null  object \n",
            " 3   CreditScore      10000 non-null  int64  \n",
            " 4   Geography        10000 non-null  object \n",
            " 5   Gender           10000 non-null  object \n",
            " 6   Age              10000 non-null  int64  \n",
            " 7   Tenure           10000 non-null  int64  \n",
            " 8   Balance          10000 non-null  float64\n",
            " 9   NumOfProducts    10000 non-null  int64  \n",
            " 10  HasCrCard        10000 non-null  int64  \n",
            " 11  IsActiveMember   10000 non-null  int64  \n",
            " 12  EstimatedSalary  10000 non-null  float64\n",
            " 13  Exited           10000 non-null  int64  \n",
            "dtypes: float64(2), int64(9), object(3)\n",
            "memory usage: 1.1+ MB\n"
          ]
        }
      ]
    },
    {
      "cell_type": "markdown",
      "metadata": {
        "id": "Z1_o6izJZFmK"
      },
      "source": [
        "## Exploratory Data Analysis"
      ]
    },
    {
      "cell_type": "markdown",
      "metadata": {
        "id": "iubADjUrZH-f"
      },
      "source": [
        "### Memvisualisasikan Prosentase Churn"
      ]
    },
    {
      "cell_type": "code",
      "metadata": {
        "id": "d7tlAp7HsVtS"
      },
      "source": [
        "exited_cust = [i  for i in df_load.Exited if i == 1]\n",
        "nonexited_cust = [i for i in df_load.Exited if i == 0]"
      ],
      "execution_count": 168,
      "outputs": []
    },
    {
      "cell_type": "code",
      "metadata": {
        "colab": {
          "base_uri": "https://localhost:8080/"
        },
        "id": "JpB-i0nJt_uq",
        "outputId": "7ca6e62d-0b4a-4aee-e057-556bb2a723db"
      },
      "source": [
        "len(exited_cust)"
      ],
      "execution_count": 166,
      "outputs": [
        {
          "output_type": "execute_result",
          "data": {
            "text/plain": [
              "2037"
            ]
          },
          "metadata": {},
          "execution_count": 166
        }
      ]
    },
    {
      "cell_type": "code",
      "metadata": {
        "colab": {
          "base_uri": "https://localhost:8080/"
        },
        "id": "9wYzOLSsuFbM",
        "outputId": "cad20b11-7420-4171-b746-c4637b5f7d4e"
      },
      "source": [
        "len(nonexited_cust)"
      ],
      "execution_count": 167,
      "outputs": [
        {
          "output_type": "execute_result",
          "data": {
            "text/plain": [
              "7963"
            ]
          },
          "metadata": {},
          "execution_count": 167
        }
      ]
    },
    {
      "cell_type": "code",
      "metadata": {
        "id": "x4eH16BDY7pY",
        "colab": {
          "base_uri": "https://localhost:8080/",
          "height": 318
        },
        "outputId": "6152dd1c-3da4-4fb0-dfe0-4e91f85d18e7"
      },
      "source": [
        "from matplotlib import pyplot as plt\n",
        "import numpy as np\n",
        "\n",
        "#Your codes here\n",
        "fig = plt.figure()\n",
        "ax = fig.add_axes([0,0,1,1])\n",
        "ax.axis('equal')\n",
        "labels = ['Non-Exited','Exited']\n",
        "churn = df_load.Exited.value_counts()\n",
        "ax.pie(churn, labels=labels, autopct='%.0f%%')\n",
        "plt.show()"
      ],
      "execution_count": 99,
      "outputs": [
        {
          "output_type": "display_data",
          "data": {
            "image/png": "[encoded data removed]",
            "text/plain": [
              "<Figure size 432x288 with 1 Axes>"
            ]
          },
          "metadata": {}
        }
      ]
    },
    {
      "cell_type": "markdown",
      "metadata": {
        "id": "oOz3aFqXZT0t"
      },
      "source": [
        "### Exploratory Data Analysis (EDA) Variabel Numerik"
      ]
    },
    {
      "cell_type": "code",
      "metadata": {
        "id": "Haclknd1ZZwc",
        "colab": {
          "base_uri": "https://localhost:8080/",
          "height": 202
        },
        "outputId": "a41e236e-4ba0-4dfb-cd56-7fd09a3089f0"
      },
      "source": [
        "df_load.head()"
      ],
      "execution_count": 100,
      "outputs": [
        {
          "output_type": "execute_result",
          "data": {
            "text/html": [
              "<div>\n",
              "<style scoped>\n",
              "    .dataframe tbody tr th:only-of-type {\n",
              "        vertical-align: middle;\n",
              "    }\n",
              "\n",
              "    .dataframe tbody tr th {\n",
              "        vertical-align: top;\n",
              "    }\n",
              "\n",
              "    .dataframe thead th {\n",
              "        text-align: right;\n",
              "    }\n",
              "</style>\n",
              "<table border=\"1\" class=\"dataframe\">\n",
              "  <thead>\n",
              "    <tr style=\"text-align: right;\">\n",
              "      <th></th>\n",
              "      <th>RowNumber</th>\n",
              "      <th>CustomerId</th>\n",
              "      <th>Surname</th>\n",
              "      <th>CreditScore</th>\n",
              "      <th>Geography</th>\n",
              "      <th>Gender</th>\n",
              "      <th>Age</th>\n",
              "      <th>Tenure</th>\n",
              "      <th>Balance</th>\n",
              "      <th>NumOfProducts</th>\n",
              "      <th>HasCrCard</th>\n",
              "      <th>IsActiveMember</th>\n",
              "      <th>EstimatedSalary</th>\n",
              "      <th>Exited</th>\n",
              "    </tr>\n",
              "  </thead>\n",
              "  <tbody>\n",
              "    <tr>\n",
              "      <th>0</th>\n",
              "      <td>1</td>\n",
              "      <td>15634602</td>\n",
              "      <td>Hargrave</td>\n",
              "      <td>619</td>\n",
              "      <td>France</td>\n",
              "      <td>Female</td>\n",
              "      <td>42</td>\n",
              "      <td>2</td>\n",
              "      <td>0.00</td>\n",
              "      <td>1</td>\n",
              "      <td>1</td>\n",
              "      <td>1</td>\n",
              "      <td>101348.88</td>\n",
              "      <td>1</td>\n",
              "    </tr>\n",
              "    <tr>\n",
              "      <th>1</th>\n",
              "      <td>2</td>\n",
              "      <td>15647311</td>\n",
              "      <td>Hill</td>\n",
              "      <td>608</td>\n",
              "      <td>Spain</td>\n",
              "      <td>Female</td>\n",
              "      <td>41</td>\n",
              "      <td>1</td>\n",
              "      <td>83807.86</td>\n",
              "      <td>1</td>\n",
              "      <td>0</td>\n",
              "      <td>1</td>\n",
              "      <td>112542.58</td>\n",
              "      <td>0</td>\n",
              "    </tr>\n",
              "    <tr>\n",
              "      <th>2</th>\n",
              "      <td>3</td>\n",
              "      <td>15619304</td>\n",
              "      <td>Onio</td>\n",
              "      <td>502</td>\n",
              "      <td>France</td>\n",
              "      <td>Female</td>\n",
              "      <td>42</td>\n",
              "      <td>8</td>\n",
              "      <td>159660.80</td>\n",
              "      <td>3</td>\n",
              "      <td>1</td>\n",
              "      <td>0</td>\n",
              "      <td>113931.57</td>\n",
              "      <td>1</td>\n",
              "    </tr>\n",
              "    <tr>\n",
              "      <th>3</th>\n",
              "      <td>4</td>\n",
              "      <td>15701354</td>\n",
              "      <td>Boni</td>\n",
              "      <td>699</td>\n",
              "      <td>France</td>\n",
              "      <td>Female</td>\n",
              "      <td>39</td>\n",
              "      <td>1</td>\n",
              "      <td>0.00</td>\n",
              "      <td>2</td>\n",
              "      <td>0</td>\n",
              "      <td>0</td>\n",
              "      <td>93826.63</td>\n",
              "      <td>0</td>\n",
              "    </tr>\n",
              "    <tr>\n",
              "      <th>4</th>\n",
              "      <td>5</td>\n",
              "      <td>15737888</td>\n",
              "      <td>Mitchell</td>\n",
              "      <td>850</td>\n",
              "      <td>Spain</td>\n",
              "      <td>Female</td>\n",
              "      <td>43</td>\n",
              "      <td>2</td>\n",
              "      <td>125510.82</td>\n",
              "      <td>1</td>\n",
              "      <td>1</td>\n",
              "      <td>1</td>\n",
              "      <td>79084.10</td>\n",
              "      <td>0</td>\n",
              "    </tr>\n",
              "  </tbody>\n",
              "</table>\n",
              "</div>"
            ],
            "text/plain": [
              "   RowNumber  CustomerId   Surname  ...  IsActiveMember EstimatedSalary Exited\n",
              "0          1    15634602  Hargrave  ...               1       101348.88      1\n",
              "1          2    15647311      Hill  ...               1       112542.58      0\n",
              "2          3    15619304      Onio  ...               0       113931.57      1\n",
              "3          4    15701354      Boni  ...               0        93826.63      0\n",
              "4          5    15737888  Mitchell  ...               1        79084.10      0\n",
              "\n",
              "[5 rows x 14 columns]"
            ]
          },
          "metadata": {},
          "execution_count": 100
        }
      ]
    },
    {
      "cell_type": "code",
      "metadata": {
        "id": "xcnJiufUZVLe",
        "colab": {
          "base_uri": "https://localhost:8080/",
          "height": 882
        },
        "outputId": "e549edaa-8f7e-4f9a-af3f-cecf888c1968"
      },
      "source": [
        "from matplotlib import pyplot as plt\n",
        "import numpy as np\n",
        "\n",
        "#creating bin in chart\n",
        "numerical_features = ['CreditScore','Age','Tenure','Balance','NumOfProducts','EstimatedSalary']\n",
        "fig, ax = plt.subplots(3, 2, figsize=(20, 15))\n",
        "# Use the following code to plot two overlays of histogram per each numerical_features, use a color of blue and orange, respectively\n",
        "df_load[df_load.Exited == 0][numerical_features].hist(bins=20, color='blue', alpha=0.5, ax=ax)\n",
        "df_load[df_load.Exited == 1][numerical_features].hist(bins=20, color='orange', alpha=0.5, ax=ax)\n",
        "plt.show()"
      ],
      "execution_count": 101,
      "outputs": [
        {
          "output_type": "display_data",
          "data": {
            "image/png": "[encoded data removed]",
            "text/plain": [
              "<Figure size 1440x1080 with 6 Axes>"
            ]
          },
          "metadata": {}
        }
      ]
    },
    {
      "cell_type": "code",
      "metadata": {
        "id": "1u5XtnHDadpE",
        "colab": {
          "base_uri": "https://localhost:8080/",
          "height": 202
        },
        "outputId": "8fd486c1-3f47-425f-f5e4-0f849aad0b7f"
      },
      "source": [
        "df_load.head()"
      ],
      "execution_count": 102,
      "outputs": [
        {
          "output_type": "execute_result",
          "data": {
            "text/html": [
              "<div>\n",
              "<style scoped>\n",
              "    .dataframe tbody tr th:only-of-type {\n",
              "        vertical-align: middle;\n",
              "    }\n",
              "\n",
              "    .dataframe tbody tr th {\n",
              "        vertical-align: top;\n",
              "    }\n",
              "\n",
              "    .dataframe thead th {\n",
              "        text-align: right;\n",
              "    }\n",
              "</style>\n",
              "<table border=\"1\" class=\"dataframe\">\n",
              "  <thead>\n",
              "    <tr style=\"text-align: right;\">\n",
              "      <th></th>\n",
              "      <th>RowNumber</th>\n",
              "      <th>CustomerId</th>\n",
              "      <th>Surname</th>\n",
              "      <th>CreditScore</th>\n",
              "      <th>Geography</th>\n",
              "      <th>Gender</th>\n",
              "      <th>Age</th>\n",
              "      <th>Tenure</th>\n",
              "      <th>Balance</th>\n",
              "      <th>NumOfProducts</th>\n",
              "      <th>HasCrCard</th>\n",
              "      <th>IsActiveMember</th>\n",
              "      <th>EstimatedSalary</th>\n",
              "      <th>Exited</th>\n",
              "    </tr>\n",
              "  </thead>\n",
              "  <tbody>\n",
              "    <tr>\n",
              "      <th>0</th>\n",
              "      <td>1</td>\n",
              "      <td>15634602</td>\n",
              "      <td>Hargrave</td>\n",
              "      <td>619</td>\n",
              "      <td>France</td>\n",
              "      <td>Female</td>\n",
              "      <td>42</td>\n",
              "      <td>2</td>\n",
              "      <td>0.00</td>\n",
              "      <td>1</td>\n",
              "      <td>1</td>\n",
              "      <td>1</td>\n",
              "      <td>101348.88</td>\n",
              "      <td>1</td>\n",
              "    </tr>\n",
              "    <tr>\n",
              "      <th>1</th>\n",
              "      <td>2</td>\n",
              "      <td>15647311</td>\n",
              "      <td>Hill</td>\n",
              "      <td>608</td>\n",
              "      <td>Spain</td>\n",
              "      <td>Female</td>\n",
              "      <td>41</td>\n",
              "      <td>1</td>\n",
              "      <td>83807.86</td>\n",
              "      <td>1</td>\n",
              "      <td>0</td>\n",
              "      <td>1</td>\n",
              "      <td>112542.58</td>\n",
              "      <td>0</td>\n",
              "    </tr>\n",
              "    <tr>\n",
              "      <th>2</th>\n",
              "      <td>3</td>\n",
              "      <td>15619304</td>\n",
              "      <td>Onio</td>\n",
              "      <td>502</td>\n",
              "      <td>France</td>\n",
              "      <td>Female</td>\n",
              "      <td>42</td>\n",
              "      <td>8</td>\n",
              "      <td>159660.80</td>\n",
              "      <td>3</td>\n",
              "      <td>1</td>\n",
              "      <td>0</td>\n",
              "      <td>113931.57</td>\n",
              "      <td>1</td>\n",
              "    </tr>\n",
              "    <tr>\n",
              "      <th>3</th>\n",
              "      <td>4</td>\n",
              "      <td>15701354</td>\n",
              "      <td>Boni</td>\n",
              "      <td>699</td>\n",
              "      <td>France</td>\n",
              "      <td>Female</td>\n",
              "      <td>39</td>\n",
              "      <td>1</td>\n",
              "      <td>0.00</td>\n",
              "      <td>2</td>\n",
              "      <td>0</td>\n",
              "      <td>0</td>\n",
              "      <td>93826.63</td>\n",
              "      <td>0</td>\n",
              "    </tr>\n",
              "    <tr>\n",
              "      <th>4</th>\n",
              "      <td>5</td>\n",
              "      <td>15737888</td>\n",
              "      <td>Mitchell</td>\n",
              "      <td>850</td>\n",
              "      <td>Spain</td>\n",
              "      <td>Female</td>\n",
              "      <td>43</td>\n",
              "      <td>2</td>\n",
              "      <td>125510.82</td>\n",
              "      <td>1</td>\n",
              "      <td>1</td>\n",
              "      <td>1</td>\n",
              "      <td>79084.10</td>\n",
              "      <td>0</td>\n",
              "    </tr>\n",
              "  </tbody>\n",
              "</table>\n",
              "</div>"
            ],
            "text/plain": [
              "   RowNumber  CustomerId   Surname  ...  IsActiveMember EstimatedSalary Exited\n",
              "0          1    15634602  Hargrave  ...               1       101348.88      1\n",
              "1          2    15647311      Hill  ...               1       112542.58      0\n",
              "2          3    15619304      Onio  ...               0       113931.57      1\n",
              "3          4    15701354      Boni  ...               0        93826.63      0\n",
              "4          5    15737888  Mitchell  ...               1        79084.10      0\n",
              "\n",
              "[5 rows x 14 columns]"
            ]
          },
          "metadata": {},
          "execution_count": 102
        }
      ]
    },
    {
      "cell_type": "markdown",
      "metadata": {
        "id": "DSg-Ufk_aWW0"
      },
      "source": [
        "### Exploratory Data Analysis (EDA) Variabel Kategorik"
      ]
    },
    {
      "cell_type": "code",
      "metadata": {
        "id": "TCcHceVnaY6M",
        "colab": {
          "base_uri": "https://localhost:8080/",
          "height": 724
        },
        "outputId": "3a5b6fff-74f0-4de3-9bb1-a5e121141514"
      },
      "source": [
        "from matplotlib import pyplot as plt\n",
        "import numpy as np\n",
        "import seaborn as sns\n",
        "sns.set(style='darkgrid')\n",
        "# Your code goes here\n",
        "fig, ax = plt.subplots(2, 2, figsize=(15, 10))\n",
        "sns.countplot(data=df_load, x='Geography', hue='Exited', ax=ax[0][0])\n",
        "sns.countplot(data=df_load, x='Gender', hue='Exited', ax=ax[0][1])\n",
        "sns.countplot(data=df_load, x='HasCrCard', hue='Exited', ax=ax[1][0])\n",
        "sns.countplot(data=df_load, x='IsActiveMember', hue='Exited', ax=ax[1][1])\n",
        "plt.tight_layout()\n",
        "plt.show()"
      ],
      "execution_count": 103,
      "outputs": [
        {
          "output_type": "display_data",
          "data": {
            "image/png": "[encoded data removed]",
            "text/plain": [
              "<Figure size 1080x720 with 4 Axes>"
            ]
          },
          "metadata": {}
        }
      ]
    },
    {
      "cell_type": "markdown",
      "metadata": {
        "id": "lzfm2B6flxld"
      },
      "source": [
        "### Memfilter Duplikasi ID Number Pelanggan"
      ]
    },
    {
      "cell_type": "code",
      "metadata": {
        "id": "rtIDbeeAlyf7",
        "colab": {
          "base_uri": "https://localhost:8080/",
          "height": 35
        },
        "outputId": "0259378e-cd39-4ffb-a6ea-6df5762d49b2"
      },
      "source": [
        "f'Jumlah duplicated values = {df_load.duplicated().sum()}'"
      ],
      "execution_count": 104,
      "outputs": [
        {
          "output_type": "execute_result",
          "data": {
            "application/vnd.google.colaboratory.intrinsic+json": {
              "type": "string"
            },
            "text/plain": [
              "'Jumlah duplicated values = 0'"
            ]
          },
          "metadata": {},
          "execution_count": 104
        }
      ]
    },
    {
      "cell_type": "markdown",
      "metadata": {
        "id": "qF_WyfYWl72s"
      },
      "source": [
        "### Mengatasi Missing Values dengan Penghapusan Rows"
      ]
    },
    {
      "cell_type": "code",
      "metadata": {
        "id": "spR6ADc3l8ny",
        "colab": {
          "base_uri": "https://localhost:8080/"
        },
        "outputId": "f6fef0ef-555f-4860-c09f-3c551d8c9a9d"
      },
      "source": [
        "df_load.isna().sum()"
      ],
      "execution_count": 105,
      "outputs": [
        {
          "output_type": "execute_result",
          "data": {
            "text/plain": [
              "RowNumber          0\n",
              "CustomerId         0\n",
              "Surname            0\n",
              "CreditScore        0\n",
              "Geography          0\n",
              "Gender             0\n",
              "Age                0\n",
              "Tenure             0\n",
              "Balance            0\n",
              "NumOfProducts      0\n",
              "HasCrCard          0\n",
              "IsActiveMember     0\n",
              "EstimatedSalary    0\n",
              "Exited             0\n",
              "dtype: int64"
            ]
          },
          "metadata": {},
          "execution_count": 105
        }
      ]
    },
    {
      "cell_type": "markdown",
      "metadata": {
        "id": "TtwqfOY9cFAl"
      },
      "source": [
        "### Menghapus Unnecessary Columns dari data"
      ]
    },
    {
      "cell_type": "code",
      "metadata": {
        "id": "A1OYUuy8cJqu",
        "colab": {
          "base_uri": "https://localhost:8080/",
          "height": 0
        },
        "outputId": "1c826f96-1f72-4d12-c8c9-5bb5389698ed"
      },
      "source": [
        "df_load.head()"
      ],
      "execution_count": 106,
      "outputs": [
        {
          "output_type": "execute_result",
          "data": {
            "text/html": [
              "<div>\n",
              "<style scoped>\n",
              "    .dataframe tbody tr th:only-of-type {\n",
              "        vertical-align: middle;\n",
              "    }\n",
              "\n",
              "    .dataframe tbody tr th {\n",
              "        vertical-align: top;\n",
              "    }\n",
              "\n",
              "    .dataframe thead th {\n",
              "        text-align: right;\n",
              "    }\n",
              "</style>\n",
              "<table border=\"1\" class=\"dataframe\">\n",
              "  <thead>\n",
              "    <tr style=\"text-align: right;\">\n",
              "      <th></th>\n",
              "      <th>RowNumber</th>\n",
              "      <th>CustomerId</th>\n",
              "      <th>Surname</th>\n",
              "      <th>CreditScore</th>\n",
              "      <th>Geography</th>\n",
              "      <th>Gender</th>\n",
              "      <th>Age</th>\n",
              "      <th>Tenure</th>\n",
              "      <th>Balance</th>\n",
              "      <th>NumOfProducts</th>\n",
              "      <th>HasCrCard</th>\n",
              "      <th>IsActiveMember</th>\n",
              "      <th>EstimatedSalary</th>\n",
              "      <th>Exited</th>\n",
              "    </tr>\n",
              "  </thead>\n",
              "  <tbody>\n",
              "    <tr>\n",
              "      <th>0</th>\n",
              "      <td>1</td>\n",
              "      <td>15634602</td>\n",
              "      <td>Hargrave</td>\n",
              "      <td>619</td>\n",
              "      <td>France</td>\n",
              "      <td>Female</td>\n",
              "      <td>42</td>\n",
              "      <td>2</td>\n",
              "      <td>0.00</td>\n",
              "      <td>1</td>\n",
              "      <td>1</td>\n",
              "      <td>1</td>\n",
              "      <td>101348.88</td>\n",
              "      <td>1</td>\n",
              "    </tr>\n",
              "    <tr>\n",
              "      <th>1</th>\n",
              "      <td>2</td>\n",
              "      <td>15647311</td>\n",
              "      <td>Hill</td>\n",
              "      <td>608</td>\n",
              "      <td>Spain</td>\n",
              "      <td>Female</td>\n",
              "      <td>41</td>\n",
              "      <td>1</td>\n",
              "      <td>83807.86</td>\n",
              "      <td>1</td>\n",
              "      <td>0</td>\n",
              "      <td>1</td>\n",
              "      <td>112542.58</td>\n",
              "      <td>0</td>\n",
              "    </tr>\n",
              "    <tr>\n",
              "      <th>2</th>\n",
              "      <td>3</td>\n",
              "      <td>15619304</td>\n",
              "      <td>Onio</td>\n",
              "      <td>502</td>\n",
              "      <td>France</td>\n",
              "      <td>Female</td>\n",
              "      <td>42</td>\n",
              "      <td>8</td>\n",
              "      <td>159660.80</td>\n",
              "      <td>3</td>\n",
              "      <td>1</td>\n",
              "      <td>0</td>\n",
              "      <td>113931.57</td>\n",
              "      <td>1</td>\n",
              "    </tr>\n",
              "    <tr>\n",
              "      <th>3</th>\n",
              "      <td>4</td>\n",
              "      <td>15701354</td>\n",
              "      <td>Boni</td>\n",
              "      <td>699</td>\n",
              "      <td>France</td>\n",
              "      <td>Female</td>\n",
              "      <td>39</td>\n",
              "      <td>1</td>\n",
              "      <td>0.00</td>\n",
              "      <td>2</td>\n",
              "      <td>0</td>\n",
              "      <td>0</td>\n",
              "      <td>93826.63</td>\n",
              "      <td>0</td>\n",
              "    </tr>\n",
              "    <tr>\n",
              "      <th>4</th>\n",
              "      <td>5</td>\n",
              "      <td>15737888</td>\n",
              "      <td>Mitchell</td>\n",
              "      <td>850</td>\n",
              "      <td>Spain</td>\n",
              "      <td>Female</td>\n",
              "      <td>43</td>\n",
              "      <td>2</td>\n",
              "      <td>125510.82</td>\n",
              "      <td>1</td>\n",
              "      <td>1</td>\n",
              "      <td>1</td>\n",
              "      <td>79084.10</td>\n",
              "      <td>0</td>\n",
              "    </tr>\n",
              "  </tbody>\n",
              "</table>\n",
              "</div>"
            ],
            "text/plain": [
              "   RowNumber  CustomerId   Surname  ...  IsActiveMember EstimatedSalary Exited\n",
              "0          1    15634602  Hargrave  ...               1       101348.88      1\n",
              "1          2    15647311      Hill  ...               1       112542.58      0\n",
              "2          3    15619304      Onio  ...               0       113931.57      1\n",
              "3          4    15701354      Boni  ...               0        93826.63      0\n",
              "4          5    15737888  Mitchell  ...               1        79084.10      0\n",
              "\n",
              "[5 rows x 14 columns]"
            ]
          },
          "metadata": {},
          "execution_count": 106
        }
      ]
    },
    {
      "cell_type": "code",
      "metadata": {
        "id": "E-qLw5QlmqKY",
        "colab": {
          "base_uri": "https://localhost:8080/",
          "height": 0
        },
        "outputId": "0acfd732-eb37-4cd3-ccd7-05aa4f52c5dc"
      },
      "source": [
        "print('\\nPersebaran data sebelum ditangani Outlier: ')\n",
        "print(df_load[['CreditScore','Age','Balance','EstimatedSalary']].describe())\n",
        "\n",
        "# Creating Box Plot\n",
        "import matplotlib.pyplot as plt\n",
        "import seaborn as sns\n",
        "\n",
        "# Masukkan variable\n",
        "plt.figure() # untuk membuat figure baru\n",
        "sns.boxplot(x=df_load['CreditScore'])\n",
        "plt.show()\n",
        "plt.figure() # untuk membuat figure baru\n",
        "sns.boxplot(x=df_load['Age'])\n",
        "plt.show()\n",
        "plt.figure() # untuk membuat figure baru\n",
        "sns.boxplot(x=df_load['Balance'])\n",
        "plt.show()\n",
        "plt.figure() # untuk membuat figure baru\n",
        "sns.boxplot(x=df_load['EstimatedSalary'])\n",
        "plt.show()"
      ],
      "execution_count": 107,
      "outputs": [
        {
          "output_type": "stream",
          "name": "stdout",
          "text": [
            "\n",
            "Persebaran data sebelum ditangani Outlier: \n",
            "        CreditScore           Age        Balance  EstimatedSalary\n",
            "count  10000.000000  10000.000000   10000.000000     10000.000000\n",
            "mean     650.528800     38.921800   76485.889288    100090.239881\n",
            "std       96.653299     10.487806   62397.405202     57510.492818\n",
            "min      350.000000     18.000000       0.000000        11.580000\n",
            "25%      584.000000     32.000000       0.000000     51002.110000\n",
            "50%      652.000000     37.000000   97198.540000    100193.915000\n",
            "75%      718.000000     44.000000  127644.240000    149388.247500\n",
            "max      850.000000     92.000000  250898.090000    199992.480000\n"
          ]
        },
        {
          "output_type": "display_data",
          "data": {
            "image/png": "[encoded data removed]",
            "text/plain": [
              "<Figure size 432x288 with 1 Axes>"
            ]
          },
          "metadata": {}
        },
        {
          "output_type": "display_data",
          "data": {
            "image/png": "[encoded data removed]",
            "text/plain": [
              "<Figure size 432x288 with 1 Axes>"
            ]
          },
          "metadata": {}
        },
        {
          "output_type": "display_data",
          "data": {
            "image/png": "[encoded data removed]",
            "text/plain": [
              "<Figure size 432x288 with 1 Axes>"
            ]
          },
          "metadata": {}
        },
        {
          "output_type": "display_data",
          "data": {
            "image/png": "[encoded data removed]",
            "text/plain": [
              "<Figure size 432x288 with 1 Axes>"
            ]
          },
          "metadata": {}
        }
      ]
    },
    {
      "cell_type": "code",
      "metadata": {
        "id": "zqVuSzZNv7xf",
        "colab": {
          "base_uri": "https://localhost:8080/"
        },
        "outputId": "d2cb6cb9-674b-4749-c77a-4e2338ac1db5"
      },
      "source": [
        "# Handling with IQR\n",
        "Q1 = (df_load[['CreditScore','Age','Balance','EstimatedSalary']]).quantile(0.25)\n",
        "Q3 = (df_load[['CreditScore','Age','Balance','EstimatedSalary']]).quantile(0.75)\n",
        "\n",
        "IQR = Q3 - Q1\n",
        "maximum  = Q3 + (1.5*IQR)\n",
        "print('Nilai Maximum dari masing-masing Variable adalah: ')\n",
        "print(maximum)\n",
        "minimum = Q1 - (1.5*IQR)\n",
        "print('\\nNilai Minimum dari masing-masing Variable adalah: ')\n",
        "print(minimum)\n",
        "\n",
        "more_than     = (df_load > maximum)\n",
        "lower_than    = (df_load < minimum)\n",
        "df_load       = df_load.mask(more_than, maximum, axis=1) \n",
        "df_load       = df_load.mask(lower_than, minimum, axis=1)\n",
        "\n",
        "print('\\nPersebaran data setelah ditangani Outlier: ')\n",
        "print(df_load[['CreditScore','Age','Balance','EstimatedSalary']].describe())"
      ],
      "execution_count": 108,
      "outputs": [
        {
          "output_type": "stream",
          "name": "stdout",
          "text": [
            "Nilai Maximum dari masing-masing Variable adalah: \n",
            "CreditScore           919.00000\n",
            "Age                    62.00000\n",
            "Balance            319110.60000\n",
            "EstimatedSalary    296967.45375\n",
            "dtype: float64\n",
            "\n",
            "Nilai Minimum dari masing-masing Variable adalah: \n",
            "CreditScore           383.00000\n",
            "Age                    14.00000\n",
            "Balance           -191466.36000\n",
            "EstimatedSalary    -96577.09625\n",
            "dtype: float64\n",
            "\n",
            "Persebaran data setelah ditangani Outlier: \n",
            "        CreditScore           Age        Balance  EstimatedSalary\n",
            "count  10000.000000  10000.000000   10000.000000     10000.000000\n",
            "mean     650.561300     38.660800   76485.889288    100090.239881\n",
            "std       96.558702      9.746704   62397.405202     57510.492818\n",
            "min      383.000000     18.000000       0.000000        11.580000\n",
            "25%      584.000000     32.000000       0.000000     51002.110000\n",
            "50%      652.000000     37.000000   97198.540000    100193.915000\n",
            "75%      718.000000     44.000000  127644.240000    149388.247500\n",
            "max      850.000000     62.000000  250898.090000    199992.480000\n"
          ]
        }
      ]
    },
    {
      "cell_type": "code",
      "metadata": {
        "id": "tmEaPU35cHC5",
        "colab": {
          "base_uri": "https://localhost:8080/",
          "height": 0
        },
        "outputId": "2ad4c82f-4aa1-48a8-b144-b5b74e644973"
      },
      "source": [
        "#Remove the unnecessary columns customerID & UpdatedAt\n",
        "cleaned_df = df_load.drop(['RowNumber','CustomerId','Surname'], axis=1)\n",
        "cleaned_df.head()"
      ],
      "execution_count": 109,
      "outputs": [
        {
          "output_type": "execute_result",
          "data": {
            "text/html": [
              "<div>\n",
              "<style scoped>\n",
              "    .dataframe tbody tr th:only-of-type {\n",
              "        vertical-align: middle;\n",
              "    }\n",
              "\n",
              "    .dataframe tbody tr th {\n",
              "        vertical-align: top;\n",
              "    }\n",
              "\n",
              "    .dataframe thead th {\n",
              "        text-align: right;\n",
              "    }\n",
              "</style>\n",
              "<table border=\"1\" class=\"dataframe\">\n",
              "  <thead>\n",
              "    <tr style=\"text-align: right;\">\n",
              "      <th></th>\n",
              "      <th>CreditScore</th>\n",
              "      <th>Geography</th>\n",
              "      <th>Gender</th>\n",
              "      <th>Age</th>\n",
              "      <th>Tenure</th>\n",
              "      <th>Balance</th>\n",
              "      <th>NumOfProducts</th>\n",
              "      <th>HasCrCard</th>\n",
              "      <th>IsActiveMember</th>\n",
              "      <th>EstimatedSalary</th>\n",
              "      <th>Exited</th>\n",
              "    </tr>\n",
              "  </thead>\n",
              "  <tbody>\n",
              "    <tr>\n",
              "      <th>0</th>\n",
              "      <td>619</td>\n",
              "      <td>France</td>\n",
              "      <td>Female</td>\n",
              "      <td>42</td>\n",
              "      <td>2</td>\n",
              "      <td>0.00</td>\n",
              "      <td>1</td>\n",
              "      <td>1</td>\n",
              "      <td>1</td>\n",
              "      <td>101348.88</td>\n",
              "      <td>1</td>\n",
              "    </tr>\n",
              "    <tr>\n",
              "      <th>1</th>\n",
              "      <td>608</td>\n",
              "      <td>Spain</td>\n",
              "      <td>Female</td>\n",
              "      <td>41</td>\n",
              "      <td>1</td>\n",
              "      <td>83807.86</td>\n",
              "      <td>1</td>\n",
              "      <td>0</td>\n",
              "      <td>1</td>\n",
              "      <td>112542.58</td>\n",
              "      <td>0</td>\n",
              "    </tr>\n",
              "    <tr>\n",
              "      <th>2</th>\n",
              "      <td>502</td>\n",
              "      <td>France</td>\n",
              "      <td>Female</td>\n",
              "      <td>42</td>\n",
              "      <td>8</td>\n",
              "      <td>159660.80</td>\n",
              "      <td>3</td>\n",
              "      <td>1</td>\n",
              "      <td>0</td>\n",
              "      <td>113931.57</td>\n",
              "      <td>1</td>\n",
              "    </tr>\n",
              "    <tr>\n",
              "      <th>3</th>\n",
              "      <td>699</td>\n",
              "      <td>France</td>\n",
              "      <td>Female</td>\n",
              "      <td>39</td>\n",
              "      <td>1</td>\n",
              "      <td>0.00</td>\n",
              "      <td>2</td>\n",
              "      <td>0</td>\n",
              "      <td>0</td>\n",
              "      <td>93826.63</td>\n",
              "      <td>0</td>\n",
              "    </tr>\n",
              "    <tr>\n",
              "      <th>4</th>\n",
              "      <td>850</td>\n",
              "      <td>Spain</td>\n",
              "      <td>Female</td>\n",
              "      <td>43</td>\n",
              "      <td>2</td>\n",
              "      <td>125510.82</td>\n",
              "      <td>1</td>\n",
              "      <td>1</td>\n",
              "      <td>1</td>\n",
              "      <td>79084.10</td>\n",
              "      <td>0</td>\n",
              "    </tr>\n",
              "  </tbody>\n",
              "</table>\n",
              "</div>"
            ],
            "text/plain": [
              "   CreditScore Geography  Gender  ...  IsActiveMember  EstimatedSalary  Exited\n",
              "0          619    France  Female  ...               1        101348.88       1\n",
              "1          608     Spain  Female  ...               1        112542.58       0\n",
              "2          502    France  Female  ...               0        113931.57       1\n",
              "3          699    France  Female  ...               0         93826.63       0\n",
              "4          850     Spain  Female  ...               1         79084.10       0\n",
              "\n",
              "[5 rows x 11 columns]"
            ]
          },
          "metadata": {},
          "execution_count": 109
        }
      ]
    },
    {
      "cell_type": "markdown",
      "metadata": {
        "id": "juAR4y_Fc8RF"
      },
      "source": [
        "### Encoding Data"
      ]
    },
    {
      "cell_type": "code",
      "metadata": {
        "id": "nfB1LWtzc-Gw",
        "colab": {
          "base_uri": "https://localhost:8080/",
          "height": 0
        },
        "outputId": "50165451-c6e8-435d-f8ac-e66409f6f883"
      },
      "source": [
        "from sklearn.preprocessing import LabelEncoder\n",
        "#Convert all the non-numeric columns to numerical data types\n",
        "for column in cleaned_df.columns:\n",
        "    if cleaned_df[column].dtype == np.number: continue\n",
        "    # Perform encoding for each non-numeric column\n",
        "    cleaned_df[column] = LabelEncoder().fit_transform(cleaned_df[column])\n",
        "cleaned_df.describe()"
      ],
      "execution_count": 110,
      "outputs": [
        {
          "output_type": "stream",
          "name": "stderr",
          "text": [
            "/usr/local/lib/python3.7/dist-packages/ipykernel_launcher.py:4: DeprecationWarning: Converting `np.inexact` or `np.floating` to a dtype is deprecated. The current result is `float64` which is not strictly correct.\n",
            "  after removing the cwd from sys.path.\n"
          ]
        },
        {
          "output_type": "execute_result",
          "data": {
            "text/html": [
              "<div>\n",
              "<style scoped>\n",
              "    .dataframe tbody tr th:only-of-type {\n",
              "        vertical-align: middle;\n",
              "    }\n",
              "\n",
              "    .dataframe tbody tr th {\n",
              "        vertical-align: top;\n",
              "    }\n",
              "\n",
              "    .dataframe thead th {\n",
              "        text-align: right;\n",
              "    }\n",
              "</style>\n",
              "<table border=\"1\" class=\"dataframe\">\n",
              "  <thead>\n",
              "    <tr style=\"text-align: right;\">\n",
              "      <th></th>\n",
              "      <th>CreditScore</th>\n",
              "      <th>Geography</th>\n",
              "      <th>Gender</th>\n",
              "      <th>Age</th>\n",
              "      <th>Tenure</th>\n",
              "      <th>Balance</th>\n",
              "      <th>NumOfProducts</th>\n",
              "      <th>HasCrCard</th>\n",
              "      <th>IsActiveMember</th>\n",
              "      <th>EstimatedSalary</th>\n",
              "      <th>Exited</th>\n",
              "    </tr>\n",
              "  </thead>\n",
              "  <tbody>\n",
              "    <tr>\n",
              "      <th>count</th>\n",
              "      <td>10000.000000</td>\n",
              "      <td>10000.000000</td>\n",
              "      <td>10000.000000</td>\n",
              "      <td>10000.000000</td>\n",
              "      <td>10000.000000</td>\n",
              "      <td>10000.000000</td>\n",
              "      <td>10000.000000</td>\n",
              "      <td>10000.00000</td>\n",
              "      <td>10000.000000</td>\n",
              "      <td>10000.000000</td>\n",
              "      <td>10000.000000</td>\n",
              "    </tr>\n",
              "    <tr>\n",
              "      <th>mean</th>\n",
              "      <td>249.594300</td>\n",
              "      <td>0.746300</td>\n",
              "      <td>0.545700</td>\n",
              "      <td>20.660800</td>\n",
              "      <td>5.012800</td>\n",
              "      <td>76485.889288</td>\n",
              "      <td>0.530200</td>\n",
              "      <td>0.70550</td>\n",
              "      <td>0.515100</td>\n",
              "      <td>100090.239881</td>\n",
              "      <td>0.203700</td>\n",
              "    </tr>\n",
              "    <tr>\n",
              "      <th>std</th>\n",
              "      <td>96.470603</td>\n",
              "      <td>0.827529</td>\n",
              "      <td>0.497932</td>\n",
              "      <td>9.746704</td>\n",
              "      <td>2.892174</td>\n",
              "      <td>62397.405202</td>\n",
              "      <td>0.581654</td>\n",
              "      <td>0.45584</td>\n",
              "      <td>0.499797</td>\n",
              "      <td>57510.492818</td>\n",
              "      <td>0.402769</td>\n",
              "    </tr>\n",
              "    <tr>\n",
              "      <th>min</th>\n",
              "      <td>0.000000</td>\n",
              "      <td>0.000000</td>\n",
              "      <td>0.000000</td>\n",
              "      <td>0.000000</td>\n",
              "      <td>0.000000</td>\n",
              "      <td>0.000000</td>\n",
              "      <td>0.000000</td>\n",
              "      <td>0.00000</td>\n",
              "      <td>0.000000</td>\n",
              "      <td>11.580000</td>\n",
              "      <td>0.000000</td>\n",
              "    </tr>\n",
              "    <tr>\n",
              "      <th>25%</th>\n",
              "      <td>183.000000</td>\n",
              "      <td>0.000000</td>\n",
              "      <td>0.000000</td>\n",
              "      <td>14.000000</td>\n",
              "      <td>3.000000</td>\n",
              "      <td>0.000000</td>\n",
              "      <td>0.000000</td>\n",
              "      <td>0.00000</td>\n",
              "      <td>0.000000</td>\n",
              "      <td>51002.110000</td>\n",
              "      <td>0.000000</td>\n",
              "    </tr>\n",
              "    <tr>\n",
              "      <th>50%</th>\n",
              "      <td>251.000000</td>\n",
              "      <td>0.000000</td>\n",
              "      <td>1.000000</td>\n",
              "      <td>19.000000</td>\n",
              "      <td>5.000000</td>\n",
              "      <td>97198.540000</td>\n",
              "      <td>0.000000</td>\n",
              "      <td>1.00000</td>\n",
              "      <td>1.000000</td>\n",
              "      <td>100193.915000</td>\n",
              "      <td>0.000000</td>\n",
              "    </tr>\n",
              "    <tr>\n",
              "      <th>75%</th>\n",
              "      <td>317.000000</td>\n",
              "      <td>1.000000</td>\n",
              "      <td>1.000000</td>\n",
              "      <td>26.000000</td>\n",
              "      <td>7.000000</td>\n",
              "      <td>127644.240000</td>\n",
              "      <td>1.000000</td>\n",
              "      <td>1.00000</td>\n",
              "      <td>1.000000</td>\n",
              "      <td>149388.247500</td>\n",
              "      <td>0.000000</td>\n",
              "    </tr>\n",
              "    <tr>\n",
              "      <th>max</th>\n",
              "      <td>449.000000</td>\n",
              "      <td>2.000000</td>\n",
              "      <td>1.000000</td>\n",
              "      <td>44.000000</td>\n",
              "      <td>10.000000</td>\n",
              "      <td>250898.090000</td>\n",
              "      <td>3.000000</td>\n",
              "      <td>1.00000</td>\n",
              "      <td>1.000000</td>\n",
              "      <td>199992.480000</td>\n",
              "      <td>1.000000</td>\n",
              "    </tr>\n",
              "  </tbody>\n",
              "</table>\n",
              "</div>"
            ],
            "text/plain": [
              "        CreditScore     Geography  ...  EstimatedSalary        Exited\n",
              "count  10000.000000  10000.000000  ...     10000.000000  10000.000000\n",
              "mean     249.594300      0.746300  ...    100090.239881      0.203700\n",
              "std       96.470603      0.827529  ...     57510.492818      0.402769\n",
              "min        0.000000      0.000000  ...        11.580000      0.000000\n",
              "25%      183.000000      0.000000  ...     51002.110000      0.000000\n",
              "50%      251.000000      0.000000  ...    100193.915000      0.000000\n",
              "75%      317.000000      1.000000  ...    149388.247500      0.000000\n",
              "max      449.000000      2.000000  ...    199992.480000      1.000000\n",
              "\n",
              "[8 rows x 11 columns]"
            ]
          },
          "metadata": {},
          "execution_count": 110
        }
      ]
    },
    {
      "cell_type": "code",
      "metadata": {
        "id": "vXCdlt7ojPvp",
        "colab": {
          "base_uri": "https://localhost:8080/",
          "height": 0
        },
        "outputId": "34574b8b-ff5b-4979-e101-edc6d2b38bb3"
      },
      "source": [
        "cleaned_df.head()"
      ],
      "execution_count": 111,
      "outputs": [
        {
          "output_type": "execute_result",
          "data": {
            "text/html": [
              "<div>\n",
              "<style scoped>\n",
              "    .dataframe tbody tr th:only-of-type {\n",
              "        vertical-align: middle;\n",
              "    }\n",
              "\n",
              "    .dataframe tbody tr th {\n",
              "        vertical-align: top;\n",
              "    }\n",
              "\n",
              "    .dataframe thead th {\n",
              "        text-align: right;\n",
              "    }\n",
              "</style>\n",
              "<table border=\"1\" class=\"dataframe\">\n",
              "  <thead>\n",
              "    <tr style=\"text-align: right;\">\n",
              "      <th></th>\n",
              "      <th>CreditScore</th>\n",
              "      <th>Geography</th>\n",
              "      <th>Gender</th>\n",
              "      <th>Age</th>\n",
              "      <th>Tenure</th>\n",
              "      <th>Balance</th>\n",
              "      <th>NumOfProducts</th>\n",
              "      <th>HasCrCard</th>\n",
              "      <th>IsActiveMember</th>\n",
              "      <th>EstimatedSalary</th>\n",
              "      <th>Exited</th>\n",
              "    </tr>\n",
              "  </thead>\n",
              "  <tbody>\n",
              "    <tr>\n",
              "      <th>0</th>\n",
              "      <td>218</td>\n",
              "      <td>0</td>\n",
              "      <td>0</td>\n",
              "      <td>24</td>\n",
              "      <td>2</td>\n",
              "      <td>0.00</td>\n",
              "      <td>0</td>\n",
              "      <td>1</td>\n",
              "      <td>1</td>\n",
              "      <td>101348.88</td>\n",
              "      <td>1</td>\n",
              "    </tr>\n",
              "    <tr>\n",
              "      <th>1</th>\n",
              "      <td>207</td>\n",
              "      <td>2</td>\n",
              "      <td>0</td>\n",
              "      <td>23</td>\n",
              "      <td>1</td>\n",
              "      <td>83807.86</td>\n",
              "      <td>0</td>\n",
              "      <td>0</td>\n",
              "      <td>1</td>\n",
              "      <td>112542.58</td>\n",
              "      <td>0</td>\n",
              "    </tr>\n",
              "    <tr>\n",
              "      <th>2</th>\n",
              "      <td>101</td>\n",
              "      <td>0</td>\n",
              "      <td>0</td>\n",
              "      <td>24</td>\n",
              "      <td>8</td>\n",
              "      <td>159660.80</td>\n",
              "      <td>2</td>\n",
              "      <td>1</td>\n",
              "      <td>0</td>\n",
              "      <td>113931.57</td>\n",
              "      <td>1</td>\n",
              "    </tr>\n",
              "    <tr>\n",
              "      <th>3</th>\n",
              "      <td>298</td>\n",
              "      <td>0</td>\n",
              "      <td>0</td>\n",
              "      <td>21</td>\n",
              "      <td>1</td>\n",
              "      <td>0.00</td>\n",
              "      <td>1</td>\n",
              "      <td>0</td>\n",
              "      <td>0</td>\n",
              "      <td>93826.63</td>\n",
              "      <td>0</td>\n",
              "    </tr>\n",
              "    <tr>\n",
              "      <th>4</th>\n",
              "      <td>449</td>\n",
              "      <td>2</td>\n",
              "      <td>0</td>\n",
              "      <td>25</td>\n",
              "      <td>2</td>\n",
              "      <td>125510.82</td>\n",
              "      <td>0</td>\n",
              "      <td>1</td>\n",
              "      <td>1</td>\n",
              "      <td>79084.10</td>\n",
              "      <td>0</td>\n",
              "    </tr>\n",
              "  </tbody>\n",
              "</table>\n",
              "</div>"
            ],
            "text/plain": [
              "   CreditScore  Geography  Gender  ...  IsActiveMember  EstimatedSalary  Exited\n",
              "0          218          0       0  ...               1        101348.88       1\n",
              "1          207          2       0  ...               1        112542.58       0\n",
              "2          101          0       0  ...               0        113931.57       1\n",
              "3          298          0       0  ...               0         93826.63       0\n",
              "4          449          2       0  ...               1         79084.10       0\n",
              "\n",
              "[5 rows x 11 columns]"
            ]
          },
          "metadata": {},
          "execution_count": 111
        }
      ]
    },
    {
      "cell_type": "markdown",
      "metadata": {
        "id": "l2zC2r7LdFq8"
      },
      "source": [
        "### Splitting Dataset"
      ]
    },
    {
      "cell_type": "code",
      "metadata": {
        "id": "0FZH8_N8dGqU",
        "colab": {
          "base_uri": "https://localhost:8080/"
        },
        "outputId": "f8192eef-2e5a-446c-cf0a-f67f35df7550"
      },
      "source": [
        "from sklearn.model_selection import train_test_split\n",
        "\n",
        "# Predictor dan target\n",
        "x = cleaned_df.drop('Exited', axis = 1)\n",
        "y = cleaned_df['Exited']\n",
        "# Splitting train and test\n",
        "x_train, x_test, y_train, y_test = train_test_split(x, y, test_size=0.3, random_state=42)\n",
        "# Print according to the expected result\n",
        "print('Jumlah baris dan kolom dari x_train adalah:', x_train.shape,', sedangkan Jumlah baris dan kolom dari y_train adalah:', y_train.shape)\n",
        "print('Prosentase Churn di data Training adalah:')\n",
        "print(y_train.value_counts(normalize=True))\n",
        "print('Jumlah baris dan kolom dari x_test adalah:', x_test.shape,', sedangkan Jumlah baris dan kolom dari y_test adalah:', y_test.shape)\n",
        "print('Prosentase Churn di data Testing adalah:')\n",
        "print(y_test.value_counts(normalize=True))\n"
      ],
      "execution_count": 112,
      "outputs": [
        {
          "output_type": "stream",
          "name": "stdout",
          "text": [
            "Jumlah baris dan kolom dari x_train adalah: (7000, 10) , sedangkan Jumlah baris dan kolom dari y_train adalah: (7000,)\n",
            "Prosentase Churn di data Training adalah:\n",
            "0    0.792429\n",
            "1    0.207571\n",
            "Name: Exited, dtype: float64\n",
            "Jumlah baris dan kolom dari x_test adalah: (3000, 10) , sedangkan Jumlah baris dan kolom dari y_test adalah: (3000,)\n",
            "Prosentase Churn di data Testing adalah:\n",
            "0    0.805333\n",
            "1    0.194667\n",
            "Name: Exited, dtype: float64\n"
          ]
        }
      ]
    },
    {
      "cell_type": "markdown",
      "metadata": {
        "id": "w6VpBI35dN8y"
      },
      "source": [
        "### Pembuatan Model"
      ]
    },
    {
      "cell_type": "code",
      "metadata": {
        "id": "aW23bcCVdO8j",
        "colab": {
          "base_uri": "https://localhost:8080/"
        },
        "outputId": "1bef297b-7ca7-4d36-a335-d20e7f1bf43e"
      },
      "source": [
        "from sklearn.linear_model import LogisticRegression\n",
        "log_model = LogisticRegression().fit(x_train, y_train)\n",
        "print('Model Logistic Regression yang terbentuk adalah: \\n', log_model)"
      ],
      "execution_count": 113,
      "outputs": [
        {
          "output_type": "stream",
          "name": "stdout",
          "text": [
            "Model Logistic Regression yang terbentuk adalah: \n",
            " LogisticRegression(C=1.0, class_weight=None, dual=False, fit_intercept=True,\n",
            "                   intercept_scaling=1, l1_ratio=None, max_iter=100,\n",
            "                   multi_class='auto', n_jobs=None, penalty='l2',\n",
            "                   random_state=None, solver='lbfgs', tol=0.0001, verbose=0,\n",
            "                   warm_start=False)\n"
          ]
        }
      ]
    },
    {
      "cell_type": "markdown",
      "metadata": {
        "id": "Dy6WL8yVdTI7"
      },
      "source": [
        "### Performansi Model Training - Menampilkan Metrics"
      ]
    },
    {
      "cell_type": "code",
      "metadata": {
        "id": "POauhuGSdQzr",
        "colab": {
          "base_uri": "https://localhost:8080/"
        },
        "outputId": "9676a6d9-17c3-4cfc-ef20-2d9c71caf972"
      },
      "source": [
        "from sklearn.metrics import classification_report\n",
        "# Predict\n",
        "y_train_pred = log_model.predict(x_train)\n",
        "# Print classification report\n",
        "print('Classification Report Training Model (Logistic Regression) :')\n",
        "print(classification_report(y_train, y_train_pred))"
      ],
      "execution_count": 114,
      "outputs": [
        {
          "output_type": "stream",
          "name": "stdout",
          "text": [
            "Classification Report Training Model (Logistic Regression) :\n",
            "              precision    recall  f1-score   support\n",
            "\n",
            "           0       0.80      0.96      0.88      5547\n",
            "           1       0.39      0.08      0.14      1453\n",
            "\n",
            "    accuracy                           0.78      7000\n",
            "   macro avg       0.59      0.52      0.51      7000\n",
            "weighted avg       0.71      0.78      0.72      7000\n",
            "\n"
          ]
        }
      ]
    },
    {
      "cell_type": "markdown",
      "metadata": {
        "id": "_nK4MmrFdY-s"
      },
      "source": [
        "### Performansi Model Training - Menampilkan Plots"
      ]
    },
    {
      "cell_type": "code",
      "metadata": {
        "id": "F7mRuCAvdWGL",
        "colab": {
          "base_uri": "https://localhost:8080/",
          "height": 0
        },
        "outputId": "379a47a5-bdd8-46a4-baf1-e21d368037e9"
      },
      "source": [
        "from sklearn.metrics import confusion_matrix\n",
        "from matplotlib import pyplot as plt\n",
        "import seaborn as sns\n",
        "\n",
        "# Form confusion matrix as a DataFrame\n",
        "confusion_matrix_df = pd.DataFrame((confusion_matrix(y_train, y_train_pred)), ('No churn', 'Churn'), ('No churn', 'Churn'))\n",
        "\n",
        "# Plot confusion matrix\n",
        "plt.figure()\n",
        "heatmap = sns.heatmap(confusion_matrix_df, annot=True, annot_kws={'size': 14}, fmt='d', cmap='YlGnBu')\n",
        "heatmap.yaxis.set_ticklabels(heatmap.yaxis.get_ticklabels(), rotation=0, ha='right', fontsize=14)\n",
        "heatmap.xaxis.set_ticklabels(heatmap.xaxis.get_ticklabels(), rotation=0, ha='right', fontsize=14)\n",
        "\n",
        "plt.title('Confusion Matrix for Training Model\\n(Logistic Regression)', fontsize=18, color='darkblue')\n",
        "plt.ylabel('True label', fontsize=14)\n",
        "plt.xlabel('Predicted label', fontsize=14)\n",
        "plt.show()"
      ],
      "execution_count": 115,
      "outputs": [
        {
          "output_type": "display_data",
          "data": {
            "image/png": "[encoded data removed]",
            "text/plain": [
              "<Figure size 432x288 with 2 Axes>"
            ]
          },
          "metadata": {}
        }
      ]
    },
    {
      "cell_type": "markdown",
      "metadata": {
        "id": "ke_sb7MBdgSU"
      },
      "source": [
        "### Performansi Data Testing - Menampilkan Metrics"
      ]
    },
    {
      "cell_type": "code",
      "metadata": {
        "id": "OEuxL__wdKZd",
        "colab": {
          "base_uri": "https://localhost:8080/"
        },
        "outputId": "29b4c51c-7524-48c0-8139-a7ab173226ed"
      },
      "source": [
        "from sklearn.metrics import classification_report\n",
        "# Predict\n",
        "y_test_pred = log_model.predict(x_test)\n",
        "# Print classification report\n",
        "print('Classification Report Testing Model (Logistic Regression):')\n",
        "print(classification_report(y_test, y_test_pred))"
      ],
      "execution_count": 116,
      "outputs": [
        {
          "output_type": "stream",
          "name": "stdout",
          "text": [
            "Classification Report Testing Model (Logistic Regression):\n",
            "              precision    recall  f1-score   support\n",
            "\n",
            "           0       0.82      0.96      0.88      2416\n",
            "           1       0.41      0.11      0.17       584\n",
            "\n",
            "    accuracy                           0.80      3000\n",
            "   macro avg       0.61      0.53      0.53      3000\n",
            "weighted avg       0.74      0.80      0.74      3000\n",
            "\n"
          ]
        }
      ]
    },
    {
      "cell_type": "markdown",
      "metadata": {
        "id": "EyrpP6sddk0B"
      },
      "source": [
        "### Performansi Data Testing - Menampilkan Plots"
      ]
    },
    {
      "cell_type": "code",
      "metadata": {
        "id": "Okad4VDqdlyn",
        "colab": {
          "base_uri": "https://localhost:8080/",
          "height": 0
        },
        "outputId": "590ee6e7-8118-4631-de9a-078e81ea0dc2"
      },
      "source": [
        "from sklearn.metrics import confusion_matrix\n",
        "from matplotlib import pyplot as plt\n",
        "import seaborn as sns\n",
        "\n",
        "# Form confusion matrix as a DataFrame\n",
        "confusion_matrix_df = pd.DataFrame((confusion_matrix(y_test, y_test_pred)), ('No churn', 'Churn'), ('No churn', 'Churn'))\n",
        "\n",
        "# Plot confusion matrix\n",
        "plt.figure()\n",
        "heatmap = sns.heatmap(confusion_matrix_df, annot=True, annot_kws={'size': 14}, fmt='d', cmap='YlGnBu')\n",
        "heatmap.yaxis.set_ticklabels(heatmap.yaxis.get_ticklabels(), rotation=0, ha='right', fontsize=14)\n",
        "heatmap.xaxis.set_ticklabels(heatmap.xaxis.get_ticklabels(), rotation=0, ha='right', fontsize=14)\n",
        "\n",
        "plt.title('Confusion Matrix for Testing Model\\n(Logistic Regression)\\n', fontsize=18, color='darkblue')\n",
        "plt.ylabel('True label', fontsize=14)\n",
        "plt.xlabel('Predicted label', fontsize=14)\n",
        "plt.show()"
      ],
      "execution_count": 117,
      "outputs": [
        {
          "output_type": "display_data",
          "data": {
            "image/png": "[encoded data removed]",
            "text/plain": [
              "<Figure size 432x288 with 2 Axes>"
            ]
          },
          "metadata": {}
        }
      ]
    },
    {
      "cell_type": "markdown",
      "metadata": {
        "id": "1aVbC5fidts9"
      },
      "source": [
        "### Pembuatan Model"
      ]
    },
    {
      "cell_type": "code",
      "metadata": {
        "id": "0c5QsBY5dvPp",
        "colab": {
          "base_uri": "https://localhost:8080/"
        },
        "outputId": "59978030-cb13-4fee-f294-4185af43bcf7"
      },
      "source": [
        "from sklearn.ensemble import RandomForestClassifier\n",
        "#Train the model\n",
        "rdf_model = RandomForestClassifier().fit(x_train, y_train)\n",
        "print(rdf_model)"
      ],
      "execution_count": 118,
      "outputs": [
        {
          "output_type": "stream",
          "name": "stdout",
          "text": [
            "RandomForestClassifier(bootstrap=True, ccp_alpha=0.0, class_weight=None,\n",
            "                       criterion='gini', max_depth=None, max_features='auto',\n",
            "                       max_leaf_nodes=None, max_samples=None,\n",
            "                       min_impurity_decrease=0.0, min_impurity_split=None,\n",
            "                       min_samples_leaf=1, min_samples_split=2,\n",
            "                       min_weight_fraction_leaf=0.0, n_estimators=100,\n",
            "                       n_jobs=None, oob_score=False, random_state=None,\n",
            "                       verbose=0, warm_start=False)\n"
          ]
        }
      ]
    },
    {
      "cell_type": "markdown",
      "metadata": {
        "id": "7bSUjo5ddzN2"
      },
      "source": [
        "### Performansi Data Training - Menampilkan Metrics"
      ]
    },
    {
      "cell_type": "code",
      "metadata": {
        "id": "RDE7lmrJd2Fl",
        "colab": {
          "base_uri": "https://localhost:8080/"
        },
        "outputId": "d9acd9b7-04a5-4741-9bc3-b358ee633104"
      },
      "source": [
        "from sklearn.metrics import classification_report\n",
        "y_train_pred = rdf_model.predict(x_train)\n",
        "print('Classification Report Training Model (Random Forest) :')\n",
        "print(classification_report(y_train, y_train_pred))"
      ],
      "execution_count": 119,
      "outputs": [
        {
          "output_type": "stream",
          "name": "stdout",
          "text": [
            "Classification Report Training Model (Random Forest) :\n",
            "              precision    recall  f1-score   support\n",
            "\n",
            "           0       1.00      1.00      1.00      5547\n",
            "           1       1.00      1.00      1.00      1453\n",
            "\n",
            "    accuracy                           1.00      7000\n",
            "   macro avg       1.00      1.00      1.00      7000\n",
            "weighted avg       1.00      1.00      1.00      7000\n",
            "\n"
          ]
        }
      ]
    },
    {
      "cell_type": "markdown",
      "metadata": {
        "id": "NfYlY6p-d6Ic"
      },
      "source": [
        "### Performansi Data Training - Menampilkan Plots"
      ]
    },
    {
      "cell_type": "code",
      "metadata": {
        "id": "Oz8Gi1WCd2nh",
        "colab": {
          "base_uri": "https://localhost:8080/",
          "height": 0
        },
        "outputId": "25e0b971-f885-4df1-e356-2a3ac38ad4ab"
      },
      "source": [
        "from sklearn.metrics import confusion_matrix\n",
        "from matplotlib import pyplot as plt\n",
        "import seaborn as sns\n",
        "\n",
        "# Form confusion matrix as a DataFrame\n",
        "confusion_matrix_df = pd.DataFrame((confusion_matrix(y_train, y_train_pred)), ('No churn', 'Churn'), ('No churn', 'Churn'))\n",
        "\n",
        "# Plot confusion matrix\n",
        "plt.figure()\n",
        "heatmap = sns.heatmap(confusion_matrix_df, annot=True, annot_kws={'size': 14}, fmt='d', cmap='YlGnBu')\n",
        "heatmap.yaxis.set_ticklabels(heatmap.yaxis.get_ticklabels(), rotation=0, ha='right', fontsize=14)\n",
        "heatmap.xaxis.set_ticklabels(heatmap.xaxis.get_ticklabels(), rotation=0, ha='right', fontsize=14)\n",
        "\n",
        "plt.title('Confusion Matrix for Training Model\\n(Random Forest)', fontsize=18, color='darkblue')\n",
        "plt.ylabel('True label', fontsize=14)\n",
        "plt.xlabel('Predicted label', fontsize=14)\n",
        "plt.show()"
      ],
      "execution_count": 120,
      "outputs": [
        {
          "output_type": "display_data",
          "data": {
            "image/png": "[encoded data removed]",
            "text/plain": [
              "<Figure size 432x288 with 2 Axes>"
            ]
          },
          "metadata": {}
        }
      ]
    },
    {
      "cell_type": "markdown",
      "metadata": {
        "id": "oaCDPSW0d_1w"
      },
      "source": [
        "### Performansi Data Testing - Menampilkan Metrics"
      ]
    },
    {
      "cell_type": "code",
      "metadata": {
        "id": "8YEI20zZeAz3",
        "colab": {
          "base_uri": "https://localhost:8080/"
        },
        "outputId": "505a475f-f073-48fb-8f75-aad570bbd880"
      },
      "source": [
        "from sklearn.metrics import classification_report\n",
        "# Predict\n",
        "y_test_pred = rdf_model.predict(x_test)\n",
        "# Print classification report\n",
        "print('Classification Report Testing Model (Random Forest Classifier):')\n",
        "print(classification_report(y_test, y_test_pred))"
      ],
      "execution_count": 121,
      "outputs": [
        {
          "output_type": "stream",
          "name": "stdout",
          "text": [
            "Classification Report Testing Model (Random Forest Classifier):\n",
            "              precision    recall  f1-score   support\n",
            "\n",
            "           0       0.88      0.97      0.92      2416\n",
            "           1       0.77      0.45      0.56       584\n",
            "\n",
            "    accuracy                           0.87      3000\n",
            "   macro avg       0.82      0.71      0.74      3000\n",
            "weighted avg       0.86      0.87      0.85      3000\n",
            "\n"
          ]
        }
      ]
    },
    {
      "cell_type": "markdown",
      "metadata": {
        "id": "9UnnercHePFA"
      },
      "source": [
        "### Performansi Data Testing - Menampilkan Plots"
      ]
    },
    {
      "cell_type": "code",
      "metadata": {
        "id": "d1hq5hwyeCTC",
        "colab": {
          "base_uri": "https://localhost:8080/",
          "height": 0
        },
        "outputId": "89668481-cad7-4488-900a-6db84f114072"
      },
      "source": [
        "from sklearn.metrics import confusion_matrix\n",
        "from matplotlib import pyplot as plt\n",
        "import seaborn as sns\n",
        "\n",
        "# Form confusion matrix as a DataFrame\n",
        "confusion_matrix_df = pd.DataFrame((confusion_matrix(y_test, y_test_pred)), ('No churn', 'Churn'), ('No churn', 'Churn'))\n",
        "\n",
        "# Plot confusion matrix\n",
        "plt.figure()\n",
        "heatmap = sns.heatmap(confusion_matrix_df, annot=True, annot_kws={'size': 14}, fmt='d', cmap='YlGnBu')\n",
        "heatmap.yaxis.set_ticklabels(heatmap.yaxis.get_ticklabels(), rotation=0, ha='right', fontsize=14)\n",
        "heatmap.xaxis.set_ticklabels(heatmap.xaxis.get_ticklabels(), rotation=0, ha='right', fontsize=14)\n",
        "\n",
        "plt.title('Confusion Matrix for Testing Model\\n(Random Forest)\\n', fontsize=18, color='darkblue')\n",
        "plt.ylabel('True label', fontsize=14)\n",
        "plt.xlabel('Predicted label', fontsize=14)\n",
        "plt.show()"
      ],
      "execution_count": 122,
      "outputs": [
        {
          "output_type": "display_data",
          "data": {
            "image/png": "[encoded data removed]",
            "text/plain": [
              "<Figure size 432x288 with 2 Axes>"
            ]
          },
          "metadata": {}
        }
      ]
    },
    {
      "cell_type": "markdown",
      "metadata": {
        "id": "pPuiIW_3eX21"
      },
      "source": [
        "### Pembuatan Model"
      ]
    },
    {
      "cell_type": "code",
      "metadata": {
        "id": "zNRsQXSdeY8b",
        "colab": {
          "base_uri": "https://localhost:8080/"
        },
        "outputId": "bd10636b-644d-421f-9e2f-6844bc09d67f"
      },
      "source": [
        "from sklearn.ensemble import GradientBoostingClassifier\n",
        "#Train the model\n",
        "gbt_model = GradientBoostingClassifier().fit(x_train, y_train)\n",
        "print(gbt_model)"
      ],
      "execution_count": 123,
      "outputs": [
        {
          "output_type": "stream",
          "name": "stdout",
          "text": [
            "GradientBoostingClassifier(ccp_alpha=0.0, criterion='friedman_mse', init=None,\n",
            "                           learning_rate=0.1, loss='deviance', max_depth=3,\n",
            "                           max_features=None, max_leaf_nodes=None,\n",
            "                           min_impurity_decrease=0.0, min_impurity_split=None,\n",
            "                           min_samples_leaf=1, min_samples_split=2,\n",
            "                           min_weight_fraction_leaf=0.0, n_estimators=100,\n",
            "                           n_iter_no_change=None, presort='deprecated',\n",
            "                           random_state=None, subsample=1.0, tol=0.0001,\n",
            "                           validation_fraction=0.1, verbose=0,\n",
            "                           warm_start=False)\n"
          ]
        }
      ]
    },
    {
      "cell_type": "markdown",
      "metadata": {
        "id": "jwTes314edAv"
      },
      "source": [
        "### Perfomansi Model Data Training - Menampilkan Metrics"
      ]
    },
    {
      "cell_type": "code",
      "metadata": {
        "id": "Pn3sL0WVeakb",
        "colab": {
          "base_uri": "https://localhost:8080/"
        },
        "outputId": "04794159-2c1d-4fce-ae9e-d6545fb1952a"
      },
      "source": [
        "from sklearn.metrics import classification_report\n",
        "# Predict\n",
        "y_train_pred = gbt_model.predict(x_train)\n",
        "# Print classification report\n",
        "print('Classification Report Training Model (Gradient Boosting):')\n",
        "print(classification_report(y_train, y_train_pred))"
      ],
      "execution_count": 124,
      "outputs": [
        {
          "output_type": "stream",
          "name": "stdout",
          "text": [
            "Classification Report Training Model (Gradient Boosting):\n",
            "              precision    recall  f1-score   support\n",
            "\n",
            "           0       0.88      0.97      0.92      5547\n",
            "           1       0.81      0.49      0.61      1453\n",
            "\n",
            "    accuracy                           0.87      7000\n",
            "   macro avg       0.84      0.73      0.76      7000\n",
            "weighted avg       0.86      0.87      0.86      7000\n",
            "\n"
          ]
        }
      ]
    },
    {
      "cell_type": "markdown",
      "metadata": {
        "id": "xQumRa2seigf"
      },
      "source": [
        "### Perfomansi Model Data Training - Menampilkan Plots"
      ]
    },
    {
      "cell_type": "code",
      "metadata": {
        "id": "2imv-SN0egGk",
        "colab": {
          "base_uri": "https://localhost:8080/",
          "height": 0
        },
        "outputId": "cfa65b5d-7b0b-40f9-8f40-8500b38adc45"
      },
      "source": [
        "from sklearn.metrics import confusion_matrix\n",
        "from matplotlib import pyplot as plt\n",
        "import seaborn as sns\n",
        "\n",
        "# Form confusion matrix as a DataFrame\n",
        "confusion_matrix_df = pd.DataFrame((confusion_matrix(y_train, y_train_pred)), ('No churn', 'Churn'), ('No churn', 'Churn'))\n",
        "\n",
        "# Plot confusion matrix\n",
        "plt.figure()\n",
        "heatmap = sns.heatmap(confusion_matrix_df, annot=True, annot_kws={'size': 14}, fmt='d', cmap='YlGnBu')\n",
        "heatmap.yaxis.set_ticklabels(heatmap.yaxis.get_ticklabels(), rotation=0, ha='right', fontsize=14)\n",
        "heatmap.xaxis.set_ticklabels(heatmap.xaxis.get_ticklabels(), rotation=0, ha='right', fontsize=14)\n",
        "\n",
        "plt.title('Confusion Matrix for Training Model\\n(Gradient Boosting)', fontsize=18, color='darkblue')\n",
        "plt.ylabel('True label', fontsize=14)\n",
        "plt.xlabel('Predicted label', fontsize=14)\n",
        "plt.show()"
      ],
      "execution_count": 125,
      "outputs": [
        {
          "output_type": "display_data",
          "data": {
            "image/png": "[encoded data removed]",
            "text/plain": [
              "<Figure size 432x288 with 2 Axes>"
            ]
          },
          "metadata": {}
        }
      ]
    },
    {
      "cell_type": "markdown",
      "metadata": {
        "id": "V_aF3t4Tep55"
      },
      "source": [
        "### Performansi Model Data Testing - Menampilkan Metrics"
      ]
    },
    {
      "cell_type": "code",
      "metadata": {
        "id": "ftMg2tFMemwC",
        "colab": {
          "base_uri": "https://localhost:8080/"
        },
        "outputId": "8b69fe00-da75-458e-a5de-fc0a3270d023"
      },
      "source": [
        "from sklearn.metrics import classification_report\n",
        "# Predict\n",
        "y_test_pred = log_model.predict(x_test)\n",
        "# Print classification report\n",
        "print('Classification Report Testing Model (Gradient Boosting):')\n",
        "print(classification_report(y_test, y_test_pred))"
      ],
      "execution_count": 126,
      "outputs": [
        {
          "output_type": "stream",
          "name": "stdout",
          "text": [
            "Classification Report Testing Model (Gradient Boosting):\n",
            "              precision    recall  f1-score   support\n",
            "\n",
            "           0       0.82      0.96      0.88      2416\n",
            "           1       0.41      0.11      0.17       584\n",
            "\n",
            "    accuracy                           0.80      3000\n",
            "   macro avg       0.61      0.53      0.53      3000\n",
            "weighted avg       0.74      0.80      0.74      3000\n",
            "\n"
          ]
        }
      ]
    },
    {
      "cell_type": "markdown",
      "metadata": {
        "id": "orcFa2fletRS"
      },
      "source": [
        "### Performansi Model Data Testing - Menampilkan Plots"
      ]
    },
    {
      "cell_type": "code",
      "metadata": {
        "id": "r2KOH_axesnx",
        "colab": {
          "base_uri": "https://localhost:8080/",
          "height": 0
        },
        "outputId": "ed14c94f-1a97-41cf-d48e-8e202809b04c"
      },
      "source": [
        "from sklearn.metrics import confusion_matrix\n",
        "from matplotlib import pyplot as plt\n",
        "import seaborn as sns\n",
        "\n",
        "# Form confusion matrix as a DataFrame\n",
        "confusion_matrix_df = pd.DataFrame((confusion_matrix(y_test, y_test_pred)), ('No churn', 'Churn'), ('No churn', 'Churn'))\n",
        "\n",
        "# Plot confusion matrix\n",
        "plt.figure()\n",
        "heatmap = sns.heatmap(confusion_matrix_df, annot=True, annot_kws={'size': 14}, fmt='d', cmap='YlGnBu')\n",
        "heatmap.yaxis.set_ticklabels(heatmap.yaxis.get_ticklabels(), rotation=0, ha='right', fontsize=14)\n",
        "heatmap.xaxis.set_ticklabels(heatmap.xaxis.get_ticklabels(), rotation=0, ha='right', fontsize=14)\n",
        "\n",
        "plt.title('Confusion Matrix for Testing Model\\n(Gradient Boosting)', fontsize=18, color='darkblue')\n",
        "plt.ylabel('True label', fontsize=14)\n",
        "plt.xlabel('Predicted label', fontsize=14)\n",
        "plt.show()"
      ],
      "execution_count": 127,
      "outputs": [
        {
          "output_type": "display_data",
          "data": {
            "image/png": "[encoded data removed]",
            "text/plain": [
              "<Figure size 432x288 with 2 Axes>"
            ]
          },
          "metadata": {}
        }
      ]
    },
    {
      "cell_type": "markdown",
      "metadata": {
        "id": "dusdxTUVO2iZ"
      },
      "source": [
        "### ANN Modelling"
      ]
    },
    {
      "cell_type": "code",
      "metadata": {
        "id": "8K6yeepITx1R"
      },
      "source": [
        "# Importing the Keras libraries and packages\n",
        "import keras\n",
        "from keras.models import Sequential\n",
        "from keras.layers import Dense\n",
        "from keras.layers import LeakyReLU,PReLU,ELU\n",
        "from keras.layers import Dropout"
      ],
      "execution_count": 128,
      "outputs": []
    },
    {
      "cell_type": "code",
      "metadata": {
        "colab": {
          "base_uri": "https://localhost:8080/"
        },
        "id": "H2KgJMDHvvVF",
        "outputId": "32638f5c-d2d4-41d1-ba44-e452763e1566"
      },
      "source": [
        "x_train.Geography.unique()"
      ],
      "execution_count": 129,
      "outputs": [
        {
          "output_type": "execute_result",
          "data": {
            "text/plain": [
              "array([2, 1, 0])"
            ]
          },
          "metadata": {},
          "execution_count": 129
        }
      ]
    },
    {
      "cell_type": "code",
      "metadata": {
        "id": "5-wVJPJkwqId"
      },
      "source": [
        "# Predictor dan target\n",
        "x_ann = cleaned_df.drop('Exited', axis = 1)\n",
        "y_ann = cleaned_df['Exited']\n",
        "# Splitting train and test\n",
        "x_train_ann, x_test_ann, y_train_ann, y_test_ann = train_test_split(x_ann, y_ann, test_size=0.3, random_state=42)"
      ],
      "execution_count": 153,
      "outputs": []
    },
    {
      "cell_type": "code",
      "metadata": {
        "id": "kM6wt5NpxE1c"
      },
      "source": [
        "# Scaling data\n",
        "\n",
        "from sklearn.preprocessing import StandardScaler\n",
        "\n",
        "sc = StandardScaler()\n",
        "x_train_ann = sc.fit_transform(x_train_ann)\n",
        "x_test_ann = sc.transform(x_test_ann)"
      ],
      "execution_count": 154,
      "outputs": []
    },
    {
      "cell_type": "code",
      "metadata": {
        "colab": {
          "base_uri": "https://localhost:8080/"
        },
        "id": "H00Ym9qHT2m6",
        "outputId": "47947ad6-6dd1-4151-c228-8b5332289d83"
      },
      "source": [
        "# Initialising the ANN\n",
        "classifier = Sequential()\n",
        "\n",
        "# Adding the input layer and the first hidden layer\n",
        "classifier.add(Dense(units = 6, activation='relu'))\n",
        "\n",
        "# Adding the second hidden layer\n",
        "classifier.add(Dense(units = 10,activation='relu'))\n",
        "\n",
        "\n",
        "# Adding the output layer\n",
        "classifier.add(Dense(units = 1,  activation = 'sigmoid'))\n",
        "\n",
        "# Compiling the ANN\n",
        "classifier.compile(optimizer = 'Adam', loss = 'binary_crossentropy', metrics = ['accuracy'])\n",
        "\n",
        "# Fitting the ANN to the Training set\n",
        "churn_model_history=classifier.fit(x_train_ann, y_train_ann,validation_split=0.33, batch_size = 10, epochs = 100)"
      ],
      "execution_count": 155,
      "outputs": [
        {
          "output_type": "stream",
          "name": "stdout",
          "text": [
            "Epoch 1/100\n",
            "469/469 [==============================] - 3s 6ms/step - loss: 0.5333 - accuracy: 0.7784 - val_loss: 0.4721 - val_accuracy: 0.8010\n",
            "Epoch 2/100\n",
            "469/469 [==============================] - 2s 5ms/step - loss: 0.4503 - accuracy: 0.8140 - val_loss: 0.4467 - val_accuracy: 0.8070\n",
            "Epoch 3/100\n",
            "469/469 [==============================] - 2s 5ms/step - loss: 0.4323 - accuracy: 0.8194 - val_loss: 0.4364 - val_accuracy: 0.8139\n",
            "Epoch 4/100\n",
            "469/469 [==============================] - 2s 5ms/step - loss: 0.4219 - accuracy: 0.8228 - val_loss: 0.4263 - val_accuracy: 0.8209\n",
            "Epoch 5/100\n",
            "469/469 [==============================] - 2s 4ms/step - loss: 0.4091 - accuracy: 0.8309 - val_loss: 0.4144 - val_accuracy: 0.8295\n",
            "Epoch 6/100\n",
            "469/469 [==============================] - 2s 5ms/step - loss: 0.3962 - accuracy: 0.8388 - val_loss: 0.4023 - val_accuracy: 0.8382\n",
            "Epoch 7/100\n",
            "469/469 [==============================] - 2s 5ms/step - loss: 0.3855 - accuracy: 0.8494 - val_loss: 0.3953 - val_accuracy: 0.8390\n",
            "Epoch 8/100\n",
            "469/469 [==============================] - 2s 5ms/step - loss: 0.3773 - accuracy: 0.8505 - val_loss: 0.3878 - val_accuracy: 0.8429\n",
            "Epoch 9/100\n",
            "469/469 [==============================] - 2s 5ms/step - loss: 0.3720 - accuracy: 0.8565 - val_loss: 0.3827 - val_accuracy: 0.8468\n",
            "Epoch 10/100\n",
            "469/469 [==============================] - 2s 5ms/step - loss: 0.3674 - accuracy: 0.8554 - val_loss: 0.3789 - val_accuracy: 0.8481\n",
            "Epoch 11/100\n",
            "469/469 [==============================] - 2s 5ms/step - loss: 0.3638 - accuracy: 0.8578 - val_loss: 0.3759 - val_accuracy: 0.8468\n",
            "Epoch 12/100\n",
            "469/469 [==============================] - 2s 4ms/step - loss: 0.3607 - accuracy: 0.8560 - val_loss: 0.3740 - val_accuracy: 0.8477\n",
            "Epoch 13/100\n",
            "469/469 [==============================] - 2s 5ms/step - loss: 0.3586 - accuracy: 0.8575 - val_loss: 0.3727 - val_accuracy: 0.8473\n",
            "Epoch 14/100\n",
            "469/469 [==============================] - 2s 5ms/step - loss: 0.3572 - accuracy: 0.8569 - val_loss: 0.3719 - val_accuracy: 0.8481\n",
            "Epoch 15/100\n",
            "469/469 [==============================] - 2s 5ms/step - loss: 0.3555 - accuracy: 0.8565 - val_loss: 0.3704 - val_accuracy: 0.8464\n",
            "Epoch 16/100\n",
            "469/469 [==============================] - 2s 5ms/step - loss: 0.3543 - accuracy: 0.8578 - val_loss: 0.3711 - val_accuracy: 0.8451\n",
            "Epoch 17/100\n",
            "469/469 [==============================] - 2s 5ms/step - loss: 0.3531 - accuracy: 0.8588 - val_loss: 0.3697 - val_accuracy: 0.8464\n",
            "Epoch 18/100\n",
            "469/469 [==============================] - 2s 5ms/step - loss: 0.3521 - accuracy: 0.8595 - val_loss: 0.3701 - val_accuracy: 0.8464\n",
            "Epoch 19/100\n",
            "469/469 [==============================] - 2s 4ms/step - loss: 0.3518 - accuracy: 0.8578 - val_loss: 0.3702 - val_accuracy: 0.8455\n",
            "Epoch 20/100\n",
            "469/469 [==============================] - 2s 5ms/step - loss: 0.3511 - accuracy: 0.8571 - val_loss: 0.3689 - val_accuracy: 0.8490\n",
            "Epoch 21/100\n",
            "469/469 [==============================] - 2s 5ms/step - loss: 0.3508 - accuracy: 0.8580 - val_loss: 0.3703 - val_accuracy: 0.8464\n",
            "Epoch 22/100\n",
            "469/469 [==============================] - 2s 4ms/step - loss: 0.3501 - accuracy: 0.8597 - val_loss: 0.3681 - val_accuracy: 0.8477\n",
            "Epoch 23/100\n",
            "469/469 [==============================] - 2s 5ms/step - loss: 0.3500 - accuracy: 0.8590 - val_loss: 0.3691 - val_accuracy: 0.8477\n",
            "Epoch 24/100\n",
            "469/469 [==============================] - 2s 5ms/step - loss: 0.3495 - accuracy: 0.8573 - val_loss: 0.3691 - val_accuracy: 0.8473\n",
            "Epoch 25/100\n",
            "469/469 [==============================] - 2s 5ms/step - loss: 0.3490 - accuracy: 0.8588 - val_loss: 0.3692 - val_accuracy: 0.8486\n",
            "Epoch 26/100\n",
            "469/469 [==============================] - 2s 5ms/step - loss: 0.3487 - accuracy: 0.8580 - val_loss: 0.3697 - val_accuracy: 0.8447\n",
            "Epoch 27/100\n",
            "469/469 [==============================] - 2s 5ms/step - loss: 0.3493 - accuracy: 0.8601 - val_loss: 0.3686 - val_accuracy: 0.8473\n",
            "Epoch 28/100\n",
            "469/469 [==============================] - 2s 5ms/step - loss: 0.3485 - accuracy: 0.8586 - val_loss: 0.3686 - val_accuracy: 0.8477\n",
            "Epoch 29/100\n",
            "469/469 [==============================] - 2s 5ms/step - loss: 0.3486 - accuracy: 0.8590 - val_loss: 0.3680 - val_accuracy: 0.8473\n",
            "Epoch 30/100\n",
            "469/469 [==============================] - 2s 5ms/step - loss: 0.3481 - accuracy: 0.8595 - val_loss: 0.3687 - val_accuracy: 0.8468\n",
            "Epoch 31/100\n",
            "469/469 [==============================] - 2s 5ms/step - loss: 0.3480 - accuracy: 0.8575 - val_loss: 0.3690 - val_accuracy: 0.8460\n",
            "Epoch 32/100\n",
            "469/469 [==============================] - 2s 5ms/step - loss: 0.3474 - accuracy: 0.8582 - val_loss: 0.3690 - val_accuracy: 0.8451\n",
            "Epoch 33/100\n",
            "469/469 [==============================] - 2s 5ms/step - loss: 0.3476 - accuracy: 0.8601 - val_loss: 0.3686 - val_accuracy: 0.8477\n",
            "Epoch 34/100\n",
            "469/469 [==============================] - 2s 5ms/step - loss: 0.3472 - accuracy: 0.8590 - val_loss: 0.3683 - val_accuracy: 0.8477\n",
            "Epoch 35/100\n",
            "469/469 [==============================] - 2s 5ms/step - loss: 0.3475 - accuracy: 0.8580 - val_loss: 0.3681 - val_accuracy: 0.8473\n",
            "Epoch 36/100\n",
            "469/469 [==============================] - 2s 5ms/step - loss: 0.3459 - accuracy: 0.8597 - val_loss: 0.3676 - val_accuracy: 0.8464\n",
            "Epoch 37/100\n",
            "469/469 [==============================] - 2s 5ms/step - loss: 0.3457 - accuracy: 0.8592 - val_loss: 0.3687 - val_accuracy: 0.8473\n",
            "Epoch 38/100\n",
            "469/469 [==============================] - 2s 5ms/step - loss: 0.3458 - accuracy: 0.8580 - val_loss: 0.3681 - val_accuracy: 0.8490\n",
            "Epoch 39/100\n",
            "469/469 [==============================] - 2s 5ms/step - loss: 0.3458 - accuracy: 0.8603 - val_loss: 0.3675 - val_accuracy: 0.8460\n",
            "Epoch 40/100\n",
            "469/469 [==============================] - 2s 5ms/step - loss: 0.3454 - accuracy: 0.8614 - val_loss: 0.3679 - val_accuracy: 0.8455\n",
            "Epoch 41/100\n",
            "469/469 [==============================] - 2s 5ms/step - loss: 0.3451 - accuracy: 0.8590 - val_loss: 0.3674 - val_accuracy: 0.8464\n",
            "Epoch 42/100\n",
            "469/469 [==============================] - 2s 4ms/step - loss: 0.3450 - accuracy: 0.8592 - val_loss: 0.3673 - val_accuracy: 0.8455\n",
            "Epoch 43/100\n",
            "469/469 [==============================] - 2s 5ms/step - loss: 0.3445 - accuracy: 0.8584 - val_loss: 0.3665 - val_accuracy: 0.8468\n",
            "Epoch 44/100\n",
            "469/469 [==============================] - 2s 5ms/step - loss: 0.3446 - accuracy: 0.8590 - val_loss: 0.3685 - val_accuracy: 0.8481\n",
            "Epoch 45/100\n",
            "469/469 [==============================] - 2s 5ms/step - loss: 0.3446 - accuracy: 0.8578 - val_loss: 0.3666 - val_accuracy: 0.8447\n",
            "Epoch 46/100\n",
            "469/469 [==============================] - 2s 5ms/step - loss: 0.3441 - accuracy: 0.8595 - val_loss: 0.3672 - val_accuracy: 0.8490\n",
            "Epoch 47/100\n",
            "469/469 [==============================] - 2s 5ms/step - loss: 0.3437 - accuracy: 0.8597 - val_loss: 0.3657 - val_accuracy: 0.8464\n",
            "Epoch 48/100\n",
            "469/469 [==============================] - 2s 5ms/step - loss: 0.3434 - accuracy: 0.8601 - val_loss: 0.3674 - val_accuracy: 0.8447\n",
            "Epoch 49/100\n",
            "469/469 [==============================] - 2s 5ms/step - loss: 0.3430 - accuracy: 0.8584 - val_loss: 0.3667 - val_accuracy: 0.8438\n",
            "Epoch 50/100\n",
            "469/469 [==============================] - 2s 5ms/step - loss: 0.3433 - accuracy: 0.8599 - val_loss: 0.3647 - val_accuracy: 0.8464\n",
            "Epoch 51/100\n",
            "469/469 [==============================] - 2s 5ms/step - loss: 0.3426 - accuracy: 0.8592 - val_loss: 0.3668 - val_accuracy: 0.8468\n",
            "Epoch 52/100\n",
            "469/469 [==============================] - 2s 5ms/step - loss: 0.3428 - accuracy: 0.8620 - val_loss: 0.3650 - val_accuracy: 0.8464\n",
            "Epoch 53/100\n",
            "469/469 [==============================] - 2s 5ms/step - loss: 0.3426 - accuracy: 0.8588 - val_loss: 0.3651 - val_accuracy: 0.8468\n",
            "Epoch 54/100\n",
            "469/469 [==============================] - 2s 5ms/step - loss: 0.3424 - accuracy: 0.8597 - val_loss: 0.3651 - val_accuracy: 0.8468\n",
            "Epoch 55/100\n",
            "469/469 [==============================] - 2s 5ms/step - loss: 0.3425 - accuracy: 0.8599 - val_loss: 0.3648 - val_accuracy: 0.8468\n",
            "Epoch 56/100\n",
            "469/469 [==============================] - 2s 5ms/step - loss: 0.3424 - accuracy: 0.8607 - val_loss: 0.3653 - val_accuracy: 0.8477\n",
            "Epoch 57/100\n",
            "469/469 [==============================] - 2s 5ms/step - loss: 0.3420 - accuracy: 0.8614 - val_loss: 0.3652 - val_accuracy: 0.8486\n",
            "Epoch 58/100\n",
            "469/469 [==============================] - 2s 5ms/step - loss: 0.3423 - accuracy: 0.8580 - val_loss: 0.3651 - val_accuracy: 0.8481\n",
            "Epoch 59/100\n",
            "469/469 [==============================] - 2s 5ms/step - loss: 0.3420 - accuracy: 0.8597 - val_loss: 0.3650 - val_accuracy: 0.8473\n",
            "Epoch 60/100\n",
            "469/469 [==============================] - 2s 5ms/step - loss: 0.3410 - accuracy: 0.8582 - val_loss: 0.3655 - val_accuracy: 0.8477\n",
            "Epoch 61/100\n",
            "469/469 [==============================] - 2s 5ms/step - loss: 0.3416 - accuracy: 0.8592 - val_loss: 0.3660 - val_accuracy: 0.8486\n",
            "Epoch 62/100\n",
            "469/469 [==============================] - 2s 5ms/step - loss: 0.3411 - accuracy: 0.8590 - val_loss: 0.3651 - val_accuracy: 0.8490\n",
            "Epoch 63/100\n",
            "469/469 [==============================] - 2s 5ms/step - loss: 0.3416 - accuracy: 0.8618 - val_loss: 0.3661 - val_accuracy: 0.8481\n",
            "Epoch 64/100\n",
            "469/469 [==============================] - 2s 5ms/step - loss: 0.3422 - accuracy: 0.8584 - val_loss: 0.3647 - val_accuracy: 0.8486\n",
            "Epoch 65/100\n",
            "469/469 [==============================] - 2s 5ms/step - loss: 0.3411 - accuracy: 0.8616 - val_loss: 0.3643 - val_accuracy: 0.8477\n",
            "Epoch 66/100\n",
            "469/469 [==============================] - 2s 5ms/step - loss: 0.3411 - accuracy: 0.8584 - val_loss: 0.3662 - val_accuracy: 0.8494\n",
            "Epoch 67/100\n",
            "469/469 [==============================] - 2s 5ms/step - loss: 0.3410 - accuracy: 0.8592 - val_loss: 0.3643 - val_accuracy: 0.8486\n",
            "Epoch 68/100\n",
            "469/469 [==============================] - 2s 5ms/step - loss: 0.3409 - accuracy: 0.8597 - val_loss: 0.3644 - val_accuracy: 0.8486\n",
            "Epoch 69/100\n",
            "469/469 [==============================] - 2s 5ms/step - loss: 0.3408 - accuracy: 0.8588 - val_loss: 0.3638 - val_accuracy: 0.8447\n",
            "Epoch 70/100\n",
            "469/469 [==============================] - 2s 5ms/step - loss: 0.3403 - accuracy: 0.8592 - val_loss: 0.3636 - val_accuracy: 0.8494\n",
            "Epoch 71/100\n",
            "469/469 [==============================] - 2s 5ms/step - loss: 0.3403 - accuracy: 0.8592 - val_loss: 0.3639 - val_accuracy: 0.8486\n",
            "Epoch 72/100\n",
            "469/469 [==============================] - 2s 5ms/step - loss: 0.3406 - accuracy: 0.8595 - val_loss: 0.3636 - val_accuracy: 0.8494\n",
            "Epoch 73/100\n",
            "469/469 [==============================] - 2s 5ms/step - loss: 0.3403 - accuracy: 0.8592 - val_loss: 0.3638 - val_accuracy: 0.8473\n",
            "Epoch 74/100\n",
            "469/469 [==============================] - 2s 5ms/step - loss: 0.3402 - accuracy: 0.8592 - val_loss: 0.3639 - val_accuracy: 0.8464\n",
            "Epoch 75/100\n",
            "469/469 [==============================] - 2s 5ms/step - loss: 0.3404 - accuracy: 0.8592 - val_loss: 0.3643 - val_accuracy: 0.8464\n",
            "Epoch 76/100\n",
            "469/469 [==============================] - 2s 5ms/step - loss: 0.3400 - accuracy: 0.8578 - val_loss: 0.3633 - val_accuracy: 0.8468\n",
            "Epoch 77/100\n",
            "469/469 [==============================] - 2s 5ms/step - loss: 0.3399 - accuracy: 0.8614 - val_loss: 0.3641 - val_accuracy: 0.8477\n",
            "Epoch 78/100\n",
            "469/469 [==============================] - 2s 5ms/step - loss: 0.3398 - accuracy: 0.8597 - val_loss: 0.3670 - val_accuracy: 0.8511\n",
            "Epoch 79/100\n",
            "469/469 [==============================] - 2s 5ms/step - loss: 0.3397 - accuracy: 0.8605 - val_loss: 0.3629 - val_accuracy: 0.8486\n",
            "Epoch 80/100\n",
            "469/469 [==============================] - 2s 5ms/step - loss: 0.3398 - accuracy: 0.8601 - val_loss: 0.3639 - val_accuracy: 0.8486\n",
            "Epoch 81/100\n",
            "469/469 [==============================] - 2s 5ms/step - loss: 0.3399 - accuracy: 0.8586 - val_loss: 0.3637 - val_accuracy: 0.8481\n",
            "Epoch 82/100\n",
            "469/469 [==============================] - 2s 5ms/step - loss: 0.3396 - accuracy: 0.8603 - val_loss: 0.3631 - val_accuracy: 0.8473\n",
            "Epoch 83/100\n",
            "469/469 [==============================] - 2s 5ms/step - loss: 0.3397 - accuracy: 0.8592 - val_loss: 0.3643 - val_accuracy: 0.8498\n",
            "Epoch 84/100\n",
            "469/469 [==============================] - 2s 5ms/step - loss: 0.3393 - accuracy: 0.8603 - val_loss: 0.3626 - val_accuracy: 0.8468\n",
            "Epoch 85/100\n",
            "469/469 [==============================] - 2s 5ms/step - loss: 0.3396 - accuracy: 0.8584 - val_loss: 0.3627 - val_accuracy: 0.8464\n",
            "Epoch 86/100\n",
            "469/469 [==============================] - 2s 5ms/step - loss: 0.3397 - accuracy: 0.8592 - val_loss: 0.3629 - val_accuracy: 0.8468\n",
            "Epoch 87/100\n",
            "469/469 [==============================] - 2s 5ms/step - loss: 0.3392 - accuracy: 0.8610 - val_loss: 0.3626 - val_accuracy: 0.8494\n",
            "Epoch 88/100\n",
            "469/469 [==============================] - 2s 5ms/step - loss: 0.3390 - accuracy: 0.8584 - val_loss: 0.3629 - val_accuracy: 0.8447\n",
            "Epoch 89/100\n",
            "469/469 [==============================] - 2s 5ms/step - loss: 0.3389 - accuracy: 0.8610 - val_loss: 0.3631 - val_accuracy: 0.8468\n",
            "Epoch 90/100\n",
            "469/469 [==============================] - 2s 5ms/step - loss: 0.3386 - accuracy: 0.8601 - val_loss: 0.3641 - val_accuracy: 0.8486\n",
            "Epoch 91/100\n",
            "469/469 [==============================] - 2s 5ms/step - loss: 0.3383 - accuracy: 0.8592 - val_loss: 0.3635 - val_accuracy: 0.8490\n",
            "Epoch 92/100\n",
            "469/469 [==============================] - 2s 5ms/step - loss: 0.3390 - accuracy: 0.8582 - val_loss: 0.3627 - val_accuracy: 0.8451\n",
            "Epoch 93/100\n",
            "469/469 [==============================] - 2s 5ms/step - loss: 0.3389 - accuracy: 0.8607 - val_loss: 0.3620 - val_accuracy: 0.8477\n",
            "Epoch 94/100\n",
            "469/469 [==============================] - 2s 5ms/step - loss: 0.3386 - accuracy: 0.8601 - val_loss: 0.3630 - val_accuracy: 0.8460\n",
            "Epoch 95/100\n",
            "469/469 [==============================] - 2s 5ms/step - loss: 0.3387 - accuracy: 0.8592 - val_loss: 0.3626 - val_accuracy: 0.8447\n",
            "Epoch 96/100\n",
            "469/469 [==============================] - 2s 5ms/step - loss: 0.3384 - accuracy: 0.8612 - val_loss: 0.3668 - val_accuracy: 0.8486\n",
            "Epoch 97/100\n",
            "469/469 [==============================] - 2s 5ms/step - loss: 0.3387 - accuracy: 0.8586 - val_loss: 0.3619 - val_accuracy: 0.8455\n",
            "Epoch 98/100\n",
            "469/469 [==============================] - 2s 5ms/step - loss: 0.3382 - accuracy: 0.8595 - val_loss: 0.3628 - val_accuracy: 0.8460\n",
            "Epoch 99/100\n",
            "469/469 [==============================] - 2s 5ms/step - loss: 0.3384 - accuracy: 0.8610 - val_loss: 0.3637 - val_accuracy: 0.8486\n",
            "Epoch 100/100\n",
            "469/469 [==============================] - 2s 5ms/step - loss: 0.3385 - accuracy: 0.8599 - val_loss: 0.3621 - val_accuracy: 0.8468\n"
          ]
        }
      ]
    },
    {
      "cell_type": "code",
      "metadata": {
        "colab": {
          "base_uri": "https://localhost:8080/"
        },
        "id": "X9jcRgZIWVLw",
        "outputId": "7528ed86-4fbf-4fa6-9427-06e22b7397e3"
      },
      "source": [
        "print(churn_model_history.history.keys())"
      ],
      "execution_count": 156,
      "outputs": [
        {
          "output_type": "stream",
          "name": "stdout",
          "text": [
            "dict_keys(['loss', 'accuracy', 'val_loss', 'val_accuracy'])\n"
          ]
        }
      ]
    },
    {
      "cell_type": "code",
      "metadata": {
        "colab": {
          "base_uri": "https://localhost:8080/",
          "height": 301
        },
        "id": "lyWGfghnWbWV",
        "outputId": "1a7cd69d-542c-4ef2-f1bc-6267a24aca12"
      },
      "source": [
        "# summarize history for accuracy\n",
        "plt.plot(churn_model_history.history['accuracy'])\n",
        "plt.plot(churn_model_history.history['val_accuracy'])\n",
        "plt.title('model accuracy')\n",
        "plt.ylabel('accuracy')\n",
        "plt.xlabel('epoch')\n",
        "plt.legend(['train', 'test'], loc='upper left')\n",
        "plt.show()"
      ],
      "execution_count": 157,
      "outputs": [
        {
          "output_type": "display_data",
          "data": {
            "image/png": "[encoded data removed]",
            "text/plain": [
              "<Figure size 432x288 with 1 Axes>"
            ]
          },
          "metadata": {}
        }
      ]
    },
    {
      "cell_type": "code",
      "metadata": {
        "colab": {
          "base_uri": "https://localhost:8080/",
          "height": 301
        },
        "id": "cKpbNkXGWcq0",
        "outputId": "48371ba3-019a-452d-abb4-2f13c3ee2368"
      },
      "source": [
        "# summarize history for loss\n",
        "plt.plot(churn_model_history.history['loss'])\n",
        "plt.plot(churn_model_history.history['val_loss'])\n",
        "plt.title('model loss')\n",
        "plt.ylabel('loss')\n",
        "plt.xlabel('epoch')\n",
        "plt.legend(['train', 'test'], loc='upper left')\n",
        "plt.show()"
      ],
      "execution_count": 158,
      "outputs": [
        {
          "output_type": "display_data",
          "data": {
            "image/png": "[encoded data removed]",
            "text/plain": [
              "<Figure size 432x288 with 1 Axes>"
            ]
          },
          "metadata": {}
        }
      ]
    },
    {
      "cell_type": "code",
      "metadata": {
        "id": "6kLiySiNySQV"
      },
      "source": [
        "def classification_eval (aktual, prediksi, name):\n",
        "    cm = confusion_matrix(aktual, prediksi)\n",
        "    tp = cm[1][1]\n",
        "    tn = cm[0][0]\n",
        "    fp = cm[0][1]\n",
        "    fn = cm[1][0]\n",
        "    \n",
        "    accuracy = round((tp+tn) / (tp+tn+fp+fn) * 100, 2)\n",
        "    precision = round((tp) / (tp+fp) * 100, 2)\n",
        "    recall = round((tp) / (tp+fn) * 100, 2)\n",
        "    specificity = round((tn) / (tn+fp) * 100, 2)\n",
        "    npv = round((tn) / (tn+fn) * 100, 2)\n",
        "    \n",
        "    print('Evaluation Model:', name)\n",
        "    print(cm)\n",
        "    print('Accuracy   :', accuracy, '%')\n",
        "    print('Precision  :', precision, '%')\n",
        "    print('Recall     :', recall, '%')\n",
        "    print('Specificity:', specificity, '%')\n",
        "    print('NPV        :', npv, '%')\n"
      ],
      "execution_count": 159,
      "outputs": []
    },
    {
      "cell_type": "code",
      "metadata": {
        "id": "TTBg-H7-yV62"
      },
      "source": [
        "y_train_pred = classifier.predict(x_train_ann)\n",
        "y_train_pred = [0 if i < 0.5 else 1 for i in y_train_pred]"
      ],
      "execution_count": 160,
      "outputs": []
    },
    {
      "cell_type": "code",
      "metadata": {
        "colab": {
          "base_uri": "https://localhost:8080/"
        },
        "id": "Y7npsm8mynT1",
        "outputId": "0f90e2a3-6245-4da6-b53e-04dab7b969f4"
      },
      "source": [
        "classification_eval(y_train_ann, y_train_pred, 'ANN Training Performance')"
      ],
      "execution_count": 161,
      "outputs": [
        {
          "output_type": "stream",
          "name": "stdout",
          "text": [
            "Evaluation Model: ANN Training Performance\n",
            "[[5328  219]\n",
            " [ 794  659]]\n",
            "Accuracy   : 85.53 %\n",
            "Precision  : 75.06 %\n",
            "Recall     : 45.35 %\n",
            "Specificity: 96.05 %\n",
            "NPV        : 87.03 %\n"
          ]
        }
      ]
    },
    {
      "cell_type": "code",
      "metadata": {
        "id": "d1uWvp3jysOF"
      },
      "source": [
        "y_test_pred = classifier.predict(x_test_ann)\n",
        "y_test_pred = [0 if i < 0.5 else 1 for i in y_test_pred]"
      ],
      "execution_count": 162,
      "outputs": []
    },
    {
      "cell_type": "code",
      "metadata": {
        "colab": {
          "base_uri": "https://localhost:8080/"
        },
        "id": "mnyPGrPjyzTe",
        "outputId": "e7051480-7a56-42b7-d440-05ecd0cf17a4"
      },
      "source": [
        "classification_eval(y_test_ann, y_test_pred, 'ANN Test Performance')"
      ],
      "execution_count": 163,
      "outputs": [
        {
          "output_type": "stream",
          "name": "stdout",
          "text": [
            "Evaluation Model: ANN Test Performance\n",
            "[[2322   94]\n",
            " [ 328  256]]\n",
            "Accuracy   : 85.93 %\n",
            "Precision  : 73.14 %\n",
            "Recall     : 43.84 %\n",
            "Specificity: 96.11 %\n",
            "NPV        : 87.62 %\n"
          ]
        }
      ]
    },
    {
      "cell_type": "markdown",
      "metadata": {
        "id": "OQAyL-74ezVc"
      },
      "source": [
        "### Menentukan Algoritma Model Terbaik"
      ]
    },
    {
      "cell_type": "code",
      "metadata": {
        "id": "_wKfDNHVe0R8",
        "colab": {
          "base_uri": "https://localhost:8080/"
        },
        "outputId": "eb2cdd51-4691-4ea7-8f2c-c4639b48ac56"
      },
      "source": [
        "print(log_model)"
      ],
      "execution_count": 138,
      "outputs": [
        {
          "output_type": "stream",
          "name": "stdout",
          "text": [
            "LogisticRegression(C=1.0, class_weight=None, dual=False, fit_intercept=True,\n",
            "                   intercept_scaling=1, l1_ratio=None, max_iter=100,\n",
            "                   multi_class='auto', n_jobs=None, penalty='l2',\n",
            "                   random_state=None, solver='lbfgs', tol=0.0001, verbose=0,\n",
            "                   warm_start=False)\n"
          ]
        }
      ]
    },
    {
      "cell_type": "code",
      "metadata": {
        "colab": {
          "base_uri": "https://localhost:8080/"
        },
        "id": "0fkN2QZEP9sR",
        "outputId": "9c9177cf-efec-4d2d-f0b2-a338eb5246b4"
      },
      "source": [
        "print(rdf_model)"
      ],
      "execution_count": 139,
      "outputs": [
        {
          "output_type": "stream",
          "name": "stdout",
          "text": [
            "RandomForestClassifier(bootstrap=True, ccp_alpha=0.0, class_weight=None,\n",
            "                       criterion='gini', max_depth=None, max_features='auto',\n",
            "                       max_leaf_nodes=None, max_samples=None,\n",
            "                       min_impurity_decrease=0.0, min_impurity_split=None,\n",
            "                       min_samples_leaf=1, min_samples_split=2,\n",
            "                       min_weight_fraction_leaf=0.0, n_estimators=100,\n",
            "                       n_jobs=None, oob_score=False, random_state=None,\n",
            "                       verbose=0, warm_start=False)\n"
          ]
        }
      ]
    }
  ]
}