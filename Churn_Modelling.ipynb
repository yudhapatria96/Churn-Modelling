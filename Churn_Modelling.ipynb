{
  "nbformat": 4,
  "nbformat_minor": 0,
  "metadata": {
    "colab": {
      "name": "Churn_Modelling.ipynb",
      "provenance": []
    },
    "kernelspec": {
      "name": "python3",
      "display_name": "Python 3"
    },
    "language_info": {
      "name": "python"
    },
    "accelerator": "GPU"
  },
  "cells": [
    {
      "cell_type": "markdown",
      "metadata": {
        "id": "zYqjOIFvYxTI"
      },
      "source": [
        "## Import Library yang dibutuhkan"
      ]
    },
    {
      "cell_type": "code",
      "metadata": {
        "id": "HW-6YympYy7p"
      },
      "source": [
        "#Import library yang dibutuhkan \n",
        "#Importing General packages\n",
        "import pandas as pd\n",
        "import numpy as np\n",
        "import matplotlib.pyplot as plt\n",
        "import seaborn as sns\n",
        "from sklearn.preprocessing import LabelEncoder\n",
        "from sklearn.model_selection import train_test_split\n",
        "from sklearn.linear_model import LogisticRegression\n",
        "from sklearn.ensemble import RandomForestClassifier\n",
        "from sklearn.ensemble import GradientBoostingClassifier\n",
        "from sklearn.metrics import confusion_matrix, classification_report\n",
        "import pickle\n",
        "from pathlib import Path"
      ],
      "execution_count": null,
      "outputs": []
    },
    {
      "cell_type": "markdown",
      "metadata": {
        "id": "cyd1FfJXY2_7"
      },
      "source": [
        "## File Unloading"
      ]
    },
    {
      "cell_type": "code",
      "metadata": {
        "colab": {
          "base_uri": "https://localhost:8080/"
        },
        "id": "Z6IP7F1yY04J",
        "outputId": "960fccf4-b1ac-4f96-a0b6-082b993878b5"
      },
      "source": [
        "#import dataset\n",
        "df_load = pd.read_csv('/content/Churn_Modelling.csv')\n",
        "\n",
        "#Tampilkan bentuk dari dataset\n",
        "print(df_load.shape)\n",
        "\n",
        "#Tampilkan 5 data teratas\n",
        "print(df_load.head())\n",
        "\n",
        "#Tampilkan jumlah ID yang unik\n",
        "print(df_load.CustomerId.nunique())"
      ],
      "execution_count": null,
      "outputs": [
        {
          "output_type": "stream",
          "name": "stdout",
          "text": [
            "(10000, 14)\n",
            "   RowNumber  CustomerId   Surname  ...  IsActiveMember EstimatedSalary Exited\n",
            "0          1    15634602  Hargrave  ...               1       101348.88      1\n",
            "1          2    15647311      Hill  ...               1       112542.58      0\n",
            "2          3    15619304      Onio  ...               0       113931.57      1\n",
            "3          4    15701354      Boni  ...               0        93826.63      0\n",
            "4          5    15737888  Mitchell  ...               1        79084.10      0\n",
            "\n",
            "[5 rows x 14 columns]\n",
            "10000\n"
          ]
        }
      ]
    },
    {
      "cell_type": "code",
      "metadata": {
        "colab": {
          "base_uri": "https://localhost:8080/"
        },
        "id": "hQiIZoqc6e0d",
        "outputId": "eca9f05d-35d9-4e89-879a-539101be278c"
      },
      "source": [
        "df_load.info()"
      ],
      "execution_count": null,
      "outputs": [
        {
          "output_type": "stream",
          "name": "stdout",
          "text": [
            "<class 'pandas.core.frame.DataFrame'>\n",
            "RangeIndex: 10000 entries, 0 to 9999\n",
            "Data columns (total 14 columns):\n",
            " #   Column           Non-Null Count  Dtype  \n",
            "---  ------           --------------  -----  \n",
            " 0   RowNumber        10000 non-null  int64  \n",
            " 1   CustomerId       10000 non-null  int64  \n",
            " 2   Surname          10000 non-null  object \n",
            " 3   CreditScore      10000 non-null  int64  \n",
            " 4   Geography        10000 non-null  object \n",
            " 5   Gender           10000 non-null  object \n",
            " 6   Age              10000 non-null  int64  \n",
            " 7   Tenure           10000 non-null  int64  \n",
            " 8   Balance          10000 non-null  float64\n",
            " 9   NumOfProducts    10000 non-null  int64  \n",
            " 10  HasCrCard        10000 non-null  int64  \n",
            " 11  IsActiveMember   10000 non-null  int64  \n",
            " 12  EstimatedSalary  10000 non-null  float64\n",
            " 13  Exited           10000 non-null  int64  \n",
            "dtypes: float64(2), int64(9), object(3)\n",
            "memory usage: 1.1+ MB\n"
          ]
        }
      ]
    },
    {
      "cell_type": "markdown",
      "metadata": {
        "id": "Z1_o6izJZFmK"
      },
      "source": [
        "## Exploratory Data Analysis"
      ]
    },
    {
      "cell_type": "markdown",
      "metadata": {
        "id": "iubADjUrZH-f"
      },
      "source": [
        "### Memvisualisasikan Prosentase Churn"
      ]
    },
    {
      "cell_type": "code",
      "metadata": {
        "id": "x4eH16BDY7pY",
        "colab": {
          "base_uri": "https://localhost:8080/",
          "height": 318
        },
        "outputId": "7d68a0a0-803d-4a0e-a1b3-e7488e2635be"
      },
      "source": [
        "from matplotlib import pyplot as plt\n",
        "import numpy as np\n",
        "\n",
        "#Your codes here\n",
        "fig = plt.figure()\n",
        "ax = fig.add_axes([0,0,1,1])\n",
        "ax.axis('equal')\n",
        "labels = ['Yes','No']\n",
        "churn = df_load.Exited.value_counts()\n",
        "ax.pie(churn, labels=labels, autopct='%.0f%%')\n",
        "plt.show()"
      ],
      "execution_count": null,
      "outputs": [
        {
          "output_type": "display_data",
          "data": {
            "image/png": "[encoded data removed]",
            "text/plain": [
              "<Figure size 432x288 with 1 Axes>"
            ]
          },
          "metadata": {}
        }
      ]
    },
    {
      "cell_type": "markdown",
      "metadata": {
        "id": "oOz3aFqXZT0t"
      },
      "source": [
        "### Exploratory Data Analysis (EDA) Variabel Numerik"
      ]
    },
    {
      "cell_type": "code",
      "metadata": {
        "id": "Haclknd1ZZwc",
        "colab": {
          "base_uri": "https://localhost:8080/",
          "height": 202
        },
        "outputId": "5ab8a1c1-2f77-4180-b6ce-80036b1f31ad"
      },
      "source": [
        "df_load.head()"
      ],
      "execution_count": null,
      "outputs": [
        {
          "output_type": "execute_result",
          "data": {
            "text/html": [
              "<div>\n",
              "<style scoped>\n",
              "    .dataframe tbody tr th:only-of-type {\n",
              "        vertical-align: middle;\n",
              "    }\n",
              "\n",
              "    .dataframe tbody tr th {\n",
              "        vertical-align: top;\n",
              "    }\n",
              "\n",
              "    .dataframe thead th {\n",
              "        text-align: right;\n",
              "    }\n",
              "</style>\n",
              "<table border=\"1\" class=\"dataframe\">\n",
              "  <thead>\n",
              "    <tr style=\"text-align: right;\">\n",
              "      <th></th>\n",
              "      <th>RowNumber</th>\n",
              "      <th>CustomerId</th>\n",
              "      <th>Surname</th>\n",
              "      <th>CreditScore</th>\n",
              "      <th>Geography</th>\n",
              "      <th>Gender</th>\n",
              "      <th>Age</th>\n",
              "      <th>Tenure</th>\n",
              "      <th>Balance</th>\n",
              "      <th>NumOfProducts</th>\n",
              "      <th>HasCrCard</th>\n",
              "      <th>IsActiveMember</th>\n",
              "      <th>EstimatedSalary</th>\n",
              "      <th>Exited</th>\n",
              "    </tr>\n",
              "  </thead>\n",
              "  <tbody>\n",
              "    <tr>\n",
              "      <th>0</th>\n",
              "      <td>1</td>\n",
              "      <td>15634602</td>\n",
              "      <td>Hargrave</td>\n",
              "      <td>619</td>\n",
              "      <td>France</td>\n",
              "      <td>Female</td>\n",
              "      <td>42</td>\n",
              "      <td>2</td>\n",
              "      <td>0.00</td>\n",
              "      <td>1</td>\n",
              "      <td>1</td>\n",
              "      <td>1</td>\n",
              "      <td>101348.88</td>\n",
              "      <td>1</td>\n",
              "    </tr>\n",
              "    <tr>\n",
              "      <th>1</th>\n",
              "      <td>2</td>\n",
              "      <td>15647311</td>\n",
              "      <td>Hill</td>\n",
              "      <td>608</td>\n",
              "      <td>Spain</td>\n",
              "      <td>Female</td>\n",
              "      <td>41</td>\n",
              "      <td>1</td>\n",
              "      <td>83807.86</td>\n",
              "      <td>1</td>\n",
              "      <td>0</td>\n",
              "      <td>1</td>\n",
              "      <td>112542.58</td>\n",
              "      <td>0</td>\n",
              "    </tr>\n",
              "    <tr>\n",
              "      <th>2</th>\n",
              "      <td>3</td>\n",
              "      <td>15619304</td>\n",
              "      <td>Onio</td>\n",
              "      <td>502</td>\n",
              "      <td>France</td>\n",
              "      <td>Female</td>\n",
              "      <td>42</td>\n",
              "      <td>8</td>\n",
              "      <td>159660.80</td>\n",
              "      <td>3</td>\n",
              "      <td>1</td>\n",
              "      <td>0</td>\n",
              "      <td>113931.57</td>\n",
              "      <td>1</td>\n",
              "    </tr>\n",
              "    <tr>\n",
              "      <th>3</th>\n",
              "      <td>4</td>\n",
              "      <td>15701354</td>\n",
              "      <td>Boni</td>\n",
              "      <td>699</td>\n",
              "      <td>France</td>\n",
              "      <td>Female</td>\n",
              "      <td>39</td>\n",
              "      <td>1</td>\n",
              "      <td>0.00</td>\n",
              "      <td>2</td>\n",
              "      <td>0</td>\n",
              "      <td>0</td>\n",
              "      <td>93826.63</td>\n",
              "      <td>0</td>\n",
              "    </tr>\n",
              "    <tr>\n",
              "      <th>4</th>\n",
              "      <td>5</td>\n",
              "      <td>15737888</td>\n",
              "      <td>Mitchell</td>\n",
              "      <td>850</td>\n",
              "      <td>Spain</td>\n",
              "      <td>Female</td>\n",
              "      <td>43</td>\n",
              "      <td>2</td>\n",
              "      <td>125510.82</td>\n",
              "      <td>1</td>\n",
              "      <td>1</td>\n",
              "      <td>1</td>\n",
              "      <td>79084.10</td>\n",
              "      <td>0</td>\n",
              "    </tr>\n",
              "  </tbody>\n",
              "</table>\n",
              "</div>"
            ],
            "text/plain": [
              "   RowNumber  CustomerId   Surname  ...  IsActiveMember EstimatedSalary Exited\n",
              "0          1    15634602  Hargrave  ...               1       101348.88      1\n",
              "1          2    15647311      Hill  ...               1       112542.58      0\n",
              "2          3    15619304      Onio  ...               0       113931.57      1\n",
              "3          4    15701354      Boni  ...               0        93826.63      0\n",
              "4          5    15737888  Mitchell  ...               1        79084.10      0\n",
              "\n",
              "[5 rows x 14 columns]"
            ]
          },
          "metadata": {},
          "execution_count": 7
        }
      ]
    },
    {
      "cell_type": "code",
      "metadata": {
        "id": "xcnJiufUZVLe",
        "colab": {
          "base_uri": "https://localhost:8080/",
          "height": 878
        },
        "outputId": "02f66dba-e1f5-4619-83b6-96aa10301de4"
      },
      "source": [
        "from matplotlib import pyplot as plt\n",
        "import numpy as np\n",
        "\n",
        "#creating bin in chart\n",
        "numerical_features = ['CreditScore','Age','Tenure','Balance','NumOfProducts','EstimatedSalary']\n",
        "fig, ax = plt.subplots(3, 2, figsize=(20, 15))\n",
        "# Use the following code to plot two overlays of histogram per each numerical_features, use a color of blue and orange, respectively\n",
        "df_load[df_load.Exited == 0][numerical_features].hist(bins=20, color='blue', alpha=0.5, ax=ax)\n",
        "df_load[df_load.Exited == 1][numerical_features].hist(bins=20, color='orange', alpha=0.5, ax=ax)\n",
        "plt.show()"
      ],
      "execution_count": null,
      "outputs": [
        {
          "output_type": "display_data",
          "data": {
            "image/png": "[encoded data removed]",
            "text/plain": [
              "<Figure size 1440x1080 with 6 Axes>"
            ]
          },
          "metadata": {
            "needs_background": "light"
          }
        }
      ]
    },
    {
      "cell_type": "code",
      "metadata": {
        "id": "1u5XtnHDadpE",
        "colab": {
          "base_uri": "https://localhost:8080/",
          "height": 202
        },
        "outputId": "b21f1800-10f9-4b67-9f6d-c92ecf89ab66"
      },
      "source": [
        "df_load.head()"
      ],
      "execution_count": null,
      "outputs": [
        {
          "output_type": "execute_result",
          "data": {
            "text/html": [
              "<div>\n",
              "<style scoped>\n",
              "    .dataframe tbody tr th:only-of-type {\n",
              "        vertical-align: middle;\n",
              "    }\n",
              "\n",
              "    .dataframe tbody tr th {\n",
              "        vertical-align: top;\n",
              "    }\n",
              "\n",
              "    .dataframe thead th {\n",
              "        text-align: right;\n",
              "    }\n",
              "</style>\n",
              "<table border=\"1\" class=\"dataframe\">\n",
              "  <thead>\n",
              "    <tr style=\"text-align: right;\">\n",
              "      <th></th>\n",
              "      <th>RowNumber</th>\n",
              "      <th>CustomerId</th>\n",
              "      <th>Surname</th>\n",
              "      <th>CreditScore</th>\n",
              "      <th>Geography</th>\n",
              "      <th>Gender</th>\n",
              "      <th>Age</th>\n",
              "      <th>Tenure</th>\n",
              "      <th>Balance</th>\n",
              "      <th>NumOfProducts</th>\n",
              "      <th>HasCrCard</th>\n",
              "      <th>IsActiveMember</th>\n",
              "      <th>EstimatedSalary</th>\n",
              "      <th>Exited</th>\n",
              "    </tr>\n",
              "  </thead>\n",
              "  <tbody>\n",
              "    <tr>\n",
              "      <th>0</th>\n",
              "      <td>1</td>\n",
              "      <td>15634602</td>\n",
              "      <td>Hargrave</td>\n",
              "      <td>619</td>\n",
              "      <td>France</td>\n",
              "      <td>Female</td>\n",
              "      <td>42</td>\n",
              "      <td>2</td>\n",
              "      <td>0.00</td>\n",
              "      <td>1</td>\n",
              "      <td>1</td>\n",
              "      <td>1</td>\n",
              "      <td>101348.88</td>\n",
              "      <td>1</td>\n",
              "    </tr>\n",
              "    <tr>\n",
              "      <th>1</th>\n",
              "      <td>2</td>\n",
              "      <td>15647311</td>\n",
              "      <td>Hill</td>\n",
              "      <td>608</td>\n",
              "      <td>Spain</td>\n",
              "      <td>Female</td>\n",
              "      <td>41</td>\n",
              "      <td>1</td>\n",
              "      <td>83807.86</td>\n",
              "      <td>1</td>\n",
              "      <td>0</td>\n",
              "      <td>1</td>\n",
              "      <td>112542.58</td>\n",
              "      <td>0</td>\n",
              "    </tr>\n",
              "    <tr>\n",
              "      <th>2</th>\n",
              "      <td>3</td>\n",
              "      <td>15619304</td>\n",
              "      <td>Onio</td>\n",
              "      <td>502</td>\n",
              "      <td>France</td>\n",
              "      <td>Female</td>\n",
              "      <td>42</td>\n",
              "      <td>8</td>\n",
              "      <td>159660.80</td>\n",
              "      <td>3</td>\n",
              "      <td>1</td>\n",
              "      <td>0</td>\n",
              "      <td>113931.57</td>\n",
              "      <td>1</td>\n",
              "    </tr>\n",
              "    <tr>\n",
              "      <th>3</th>\n",
              "      <td>4</td>\n",
              "      <td>15701354</td>\n",
              "      <td>Boni</td>\n",
              "      <td>699</td>\n",
              "      <td>France</td>\n",
              "      <td>Female</td>\n",
              "      <td>39</td>\n",
              "      <td>1</td>\n",
              "      <td>0.00</td>\n",
              "      <td>2</td>\n",
              "      <td>0</td>\n",
              "      <td>0</td>\n",
              "      <td>93826.63</td>\n",
              "      <td>0</td>\n",
              "    </tr>\n",
              "    <tr>\n",
              "      <th>4</th>\n",
              "      <td>5</td>\n",
              "      <td>15737888</td>\n",
              "      <td>Mitchell</td>\n",
              "      <td>850</td>\n",
              "      <td>Spain</td>\n",
              "      <td>Female</td>\n",
              "      <td>43</td>\n",
              "      <td>2</td>\n",
              "      <td>125510.82</td>\n",
              "      <td>1</td>\n",
              "      <td>1</td>\n",
              "      <td>1</td>\n",
              "      <td>79084.10</td>\n",
              "      <td>0</td>\n",
              "    </tr>\n",
              "  </tbody>\n",
              "</table>\n",
              "</div>"
            ],
            "text/plain": [
              "   RowNumber  CustomerId   Surname  ...  IsActiveMember EstimatedSalary Exited\n",
              "0          1    15634602  Hargrave  ...               1       101348.88      1\n",
              "1          2    15647311      Hill  ...               1       112542.58      0\n",
              "2          3    15619304      Onio  ...               0       113931.57      1\n",
              "3          4    15701354      Boni  ...               0        93826.63      0\n",
              "4          5    15737888  Mitchell  ...               1        79084.10      0\n",
              "\n",
              "[5 rows x 14 columns]"
            ]
          },
          "metadata": {},
          "execution_count": 9
        }
      ]
    },
    {
      "cell_type": "markdown",
      "metadata": {
        "id": "DSg-Ufk_aWW0"
      },
      "source": [
        "### Exploratory Data Analysis (EDA) Variabel Kategorik"
      ]
    },
    {
      "cell_type": "code",
      "metadata": {
        "id": "TCcHceVnaY6M",
        "colab": {
          "base_uri": "https://localhost:8080/",
          "height": 724
        },
        "outputId": "7b471c7e-d635-4df0-acb3-41d42fd888db"
      },
      "source": [
        "from matplotlib import pyplot as plt\n",
        "import numpy as np\n",
        "import seaborn as sns\n",
        "sns.set(style='darkgrid')\n",
        "# Your code goes here\n",
        "fig, ax = plt.subplots(2, 2, figsize=(15, 10))\n",
        "sns.countplot(data=df_load, x='Geography', hue='Exited', ax=ax[0][0])\n",
        "sns.countplot(data=df_load, x='Gender', hue='Exited', ax=ax[0][1])\n",
        "sns.countplot(data=df_load, x='HasCrCard', hue='Exited', ax=ax[1][0])\n",
        "sns.countplot(data=df_load, x='IsActiveMember', hue='Exited', ax=ax[1][1])\n",
        "plt.tight_layout()\n",
        "plt.show()"
      ],
      "execution_count": null,
      "outputs": [
        {
          "output_type": "display_data",
          "data": {
            "image/png": "[encoded data removed]",
            "text/plain": [
              "<Figure size 1080x720 with 4 Axes>"
            ]
          },
          "metadata": {}
        }
      ]
    },
    {
      "cell_type": "markdown",
      "metadata": {
        "id": "lzfm2B6flxld"
      },
      "source": [
        "### Memfilter Duplikasi ID Number Pelanggan"
      ]
    },
    {
      "cell_type": "code",
      "metadata": {
        "id": "rtIDbeeAlyf7",
        "colab": {
          "base_uri": "https://localhost:8080/",
          "height": 35
        },
        "outputId": "7a01c21e-1f29-4899-a42d-bb11a0419de2"
      },
      "source": [
        "f'Jumlah duplicated values = {df_load.duplicated().sum()}'"
      ],
      "execution_count": null,
      "outputs": [
        {
          "output_type": "execute_result",
          "data": {
            "application/vnd.google.colaboratory.intrinsic+json": {
              "type": "string"
            },
            "text/plain": [
              "'Jumlah duplicated values = 0'"
            ]
          },
          "metadata": {},
          "execution_count": 11
        }
      ]
    },
    {
      "cell_type": "markdown",
      "metadata": {
        "id": "qF_WyfYWl72s"
      },
      "source": [
        "### Mengatasi Missing Values dengan Penghapusan Rows"
      ]
    },
    {
      "cell_type": "code",
      "metadata": {
        "id": "spR6ADc3l8ny",
        "colab": {
          "base_uri": "https://localhost:8080/"
        },
        "outputId": "a4f3ae50-8ec3-4a89-f40f-e5370d90af4f"
      },
      "source": [
        "df_load.isna().sum()"
      ],
      "execution_count": null,
      "outputs": [
        {
          "output_type": "execute_result",
          "data": {
            "text/plain": [
              "RowNumber          0\n",
              "CustomerId         0\n",
              "Surname            0\n",
              "CreditScore        0\n",
              "Geography          0\n",
              "Gender             0\n",
              "Age                0\n",
              "Tenure             0\n",
              "Balance            0\n",
              "NumOfProducts      0\n",
              "HasCrCard          0\n",
              "IsActiveMember     0\n",
              "EstimatedSalary    0\n",
              "Exited             0\n",
              "dtype: int64"
            ]
          },
          "metadata": {},
          "execution_count": 12
        }
      ]
    },
    {
      "cell_type": "markdown",
      "metadata": {
        "id": "TtwqfOY9cFAl"
      },
      "source": [
        "### Menghapus Unnecessary Columns dari data"
      ]
    },
    {
      "cell_type": "code",
      "metadata": {
        "id": "A1OYUuy8cJqu",
        "colab": {
          "base_uri": "https://localhost:8080/",
          "height": 202
        },
        "outputId": "06d8c166-9b19-44b1-9552-1572060cdccc"
      },
      "source": [
        "df_load.head()"
      ],
      "execution_count": null,
      "outputs": [
        {
          "output_type": "execute_result",
          "data": {
            "text/html": [
              "<div>\n",
              "<style scoped>\n",
              "    .dataframe tbody tr th:only-of-type {\n",
              "        vertical-align: middle;\n",
              "    }\n",
              "\n",
              "    .dataframe tbody tr th {\n",
              "        vertical-align: top;\n",
              "    }\n",
              "\n",
              "    .dataframe thead th {\n",
              "        text-align: right;\n",
              "    }\n",
              "</style>\n",
              "<table border=\"1\" class=\"dataframe\">\n",
              "  <thead>\n",
              "    <tr style=\"text-align: right;\">\n",
              "      <th></th>\n",
              "      <th>RowNumber</th>\n",
              "      <th>CustomerId</th>\n",
              "      <th>Surname</th>\n",
              "      <th>CreditScore</th>\n",
              "      <th>Geography</th>\n",
              "      <th>Gender</th>\n",
              "      <th>Age</th>\n",
              "      <th>Tenure</th>\n",
              "      <th>Balance</th>\n",
              "      <th>NumOfProducts</th>\n",
              "      <th>HasCrCard</th>\n",
              "      <th>IsActiveMember</th>\n",
              "      <th>EstimatedSalary</th>\n",
              "      <th>Exited</th>\n",
              "    </tr>\n",
              "  </thead>\n",
              "  <tbody>\n",
              "    <tr>\n",
              "      <th>0</th>\n",
              "      <td>1</td>\n",
              "      <td>15634602</td>\n",
              "      <td>Hargrave</td>\n",
              "      <td>619</td>\n",
              "      <td>France</td>\n",
              "      <td>Female</td>\n",
              "      <td>42</td>\n",
              "      <td>2</td>\n",
              "      <td>0.00</td>\n",
              "      <td>1</td>\n",
              "      <td>1</td>\n",
              "      <td>1</td>\n",
              "      <td>101348.88</td>\n",
              "      <td>1</td>\n",
              "    </tr>\n",
              "    <tr>\n",
              "      <th>1</th>\n",
              "      <td>2</td>\n",
              "      <td>15647311</td>\n",
              "      <td>Hill</td>\n",
              "      <td>608</td>\n",
              "      <td>Spain</td>\n",
              "      <td>Female</td>\n",
              "      <td>41</td>\n",
              "      <td>1</td>\n",
              "      <td>83807.86</td>\n",
              "      <td>1</td>\n",
              "      <td>0</td>\n",
              "      <td>1</td>\n",
              "      <td>112542.58</td>\n",
              "      <td>0</td>\n",
              "    </tr>\n",
              "    <tr>\n",
              "      <th>2</th>\n",
              "      <td>3</td>\n",
              "      <td>15619304</td>\n",
              "      <td>Onio</td>\n",
              "      <td>502</td>\n",
              "      <td>France</td>\n",
              "      <td>Female</td>\n",
              "      <td>42</td>\n",
              "      <td>8</td>\n",
              "      <td>159660.80</td>\n",
              "      <td>3</td>\n",
              "      <td>1</td>\n",
              "      <td>0</td>\n",
              "      <td>113931.57</td>\n",
              "      <td>1</td>\n",
              "    </tr>\n",
              "    <tr>\n",
              "      <th>3</th>\n",
              "      <td>4</td>\n",
              "      <td>15701354</td>\n",
              "      <td>Boni</td>\n",
              "      <td>699</td>\n",
              "      <td>France</td>\n",
              "      <td>Female</td>\n",
              "      <td>39</td>\n",
              "      <td>1</td>\n",
              "      <td>0.00</td>\n",
              "      <td>2</td>\n",
              "      <td>0</td>\n",
              "      <td>0</td>\n",
              "      <td>93826.63</td>\n",
              "      <td>0</td>\n",
              "    </tr>\n",
              "    <tr>\n",
              "      <th>4</th>\n",
              "      <td>5</td>\n",
              "      <td>15737888</td>\n",
              "      <td>Mitchell</td>\n",
              "      <td>850</td>\n",
              "      <td>Spain</td>\n",
              "      <td>Female</td>\n",
              "      <td>43</td>\n",
              "      <td>2</td>\n",
              "      <td>125510.82</td>\n",
              "      <td>1</td>\n",
              "      <td>1</td>\n",
              "      <td>1</td>\n",
              "      <td>79084.10</td>\n",
              "      <td>0</td>\n",
              "    </tr>\n",
              "  </tbody>\n",
              "</table>\n",
              "</div>"
            ],
            "text/plain": [
              "   RowNumber  CustomerId   Surname  ...  IsActiveMember EstimatedSalary Exited\n",
              "0          1    15634602  Hargrave  ...               1       101348.88      1\n",
              "1          2    15647311      Hill  ...               1       112542.58      0\n",
              "2          3    15619304      Onio  ...               0       113931.57      1\n",
              "3          4    15701354      Boni  ...               0        93826.63      0\n",
              "4          5    15737888  Mitchell  ...               1        79084.10      0\n",
              "\n",
              "[5 rows x 14 columns]"
            ]
          },
          "metadata": {},
          "execution_count": 13
        }
      ]
    },
    {
      "cell_type": "code",
      "metadata": {
        "id": "E-qLw5QlmqKY",
        "colab": {
          "base_uri": "https://localhost:8080/",
          "height": 1000
        },
        "outputId": "fe498ed2-492d-40aa-e000-e5cb91621d59"
      },
      "source": [
        "print('\\nPersebaran data sebelum ditangani Outlier: ')\n",
        "print(df_load[['CreditScore','Age','Balance','EstimatedSalary']].describe())\n",
        "\n",
        "# Creating Box Plot\n",
        "import matplotlib.pyplot as plt\n",
        "import seaborn as sns\n",
        "\n",
        "# Masukkan variable\n",
        "plt.figure() # untuk membuat figure baru\n",
        "sns.boxplot(x=df_load['CreditScore'])\n",
        "plt.show()\n",
        "plt.figure() # untuk membuat figure baru\n",
        "sns.boxplot(x=df_load['Age'])\n",
        "plt.show()\n",
        "plt.figure() # untuk membuat figure baru\n",
        "sns.boxplot(x=df_load['Balance'])\n",
        "plt.show()\n",
        "plt.figure() # untuk membuat figure baru\n",
        "sns.boxplot(x=df_load['EstimatedSalary'])\n",
        "plt.show()"
      ],
      "execution_count": null,
      "outputs": [
        {
          "output_type": "stream",
          "name": "stdout",
          "text": [
            "\n",
            "Persebaran data sebelum ditangani Outlier: \n",
            "        CreditScore           Age        Balance  EstimatedSalary\n",
            "count  10000.000000  10000.000000   10000.000000     10000.000000\n",
            "mean     650.528800     38.921800   76485.889288    100090.239881\n",
            "std       96.653299     10.487806   62397.405202     57510.492818\n",
            "min      350.000000     18.000000       0.000000        11.580000\n",
            "25%      584.000000     32.000000       0.000000     51002.110000\n",
            "50%      652.000000     37.000000   97198.540000    100193.915000\n",
            "75%      718.000000     44.000000  127644.240000    149388.247500\n",
            "max      850.000000     92.000000  250898.090000    199992.480000\n"
          ]
        },
        {
          "output_type": "display_data",
          "data": {
            "image/png": "[encoded data removed]",
            "text/plain": [
              "<Figure size 432x288 with 1 Axes>"
            ]
          },
          "metadata": {}
        },
        {
          "output_type": "display_data",
          "data": {
            "image/png": "[encoded data removed]",
            "text/plain": [
              "<Figure size 432x288 with 1 Axes>"
            ]
          },
          "metadata": {}
        },
        {
          "output_type": "display_data",
          "data": {
            "image/png": "[encoded data removed]",
            "text/plain": [
              "<Figure size 432x288 with 1 Axes>"
            ]
          },
          "metadata": {}
        },
        {
          "output_type": "display_data",
          "data": {
            "image/png": "[encoded data removed]",
            "text/plain": [
              "<Figure size 432x288 with 1 Axes>"
            ]
          },
          "metadata": {}
        }
      ]
    },
    {
      "cell_type": "code",
      "metadata": {
        "id": "zqVuSzZNv7xf",
        "colab": {
          "base_uri": "https://localhost:8080/"
        },
        "outputId": "29794568-48f2-4218-ee93-87546496e739"
      },
      "source": [
        "# Handling with IQR\n",
        "Q1 = (df_load[['CreditScore','Age','Balance','EstimatedSalary']]).quantile(0.25)\n",
        "Q3 = (df_load[['CreditScore','Age','Balance','EstimatedSalary']]).quantile(0.75)\n",
        "\n",
        "IQR = Q3 - Q1\n",
        "maximum  = Q3 + (1.5*IQR)\n",
        "print('Nilai Maximum dari masing-masing Variable adalah: ')\n",
        "print(maximum)\n",
        "minimum = Q1 - (1.5*IQR)\n",
        "print('\\nNilai Minimum dari masing-masing Variable adalah: ')\n",
        "print(minimum)\n",
        "\n",
        "more_than     = (df_load > maximum)\n",
        "lower_than    = (df_load < minimum)\n",
        "df_load       = df_load.mask(more_than, maximum, axis=1) \n",
        "df_load       = df_load.mask(lower_than, minimum, axis=1)\n",
        "\n",
        "print('\\nPersebaran data setelah ditangani Outlier: ')\n",
        "print(df_load[['CreditScore','Age','Balance','EstimatedSalary']].describe())"
      ],
      "execution_count": null,
      "outputs": [
        {
          "output_type": "stream",
          "name": "stdout",
          "text": [
            "Nilai Maximum dari masing-masing Variable adalah: \n",
            "CreditScore           919.00000\n",
            "Age                    62.00000\n",
            "Balance            319110.60000\n",
            "EstimatedSalary    296967.45375\n",
            "dtype: float64\n",
            "\n",
            "Nilai Minimum dari masing-masing Variable adalah: \n",
            "CreditScore           383.00000\n",
            "Age                    14.00000\n",
            "Balance           -191466.36000\n",
            "EstimatedSalary    -96577.09625\n",
            "dtype: float64\n",
            "\n",
            "Persebaran data setelah ditangani Outlier: \n",
            "        CreditScore           Age        Balance  EstimatedSalary\n",
            "count  10000.000000  10000.000000   10000.000000     10000.000000\n",
            "mean     650.561300     38.660800   76485.889288    100090.239881\n",
            "std       96.558702      9.746704   62397.405202     57510.492818\n",
            "min      383.000000     18.000000       0.000000        11.580000\n",
            "25%      584.000000     32.000000       0.000000     51002.110000\n",
            "50%      652.000000     37.000000   97198.540000    100193.915000\n",
            "75%      718.000000     44.000000  127644.240000    149388.247500\n",
            "max      850.000000     62.000000  250898.090000    199992.480000\n"
          ]
        }
      ]
    },
    {
      "cell_type": "code",
      "metadata": {
        "id": "tmEaPU35cHC5",
        "colab": {
          "base_uri": "https://localhost:8080/",
          "height": 202
        },
        "outputId": "f7004377-e9da-4138-b8e1-3881ad7aacdd"
      },
      "source": [
        "#Remove the unnecessary columns customerID & UpdatedAt\n",
        "cleaned_df = df_load.drop(['RowNumber','CustomerId','Surname'], axis=1)\n",
        "cleaned_df.head()"
      ],
      "execution_count": null,
      "outputs": [
        {
          "output_type": "execute_result",
          "data": {
            "text/html": [
              "<div>\n",
              "<style scoped>\n",
              "    .dataframe tbody tr th:only-of-type {\n",
              "        vertical-align: middle;\n",
              "    }\n",
              "\n",
              "    .dataframe tbody tr th {\n",
              "        vertical-align: top;\n",
              "    }\n",
              "\n",
              "    .dataframe thead th {\n",
              "        text-align: right;\n",
              "    }\n",
              "</style>\n",
              "<table border=\"1\" class=\"dataframe\">\n",
              "  <thead>\n",
              "    <tr style=\"text-align: right;\">\n",
              "      <th></th>\n",
              "      <th>CreditScore</th>\n",
              "      <th>Geography</th>\n",
              "      <th>Gender</th>\n",
              "      <th>Age</th>\n",
              "      <th>Tenure</th>\n",
              "      <th>Balance</th>\n",
              "      <th>NumOfProducts</th>\n",
              "      <th>HasCrCard</th>\n",
              "      <th>IsActiveMember</th>\n",
              "      <th>EstimatedSalary</th>\n",
              "      <th>Exited</th>\n",
              "    </tr>\n",
              "  </thead>\n",
              "  <tbody>\n",
              "    <tr>\n",
              "      <th>0</th>\n",
              "      <td>619</td>\n",
              "      <td>France</td>\n",
              "      <td>Female</td>\n",
              "      <td>42</td>\n",
              "      <td>2</td>\n",
              "      <td>0.00</td>\n",
              "      <td>1</td>\n",
              "      <td>1</td>\n",
              "      <td>1</td>\n",
              "      <td>101348.88</td>\n",
              "      <td>1</td>\n",
              "    </tr>\n",
              "    <tr>\n",
              "      <th>1</th>\n",
              "      <td>608</td>\n",
              "      <td>Spain</td>\n",
              "      <td>Female</td>\n",
              "      <td>41</td>\n",
              "      <td>1</td>\n",
              "      <td>83807.86</td>\n",
              "      <td>1</td>\n",
              "      <td>0</td>\n",
              "      <td>1</td>\n",
              "      <td>112542.58</td>\n",
              "      <td>0</td>\n",
              "    </tr>\n",
              "    <tr>\n",
              "      <th>2</th>\n",
              "      <td>502</td>\n",
              "      <td>France</td>\n",
              "      <td>Female</td>\n",
              "      <td>42</td>\n",
              "      <td>8</td>\n",
              "      <td>159660.80</td>\n",
              "      <td>3</td>\n",
              "      <td>1</td>\n",
              "      <td>0</td>\n",
              "      <td>113931.57</td>\n",
              "      <td>1</td>\n",
              "    </tr>\n",
              "    <tr>\n",
              "      <th>3</th>\n",
              "      <td>699</td>\n",
              "      <td>France</td>\n",
              "      <td>Female</td>\n",
              "      <td>39</td>\n",
              "      <td>1</td>\n",
              "      <td>0.00</td>\n",
              "      <td>2</td>\n",
              "      <td>0</td>\n",
              "      <td>0</td>\n",
              "      <td>93826.63</td>\n",
              "      <td>0</td>\n",
              "    </tr>\n",
              "    <tr>\n",
              "      <th>4</th>\n",
              "      <td>850</td>\n",
              "      <td>Spain</td>\n",
              "      <td>Female</td>\n",
              "      <td>43</td>\n",
              "      <td>2</td>\n",
              "      <td>125510.82</td>\n",
              "      <td>1</td>\n",
              "      <td>1</td>\n",
              "      <td>1</td>\n",
              "      <td>79084.10</td>\n",
              "      <td>0</td>\n",
              "    </tr>\n",
              "  </tbody>\n",
              "</table>\n",
              "</div>"
            ],
            "text/plain": [
              "   CreditScore Geography  Gender  ...  IsActiveMember  EstimatedSalary  Exited\n",
              "0          619    France  Female  ...               1        101348.88       1\n",
              "1          608     Spain  Female  ...               1        112542.58       0\n",
              "2          502    France  Female  ...               0        113931.57       1\n",
              "3          699    France  Female  ...               0         93826.63       0\n",
              "4          850     Spain  Female  ...               1         79084.10       0\n",
              "\n",
              "[5 rows x 11 columns]"
            ]
          },
          "metadata": {},
          "execution_count": 16
        }
      ]
    },
    {
      "cell_type": "markdown",
      "metadata": {
        "id": "juAR4y_Fc8RF"
      },
      "source": [
        "### Encoding Data"
      ]
    },
    {
      "cell_type": "code",
      "metadata": {
        "id": "nfB1LWtzc-Gw",
        "colab": {
          "base_uri": "https://localhost:8080/",
          "height": 330
        },
        "outputId": "a9c83657-6f38-48d6-b734-ac5ee174388d"
      },
      "source": [
        "from sklearn.preprocessing import LabelEncoder\n",
        "#Convert all the non-numeric columns to numerical data types\n",
        "for column in cleaned_df.columns:\n",
        "    if cleaned_df[column].dtype == np.number: continue\n",
        "    # Perform encoding for each non-numeric column\n",
        "    cleaned_df[column] = LabelEncoder().fit_transform(cleaned_df[column])\n",
        "cleaned_df.describe()"
      ],
      "execution_count": null,
      "outputs": [
        {
          "output_type": "stream",
          "name": "stderr",
          "text": [
            "/usr/local/lib/python3.7/dist-packages/ipykernel_launcher.py:4: DeprecationWarning: Converting `np.inexact` or `np.floating` to a dtype is deprecated. The current result is `float64` which is not strictly correct.\n",
            "  after removing the cwd from sys.path.\n"
          ]
        },
        {
          "output_type": "execute_result",
          "data": {
            "text/html": [
              "<div>\n",
              "<style scoped>\n",
              "    .dataframe tbody tr th:only-of-type {\n",
              "        vertical-align: middle;\n",
              "    }\n",
              "\n",
              "    .dataframe tbody tr th {\n",
              "        vertical-align: top;\n",
              "    }\n",
              "\n",
              "    .dataframe thead th {\n",
              "        text-align: right;\n",
              "    }\n",
              "</style>\n",
              "<table border=\"1\" class=\"dataframe\">\n",
              "  <thead>\n",
              "    <tr style=\"text-align: right;\">\n",
              "      <th></th>\n",
              "      <th>CreditScore</th>\n",
              "      <th>Geography</th>\n",
              "      <th>Gender</th>\n",
              "      <th>Age</th>\n",
              "      <th>Tenure</th>\n",
              "      <th>Balance</th>\n",
              "      <th>NumOfProducts</th>\n",
              "      <th>HasCrCard</th>\n",
              "      <th>IsActiveMember</th>\n",
              "      <th>EstimatedSalary</th>\n",
              "      <th>Exited</th>\n",
              "    </tr>\n",
              "  </thead>\n",
              "  <tbody>\n",
              "    <tr>\n",
              "      <th>count</th>\n",
              "      <td>10000.000000</td>\n",
              "      <td>10000.000000</td>\n",
              "      <td>10000.000000</td>\n",
              "      <td>10000.000000</td>\n",
              "      <td>10000.000000</td>\n",
              "      <td>10000.000000</td>\n",
              "      <td>10000.000000</td>\n",
              "      <td>10000.00000</td>\n",
              "      <td>10000.000000</td>\n",
              "      <td>10000.000000</td>\n",
              "      <td>10000.000000</td>\n",
              "    </tr>\n",
              "    <tr>\n",
              "      <th>mean</th>\n",
              "      <td>249.594300</td>\n",
              "      <td>0.746300</td>\n",
              "      <td>0.545700</td>\n",
              "      <td>20.660800</td>\n",
              "      <td>5.012800</td>\n",
              "      <td>76485.889288</td>\n",
              "      <td>0.530200</td>\n",
              "      <td>0.70550</td>\n",
              "      <td>0.515100</td>\n",
              "      <td>100090.239881</td>\n",
              "      <td>0.203700</td>\n",
              "    </tr>\n",
              "    <tr>\n",
              "      <th>std</th>\n",
              "      <td>96.470603</td>\n",
              "      <td>0.827529</td>\n",
              "      <td>0.497932</td>\n",
              "      <td>9.746704</td>\n",
              "      <td>2.892174</td>\n",
              "      <td>62397.405202</td>\n",
              "      <td>0.581654</td>\n",
              "      <td>0.45584</td>\n",
              "      <td>0.499797</td>\n",
              "      <td>57510.492818</td>\n",
              "      <td>0.402769</td>\n",
              "    </tr>\n",
              "    <tr>\n",
              "      <th>min</th>\n",
              "      <td>0.000000</td>\n",
              "      <td>0.000000</td>\n",
              "      <td>0.000000</td>\n",
              "      <td>0.000000</td>\n",
              "      <td>0.000000</td>\n",
              "      <td>0.000000</td>\n",
              "      <td>0.000000</td>\n",
              "      <td>0.00000</td>\n",
              "      <td>0.000000</td>\n",
              "      <td>11.580000</td>\n",
              "      <td>0.000000</td>\n",
              "    </tr>\n",
              "    <tr>\n",
              "      <th>25%</th>\n",
              "      <td>183.000000</td>\n",
              "      <td>0.000000</td>\n",
              "      <td>0.000000</td>\n",
              "      <td>14.000000</td>\n",
              "      <td>3.000000</td>\n",
              "      <td>0.000000</td>\n",
              "      <td>0.000000</td>\n",
              "      <td>0.00000</td>\n",
              "      <td>0.000000</td>\n",
              "      <td>51002.110000</td>\n",
              "      <td>0.000000</td>\n",
              "    </tr>\n",
              "    <tr>\n",
              "      <th>50%</th>\n",
              "      <td>251.000000</td>\n",
              "      <td>0.000000</td>\n",
              "      <td>1.000000</td>\n",
              "      <td>19.000000</td>\n",
              "      <td>5.000000</td>\n",
              "      <td>97198.540000</td>\n",
              "      <td>0.000000</td>\n",
              "      <td>1.00000</td>\n",
              "      <td>1.000000</td>\n",
              "      <td>100193.915000</td>\n",
              "      <td>0.000000</td>\n",
              "    </tr>\n",
              "    <tr>\n",
              "      <th>75%</th>\n",
              "      <td>317.000000</td>\n",
              "      <td>1.000000</td>\n",
              "      <td>1.000000</td>\n",
              "      <td>26.000000</td>\n",
              "      <td>7.000000</td>\n",
              "      <td>127644.240000</td>\n",
              "      <td>1.000000</td>\n",
              "      <td>1.00000</td>\n",
              "      <td>1.000000</td>\n",
              "      <td>149388.247500</td>\n",
              "      <td>0.000000</td>\n",
              "    </tr>\n",
              "    <tr>\n",
              "      <th>max</th>\n",
              "      <td>449.000000</td>\n",
              "      <td>2.000000</td>\n",
              "      <td>1.000000</td>\n",
              "      <td>44.000000</td>\n",
              "      <td>10.000000</td>\n",
              "      <td>250898.090000</td>\n",
              "      <td>3.000000</td>\n",
              "      <td>1.00000</td>\n",
              "      <td>1.000000</td>\n",
              "      <td>199992.480000</td>\n",
              "      <td>1.000000</td>\n",
              "    </tr>\n",
              "  </tbody>\n",
              "</table>\n",
              "</div>"
            ],
            "text/plain": [
              "        CreditScore     Geography  ...  EstimatedSalary        Exited\n",
              "count  10000.000000  10000.000000  ...     10000.000000  10000.000000\n",
              "mean     249.594300      0.746300  ...    100090.239881      0.203700\n",
              "std       96.470603      0.827529  ...     57510.492818      0.402769\n",
              "min        0.000000      0.000000  ...        11.580000      0.000000\n",
              "25%      183.000000      0.000000  ...     51002.110000      0.000000\n",
              "50%      251.000000      0.000000  ...    100193.915000      0.000000\n",
              "75%      317.000000      1.000000  ...    149388.247500      0.000000\n",
              "max      449.000000      2.000000  ...    199992.480000      1.000000\n",
              "\n",
              "[8 rows x 11 columns]"
            ]
          },
          "metadata": {},
          "execution_count": 17
        }
      ]
    },
    {
      "cell_type": "code",
      "metadata": {
        "id": "vXCdlt7ojPvp",
        "colab": {
          "base_uri": "https://localhost:8080/",
          "height": 202
        },
        "outputId": "0a3c992f-b41a-44f0-b7ac-85a7ca914e1d"
      },
      "source": [
        "cleaned_df.head()"
      ],
      "execution_count": null,
      "outputs": [
        {
          "output_type": "execute_result",
          "data": {
            "text/html": [
              "<div>\n",
              "<style scoped>\n",
              "    .dataframe tbody tr th:only-of-type {\n",
              "        vertical-align: middle;\n",
              "    }\n",
              "\n",
              "    .dataframe tbody tr th {\n",
              "        vertical-align: top;\n",
              "    }\n",
              "\n",
              "    .dataframe thead th {\n",
              "        text-align: right;\n",
              "    }\n",
              "</style>\n",
              "<table border=\"1\" class=\"dataframe\">\n",
              "  <thead>\n",
              "    <tr style=\"text-align: right;\">\n",
              "      <th></th>\n",
              "      <th>CreditScore</th>\n",
              "      <th>Geography</th>\n",
              "      <th>Gender</th>\n",
              "      <th>Age</th>\n",
              "      <th>Tenure</th>\n",
              "      <th>Balance</th>\n",
              "      <th>NumOfProducts</th>\n",
              "      <th>HasCrCard</th>\n",
              "      <th>IsActiveMember</th>\n",
              "      <th>EstimatedSalary</th>\n",
              "      <th>Exited</th>\n",
              "    </tr>\n",
              "  </thead>\n",
              "  <tbody>\n",
              "    <tr>\n",
              "      <th>0</th>\n",
              "      <td>218</td>\n",
              "      <td>0</td>\n",
              "      <td>0</td>\n",
              "      <td>24</td>\n",
              "      <td>2</td>\n",
              "      <td>0.00</td>\n",
              "      <td>0</td>\n",
              "      <td>1</td>\n",
              "      <td>1</td>\n",
              "      <td>101348.88</td>\n",
              "      <td>1</td>\n",
              "    </tr>\n",
              "    <tr>\n",
              "      <th>1</th>\n",
              "      <td>207</td>\n",
              "      <td>2</td>\n",
              "      <td>0</td>\n",
              "      <td>23</td>\n",
              "      <td>1</td>\n",
              "      <td>83807.86</td>\n",
              "      <td>0</td>\n",
              "      <td>0</td>\n",
              "      <td>1</td>\n",
              "      <td>112542.58</td>\n",
              "      <td>0</td>\n",
              "    </tr>\n",
              "    <tr>\n",
              "      <th>2</th>\n",
              "      <td>101</td>\n",
              "      <td>0</td>\n",
              "      <td>0</td>\n",
              "      <td>24</td>\n",
              "      <td>8</td>\n",
              "      <td>159660.80</td>\n",
              "      <td>2</td>\n",
              "      <td>1</td>\n",
              "      <td>0</td>\n",
              "      <td>113931.57</td>\n",
              "      <td>1</td>\n",
              "    </tr>\n",
              "    <tr>\n",
              "      <th>3</th>\n",
              "      <td>298</td>\n",
              "      <td>0</td>\n",
              "      <td>0</td>\n",
              "      <td>21</td>\n",
              "      <td>1</td>\n",
              "      <td>0.00</td>\n",
              "      <td>1</td>\n",
              "      <td>0</td>\n",
              "      <td>0</td>\n",
              "      <td>93826.63</td>\n",
              "      <td>0</td>\n",
              "    </tr>\n",
              "    <tr>\n",
              "      <th>4</th>\n",
              "      <td>449</td>\n",
              "      <td>2</td>\n",
              "      <td>0</td>\n",
              "      <td>25</td>\n",
              "      <td>2</td>\n",
              "      <td>125510.82</td>\n",
              "      <td>0</td>\n",
              "      <td>1</td>\n",
              "      <td>1</td>\n",
              "      <td>79084.10</td>\n",
              "      <td>0</td>\n",
              "    </tr>\n",
              "  </tbody>\n",
              "</table>\n",
              "</div>"
            ],
            "text/plain": [
              "   CreditScore  Geography  Gender  ...  IsActiveMember  EstimatedSalary  Exited\n",
              "0          218          0       0  ...               1        101348.88       1\n",
              "1          207          2       0  ...               1        112542.58       0\n",
              "2          101          0       0  ...               0        113931.57       1\n",
              "3          298          0       0  ...               0         93826.63       0\n",
              "4          449          2       0  ...               1         79084.10       0\n",
              "\n",
              "[5 rows x 11 columns]"
            ]
          },
          "metadata": {},
          "execution_count": 18
        }
      ]
    },
    {
      "cell_type": "markdown",
      "metadata": {
        "id": "l2zC2r7LdFq8"
      },
      "source": [
        "### Splitting Dataset"
      ]
    },
    {
      "cell_type": "code",
      "metadata": {
        "id": "0FZH8_N8dGqU",
        "colab": {
          "base_uri": "https://localhost:8080/"
        },
        "outputId": "719712a0-fc14-4787-be37-4a51a2388b39"
      },
      "source": [
        "from sklearn.model_selection import train_test_split\n",
        "# Predictor dan target\n",
        "x = cleaned_df.drop('Exited', axis = 1)\n",
        "y = cleaned_df['Exited']\n",
        "# Splitting train and test\n",
        "x_train, x_test, y_train, y_test = train_test_split(x, y, test_size=0.3, random_state=42)\n",
        "# Print according to the expected result\n",
        "print('Jumlah baris dan kolom dari x_train adalah:', x_train.shape,', sedangkan Jumlah baris dan kolom dari y_train adalah:', y_train.shape)\n",
        "print('Prosentase Churn di data Training adalah:')\n",
        "print(y_train.value_counts(normalize=True))\n",
        "print('Jumlah baris dan kolom dari x_test adalah:', x_test.shape,', sedangkan Jumlah baris dan kolom dari y_test adalah:', y_test.shape)\n",
        "print('Prosentase Churn di data Testing adalah:')\n",
        "print(y_test.value_counts(normalize=True))\n"
      ],
      "execution_count": null,
      "outputs": [
        {
          "output_type": "stream",
          "name": "stdout",
          "text": [
            "Jumlah baris dan kolom dari x_train adalah: (7000, 10) , sedangkan Jumlah baris dan kolom dari y_train adalah: (7000,)\n",
            "Prosentase Churn di data Training adalah:\n",
            "0    0.792429\n",
            "1    0.207571\n",
            "Name: Exited, dtype: float64\n",
            "Jumlah baris dan kolom dari x_test adalah: (3000, 10) , sedangkan Jumlah baris dan kolom dari y_test adalah: (3000,)\n",
            "Prosentase Churn di data Testing adalah:\n",
            "0    0.805333\n",
            "1    0.194667\n",
            "Name: Exited, dtype: float64\n"
          ]
        }
      ]
    },
    {
      "cell_type": "markdown",
      "metadata": {
        "id": "w6VpBI35dN8y"
      },
      "source": [
        "### Pembuatan Model"
      ]
    },
    {
      "cell_type": "code",
      "metadata": {
        "id": "aW23bcCVdO8j",
        "colab": {
          "base_uri": "https://localhost:8080/"
        },
        "outputId": "ecd41c92-e681-4052-9672-74a47e40237c"
      },
      "source": [
        "from sklearn.linear_model import LogisticRegression\n",
        "log_model = LogisticRegression().fit(x_train, y_train)\n",
        "print('Model Logistic Regression yang terbentuk adalah: \\n', log_model)"
      ],
      "execution_count": null,
      "outputs": [
        {
          "output_type": "stream",
          "name": "stdout",
          "text": [
            "Model Logistic Regression yang terbentuk adalah: \n",
            " LogisticRegression(C=1.0, class_weight=None, dual=False, fit_intercept=True,\n",
            "                   intercept_scaling=1, l1_ratio=None, max_iter=100,\n",
            "                   multi_class='auto', n_jobs=None, penalty='l2',\n",
            "                   random_state=None, solver='lbfgs', tol=0.0001, verbose=0,\n",
            "                   warm_start=False)\n"
          ]
        }
      ]
    },
    {
      "cell_type": "markdown",
      "metadata": {
        "id": "Dy6WL8yVdTI7"
      },
      "source": [
        "### Performansi Model Training - Menampilkan Metrics"
      ]
    },
    {
      "cell_type": "code",
      "metadata": {
        "id": "POauhuGSdQzr",
        "colab": {
          "base_uri": "https://localhost:8080/"
        },
        "outputId": "de88d37f-4d5a-4b13-8ada-8df5c30f87cc"
      },
      "source": [
        "from sklearn.metrics import classification_report\n",
        "# Predict\n",
        "y_train_pred = log_model.predict(x_train)\n",
        "# Print classification report\n",
        "print('Classification Report Training Model (Logistic Regression) :')\n",
        "print(classification_report(y_train, y_train_pred))"
      ],
      "execution_count": null,
      "outputs": [
        {
          "output_type": "stream",
          "name": "stdout",
          "text": [
            "Classification Report Training Model (Logistic Regression) :\n",
            "              precision    recall  f1-score   support\n",
            "\n",
            "           0       0.80      0.96      0.88      5547\n",
            "           1       0.39      0.08      0.14      1453\n",
            "\n",
            "    accuracy                           0.78      7000\n",
            "   macro avg       0.59      0.52      0.51      7000\n",
            "weighted avg       0.71      0.78      0.72      7000\n",
            "\n"
          ]
        }
      ]
    },
    {
      "cell_type": "markdown",
      "metadata": {
        "id": "_nK4MmrFdY-s"
      },
      "source": [
        "### Performansi Model Training - Menampilkan Plots"
      ]
    },
    {
      "cell_type": "code",
      "metadata": {
        "id": "F7mRuCAvdWGL",
        "colab": {
          "base_uri": "https://localhost:8080/",
          "height": 331
        },
        "outputId": "ce6c5c4e-7a1b-4295-f338-7473dcec6b12"
      },
      "source": [
        "from sklearn.metrics import confusion_matrix\n",
        "from matplotlib import pyplot as plt\n",
        "import seaborn as sns\n",
        "\n",
        "# Form confusion matrix as a DataFrame\n",
        "confusion_matrix_df = pd.DataFrame((confusion_matrix(y_train, y_train_pred)), ('No churn', 'Churn'), ('No churn', 'Churn'))\n",
        "\n",
        "# Plot confusion matrix\n",
        "plt.figure()\n",
        "heatmap = sns.heatmap(confusion_matrix_df, annot=True, annot_kws={'size': 14}, fmt='d', cmap='YlGnBu')\n",
        "heatmap.yaxis.set_ticklabels(heatmap.yaxis.get_ticklabels(), rotation=0, ha='right', fontsize=14)\n",
        "heatmap.xaxis.set_ticklabels(heatmap.xaxis.get_ticklabels(), rotation=0, ha='right', fontsize=14)\n",
        "\n",
        "plt.title('Confusion Matrix for Training Model\\n(Logistic Regression)', fontsize=18, color='darkblue')\n",
        "plt.ylabel('True label', fontsize=14)\n",
        "plt.xlabel('Predicted label', fontsize=14)\n",
        "plt.show()"
      ],
      "execution_count": null,
      "outputs": [
        {
          "output_type": "display_data",
          "data": {
            "image/png": "[encoded data removed]",
            "text/plain": [
              "<Figure size 432x288 with 2 Axes>"
            ]
          },
          "metadata": {}
        }
      ]
    },
    {
      "cell_type": "markdown",
      "metadata": {
        "id": "ke_sb7MBdgSU"
      },
      "source": [
        "### Performansi Data Testing - Menampilkan Metrics"
      ]
    },
    {
      "cell_type": "code",
      "metadata": {
        "id": "OEuxL__wdKZd",
        "colab": {
          "base_uri": "https://localhost:8080/"
        },
        "outputId": "4687aa70-3c57-4ae1-aede-04453b48380e"
      },
      "source": [
        "from sklearn.metrics import classification_report\n",
        "# Predict\n",
        "y_test_pred = log_model.predict(x_test)\n",
        "# Print classification report\n",
        "print('Classification Report Testing Model (Logistic Regression):')\n",
        "print(classification_report(y_test, y_test_pred))"
      ],
      "execution_count": null,
      "outputs": [
        {
          "output_type": "stream",
          "name": "stdout",
          "text": [
            "Classification Report Testing Model (Logistic Regression):\n",
            "              precision    recall  f1-score   support\n",
            "\n",
            "           0       0.82      0.96      0.88      2416\n",
            "           1       0.41      0.11      0.17       584\n",
            "\n",
            "    accuracy                           0.80      3000\n",
            "   macro avg       0.61      0.53      0.53      3000\n",
            "weighted avg       0.74      0.80      0.74      3000\n",
            "\n"
          ]
        }
      ]
    },
    {
      "cell_type": "markdown",
      "metadata": {
        "id": "EyrpP6sddk0B"
      },
      "source": [
        "### Performansi Data Testing - Menampilkan Plots"
      ]
    },
    {
      "cell_type": "code",
      "metadata": {
        "id": "Okad4VDqdlyn",
        "colab": {
          "base_uri": "https://localhost:8080/",
          "height": 351
        },
        "outputId": "6f53147b-b324-4395-c80c-0ab43b144665"
      },
      "source": [
        "from sklearn.metrics import confusion_matrix\n",
        "from matplotlib import pyplot as plt\n",
        "import seaborn as sns\n",
        "\n",
        "# Form confusion matrix as a DataFrame\n",
        "confusion_matrix_df = pd.DataFrame((confusion_matrix(y_test, y_test_pred)), ('No churn', 'Churn'), ('No churn', 'Churn'))\n",
        "\n",
        "# Plot confusion matrix\n",
        "plt.figure()\n",
        "heatmap = sns.heatmap(confusion_matrix_df, annot=True, annot_kws={'size': 14}, fmt='d', cmap='YlGnBu')\n",
        "heatmap.yaxis.set_ticklabels(heatmap.yaxis.get_ticklabels(), rotation=0, ha='right', fontsize=14)\n",
        "heatmap.xaxis.set_ticklabels(heatmap.xaxis.get_ticklabels(), rotation=0, ha='right', fontsize=14)\n",
        "\n",
        "plt.title('Confusion Matrix for Testing Model\\n(Logistic Regression)\\n', fontsize=18, color='darkblue')\n",
        "plt.ylabel('True label', fontsize=14)\n",
        "plt.xlabel('Predicted label', fontsize=14)\n",
        "plt.show()"
      ],
      "execution_count": null,
      "outputs": [
        {
          "output_type": "display_data",
          "data": {
            "image/png": "[encoded data removed]",
            "text/plain": [
              "<Figure size 432x288 with 2 Axes>"
            ]
          },
          "metadata": {}
        }
      ]
    },
    {
      "cell_type": "markdown",
      "metadata": {
        "id": "1aVbC5fidts9"
      },
      "source": [
        "### Pembuatan Model"
      ]
    },
    {
      "cell_type": "code",
      "metadata": {
        "id": "0c5QsBY5dvPp",
        "colab": {
          "base_uri": "https://localhost:8080/"
        },
        "outputId": "78fc82ea-544c-4fd1-8ec7-5480ec57a73f"
      },
      "source": [
        "from sklearn.ensemble import RandomForestClassifier\n",
        "#Train the model\n",
        "rdf_model = RandomForestClassifier().fit(x_train, y_train)\n",
        "print(rdf_model)"
      ],
      "execution_count": null,
      "outputs": [
        {
          "output_type": "stream",
          "name": "stdout",
          "text": [
            "RandomForestClassifier(bootstrap=True, ccp_alpha=0.0, class_weight=None,\n",
            "                       criterion='gini', max_depth=None, max_features='auto',\n",
            "                       max_leaf_nodes=None, max_samples=None,\n",
            "                       min_impurity_decrease=0.0, min_impurity_split=None,\n",
            "                       min_samples_leaf=1, min_samples_split=2,\n",
            "                       min_weight_fraction_leaf=0.0, n_estimators=100,\n",
            "                       n_jobs=None, oob_score=False, random_state=None,\n",
            "                       verbose=0, warm_start=False)\n"
          ]
        }
      ]
    },
    {
      "cell_type": "markdown",
      "metadata": {
        "id": "7bSUjo5ddzN2"
      },
      "source": [
        "### Performansi Data Training - Menampilkan Metrics"
      ]
    },
    {
      "cell_type": "code",
      "metadata": {
        "id": "RDE7lmrJd2Fl",
        "colab": {
          "base_uri": "https://localhost:8080/"
        },
        "outputId": "95db0488-1a65-4a4f-e7f4-628a934a1117"
      },
      "source": [
        "from sklearn.metrics import classification_report\n",
        "y_train_pred = rdf_model.predict(x_train)\n",
        "print('Classification Report Training Model (Random Forest) :')\n",
        "print(classification_report(y_train, y_train_pred))"
      ],
      "execution_count": null,
      "outputs": [
        {
          "output_type": "stream",
          "name": "stdout",
          "text": [
            "Classification Report Training Model (Random Forest) :\n",
            "              precision    recall  f1-score   support\n",
            "\n",
            "           0       1.00      1.00      1.00      5547\n",
            "           1       1.00      1.00      1.00      1453\n",
            "\n",
            "    accuracy                           1.00      7000\n",
            "   macro avg       1.00      1.00      1.00      7000\n",
            "weighted avg       1.00      1.00      1.00      7000\n",
            "\n"
          ]
        }
      ]
    },
    {
      "cell_type": "markdown",
      "metadata": {
        "id": "NfYlY6p-d6Ic"
      },
      "source": [
        "### Performansi Data Training - Menampilkan Plots"
      ]
    },
    {
      "cell_type": "code",
      "metadata": {
        "id": "Oz8Gi1WCd2nh",
        "colab": {
          "base_uri": "https://localhost:8080/",
          "height": 331
        },
        "outputId": "e8656b01-e10c-4fb4-a967-33fb8a9c04a8"
      },
      "source": [
        "from sklearn.metrics import confusion_matrix\n",
        "from matplotlib import pyplot as plt\n",
        "import seaborn as sns\n",
        "\n",
        "# Form confusion matrix as a DataFrame\n",
        "confusion_matrix_df = pd.DataFrame((confusion_matrix(y_train, y_train_pred)), ('No churn', 'Churn'), ('No churn', 'Churn'))\n",
        "\n",
        "# Plot confusion matrix\n",
        "plt.figure()\n",
        "heatmap = sns.heatmap(confusion_matrix_df, annot=True, annot_kws={'size': 14}, fmt='d', cmap='YlGnBu')\n",
        "heatmap.yaxis.set_ticklabels(heatmap.yaxis.get_ticklabels(), rotation=0, ha='right', fontsize=14)\n",
        "heatmap.xaxis.set_ticklabels(heatmap.xaxis.get_ticklabels(), rotation=0, ha='right', fontsize=14)\n",
        "\n",
        "plt.title('Confusion Matrix for Training Model\\n(Random Forest)', fontsize=18, color='darkblue')\n",
        "plt.ylabel('True label', fontsize=14)\n",
        "plt.xlabel('Predicted label', fontsize=14)\n",
        "plt.show()"
      ],
      "execution_count": null,
      "outputs": [
        {
          "output_type": "display_data",
          "data": {
            "image/png": "[encoded data removed]",
            "text/plain": [
              "<Figure size 432x288 with 2 Axes>"
            ]
          },
          "metadata": {}
        }
      ]
    },
    {
      "cell_type": "markdown",
      "metadata": {
        "id": "oaCDPSW0d_1w"
      },
      "source": [
        "### Performansi Data Testing - Menampilkan Metrics"
      ]
    },
    {
      "cell_type": "code",
      "metadata": {
        "id": "8YEI20zZeAz3",
        "colab": {
          "base_uri": "https://localhost:8080/"
        },
        "outputId": "754abd65-9b93-4fa2-b23b-56bc43eaa3dd"
      },
      "source": [
        "from sklearn.metrics import classification_report\n",
        "# Predict\n",
        "y_test_pred = rdf_model.predict(x_test)\n",
        "# Print classification report\n",
        "print('Classification Report Testing Model (Random Forest Classifier):')\n",
        "print(classification_report(y_test, y_test_pred))"
      ],
      "execution_count": null,
      "outputs": [
        {
          "output_type": "stream",
          "name": "stdout",
          "text": [
            "Classification Report Testing Model (Random Forest Classifier):\n",
            "              precision    recall  f1-score   support\n",
            "\n",
            "           0       0.88      0.97      0.92      2416\n",
            "           1       0.78      0.46      0.58       584\n",
            "\n",
            "    accuracy                           0.87      3000\n",
            "   macro avg       0.83      0.71      0.75      3000\n",
            "weighted avg       0.86      0.87      0.86      3000\n",
            "\n"
          ]
        }
      ]
    },
    {
      "cell_type": "markdown",
      "metadata": {
        "id": "9UnnercHePFA"
      },
      "source": [
        "### Performansi Data Testing - Menampilkan Plots"
      ]
    },
    {
      "cell_type": "code",
      "metadata": {
        "id": "d1hq5hwyeCTC",
        "colab": {
          "base_uri": "https://localhost:8080/",
          "height": 351
        },
        "outputId": "f233dc4a-9ccb-4dc0-f8c1-74382f5fef8b"
      },
      "source": [
        "from sklearn.metrics import confusion_matrix\n",
        "from matplotlib import pyplot as plt\n",
        "import seaborn as sns\n",
        "\n",
        "# Form confusion matrix as a DataFrame\n",
        "confusion_matrix_df = pd.DataFrame((confusion_matrix(y_test, y_test_pred)), ('No churn', 'Churn'), ('No churn', 'Churn'))\n",
        "\n",
        "# Plot confusion matrix\n",
        "plt.figure()\n",
        "heatmap = sns.heatmap(confusion_matrix_df, annot=True, annot_kws={'size': 14}, fmt='d', cmap='YlGnBu')\n",
        "heatmap.yaxis.set_ticklabels(heatmap.yaxis.get_ticklabels(), rotation=0, ha='right', fontsize=14)\n",
        "heatmap.xaxis.set_ticklabels(heatmap.xaxis.get_ticklabels(), rotation=0, ha='right', fontsize=14)\n",
        "\n",
        "plt.title('Confusion Matrix for Testing Model\\n(Random Forest)\\n', fontsize=18, color='darkblue')\n",
        "plt.ylabel('True label', fontsize=14)\n",
        "plt.xlabel('Predicted label', fontsize=14)\n",
        "plt.show()"
      ],
      "execution_count": null,
      "outputs": [
        {
          "output_type": "display_data",
          "data": {
            "image/png": "[encoded data removed]",
            "text/plain": [
              "<Figure size 432x288 with 2 Axes>"
            ]
          },
          "metadata": {}
        }
      ]
    },
    {
      "cell_type": "markdown",
      "metadata": {
        "id": "pPuiIW_3eX21"
      },
      "source": [
        "### Pembuatan Model"
      ]
    },
    {
      "cell_type": "code",
      "metadata": {
        "id": "zNRsQXSdeY8b",
        "colab": {
          "base_uri": "https://localhost:8080/"
        },
        "outputId": "9bf2ab08-3cec-4d8d-9bcf-0ba887fb8322"
      },
      "source": [
        "from sklearn.ensemble import GradientBoostingClassifier\n",
        "#Train the model\n",
        "gbt_model = GradientBoostingClassifier().fit(x_train, y_train)\n",
        "print(gbt_model)"
      ],
      "execution_count": null,
      "outputs": [
        {
          "output_type": "stream",
          "name": "stdout",
          "text": [
            "GradientBoostingClassifier(ccp_alpha=0.0, criterion='friedman_mse', init=None,\n",
            "                           learning_rate=0.1, loss='deviance', max_depth=3,\n",
            "                           max_features=None, max_leaf_nodes=None,\n",
            "                           min_impurity_decrease=0.0, min_impurity_split=None,\n",
            "                           min_samples_leaf=1, min_samples_split=2,\n",
            "                           min_weight_fraction_leaf=0.0, n_estimators=100,\n",
            "                           n_iter_no_change=None, presort='deprecated',\n",
            "                           random_state=None, subsample=1.0, tol=0.0001,\n",
            "                           validation_fraction=0.1, verbose=0,\n",
            "                           warm_start=False)\n"
          ]
        }
      ]
    },
    {
      "cell_type": "markdown",
      "metadata": {
        "id": "jwTes314edAv"
      },
      "source": [
        "### Perfomansi Model Data Training - Menampilkan Metrics"
      ]
    },
    {
      "cell_type": "code",
      "metadata": {
        "id": "Pn3sL0WVeakb",
        "colab": {
          "base_uri": "https://localhost:8080/"
        },
        "outputId": "b6cb053e-c7c8-42dc-a92a-782660e192d1"
      },
      "source": [
        "from sklearn.metrics import classification_report\n",
        "# Predict\n",
        "y_train_pred = gbt_model.predict(x_train)\n",
        "# Print classification report\n",
        "print('Classification Report Training Model (Gradient Boosting):')\n",
        "print(classification_report(y_train, y_train_pred))"
      ],
      "execution_count": null,
      "outputs": [
        {
          "output_type": "stream",
          "name": "stdout",
          "text": [
            "Classification Report Training Model (Gradient Boosting):\n",
            "              precision    recall  f1-score   support\n",
            "\n",
            "           0       0.88      0.97      0.92      5547\n",
            "           1       0.81      0.49      0.61      1453\n",
            "\n",
            "    accuracy                           0.87      7000\n",
            "   macro avg       0.84      0.73      0.76      7000\n",
            "weighted avg       0.86      0.87      0.86      7000\n",
            "\n"
          ]
        }
      ]
    },
    {
      "cell_type": "markdown",
      "metadata": {
        "id": "xQumRa2seigf"
      },
      "source": [
        "### Perfomansi Model Data Training - Menampilkan Plots"
      ]
    },
    {
      "cell_type": "code",
      "metadata": {
        "id": "2imv-SN0egGk",
        "colab": {
          "base_uri": "https://localhost:8080/",
          "height": 331
        },
        "outputId": "050dac9a-e2d3-4d45-8e2a-265c5a433667"
      },
      "source": [
        "from sklearn.metrics import confusion_matrix\n",
        "from matplotlib import pyplot as plt\n",
        "import seaborn as sns\n",
        "\n",
        "# Form confusion matrix as a DataFrame\n",
        "confusion_matrix_df = pd.DataFrame((confusion_matrix(y_train, y_train_pred)), ('No churn', 'Churn'), ('No churn', 'Churn'))\n",
        "\n",
        "# Plot confusion matrix\n",
        "plt.figure()\n",
        "heatmap = sns.heatmap(confusion_matrix_df, annot=True, annot_kws={'size': 14}, fmt='d', cmap='YlGnBu')\n",
        "heatmap.yaxis.set_ticklabels(heatmap.yaxis.get_ticklabels(), rotation=0, ha='right', fontsize=14)\n",
        "heatmap.xaxis.set_ticklabels(heatmap.xaxis.get_ticklabels(), rotation=0, ha='right', fontsize=14)\n",
        "\n",
        "plt.title('Confusion Matrix for Training Model\\n(Gradient Boosting)', fontsize=18, color='darkblue')\n",
        "plt.ylabel('True label', fontsize=14)\n",
        "plt.xlabel('Predicted label', fontsize=14)\n",
        "plt.show()"
      ],
      "execution_count": null,
      "outputs": [
        {
          "output_type": "display_data",
          "data": {
            "image/png": "[encoded data removed]",
            "text/plain": [
              "<Figure size 432x288 with 2 Axes>"
            ]
          },
          "metadata": {}
        }
      ]
    },
    {
      "cell_type": "markdown",
      "metadata": {
        "id": "V_aF3t4Tep55"
      },
      "source": [
        "### Performansi Model Data Testing - Menampilkan Metrics"
      ]
    },
    {
      "cell_type": "code",
      "metadata": {
        "id": "ftMg2tFMemwC",
        "colab": {
          "base_uri": "https://localhost:8080/"
        },
        "outputId": "81b2e0f1-42bd-4f35-f1d6-c01f262b84c2"
      },
      "source": [
        "from sklearn.metrics import classification_report\n",
        "# Predict\n",
        "y_test_pred = log_model.predict(x_test)\n",
        "# Print classification report\n",
        "print('Classification Report Testing Model (Gradient Boosting):')\n",
        "print(classification_report(y_test, y_test_pred))"
      ],
      "execution_count": null,
      "outputs": [
        {
          "output_type": "stream",
          "name": "stdout",
          "text": [
            "Classification Report Testing Model (Gradient Boosting):\n",
            "              precision    recall  f1-score   support\n",
            "\n",
            "           0       0.82      0.96      0.88      2416\n",
            "           1       0.41      0.11      0.17       584\n",
            "\n",
            "    accuracy                           0.80      3000\n",
            "   macro avg       0.61      0.53      0.53      3000\n",
            "weighted avg       0.74      0.80      0.74      3000\n",
            "\n"
          ]
        }
      ]
    },
    {
      "cell_type": "markdown",
      "metadata": {
        "id": "orcFa2fletRS"
      },
      "source": [
        "### Performansi Model Data Testing - Menampilkan Plots"
      ]
    },
    {
      "cell_type": "code",
      "metadata": {
        "id": "r2KOH_axesnx",
        "colab": {
          "base_uri": "https://localhost:8080/",
          "height": 331
        },
        "outputId": "5df93a8c-1e8f-4897-f07b-60a5f9f6d28a"
      },
      "source": [
        "from sklearn.metrics import confusion_matrix\n",
        "from matplotlib import pyplot as plt\n",
        "import seaborn as sns\n",
        "\n",
        "# Form confusion matrix as a DataFrame\n",
        "confusion_matrix_df = pd.DataFrame((confusion_matrix(y_test, y_test_pred)), ('No churn', 'Churn'), ('No churn', 'Churn'))\n",
        "\n",
        "# Plot confusion matrix\n",
        "plt.figure()\n",
        "heatmap = sns.heatmap(confusion_matrix_df, annot=True, annot_kws={'size': 14}, fmt='d', cmap='YlGnBu')\n",
        "heatmap.yaxis.set_ticklabels(heatmap.yaxis.get_ticklabels(), rotation=0, ha='right', fontsize=14)\n",
        "heatmap.xaxis.set_ticklabels(heatmap.xaxis.get_ticklabels(), rotation=0, ha='right', fontsize=14)\n",
        "\n",
        "plt.title('Confusion Matrix for Testing Model\\n(Gradient Boosting)', fontsize=18, color='darkblue')\n",
        "plt.ylabel('True label', fontsize=14)\n",
        "plt.xlabel('Predicted label', fontsize=14)\n",
        "plt.show()"
      ],
      "execution_count": null,
      "outputs": [
        {
          "output_type": "display_data",
          "data": {
            "image/png": "[encoded data removed]",
            "text/plain": [
              "<Figure size 432x288 with 2 Axes>"
            ]
          },
          "metadata": {}
        }
      ]
    },
    {
      "cell_type": "markdown",
      "metadata": {
        "id": "dusdxTUVO2iZ"
      },
      "source": [
        "### ANN Modelling"
      ]
    },
    {
      "cell_type": "code",
      "metadata": {
        "id": "8K6yeepITx1R"
      },
      "source": [
        "# Importing the Keras libraries and packages\n",
        "import keras\n",
        "from keras.models import Sequential\n",
        "from keras.layers import Dense\n",
        "from keras.layers import LeakyReLU,PReLU,ELU\n",
        "from keras.layers import Dropout"
      ],
      "execution_count": null,
      "outputs": []
    },
    {
      "cell_type": "code",
      "metadata": {
        "colab": {
          "base_uri": "https://localhost:8080/"
        },
        "id": "H00Ym9qHT2m6",
        "outputId": "904c88f4-54b0-4803-a1bf-9cab2c8a330e"
      },
      "source": [
        "\n",
        "# Splitting train and test\n",
        "x_train, x_test, y_train, y_test = train_test_split(x, y, test_size=0.3, random_state=42)\n",
        "# Initialising the ANN\n",
        "classifier = Sequential()\n",
        "\n",
        "# Adding the input layer and the first hidden layer\n",
        "classifier.add(Dense(units = 6, activation='relu',input_dim = 10))\n",
        "classifier.add(Dropout(0.2, input_shape=(6,)))\n",
        "\n",
        "# Adding the second hidden layer\n",
        "classifier.add(Dense(units = 10,activation='relu'))\n",
        "classifier.add(Dropout(0.2, input_shape=(10,)))\n",
        "\n",
        "# Adding the third hidden layer\n",
        "classifier.add(Dense(units = 20,activation='relu'))\n",
        "classifier.add(Dropout(0.2, input_shape=(29,)))\n",
        "\n",
        "# Adding the output layer\n",
        "classifier.add(Dense(units = 1,  activation = 'sigmoid'))\n",
        "\n",
        "# Compiling the ANN\n",
        "classifier.compile(optimizer = 'Adam', loss = 'binary_crossentropy', metrics = ['accuracy'])\n",
        "\n",
        "# Fitting the ANN to the Training set\n",
        "churn_model_history=classifier.fit(x_train, y_train,validation_split=0.33, batch_size = 10, epochs = 100)"
      ],
      "execution_count": null,
      "outputs": [
        {
          "output_type": "stream",
          "name": "stdout",
          "text": [
            "Epoch 1/100\n",
            "469/469 [==============================] - 3s 5ms/step - loss: 9096.0059 - accuracy: 0.5707 - val_loss: 1275.9714 - val_accuracy: 0.7893\n",
            "Epoch 2/100\n",
            "469/469 [==============================] - 2s 4ms/step - loss: 1556.8748 - accuracy: 0.6581 - val_loss: 144.0155 - val_accuracy: 0.6387\n",
            "Epoch 3/100\n",
            "469/469 [==============================] - 2s 4ms/step - loss: 552.1590 - accuracy: 0.6547 - val_loss: 35.1880 - val_accuracy: 0.7157\n",
            "Epoch 4/100\n",
            "469/469 [==============================] - 2s 4ms/step - loss: 232.1147 - accuracy: 0.6852 - val_loss: 0.9108 - val_accuracy: 0.7893\n",
            "Epoch 5/100\n",
            "469/469 [==============================] - 2s 5ms/step - loss: 132.9676 - accuracy: 0.7562 - val_loss: 0.6782 - val_accuracy: 0.7893\n",
            "Epoch 6/100\n",
            "469/469 [==============================] - 2s 5ms/step - loss: 64.4741 - accuracy: 0.7328 - val_loss: 0.5460 - val_accuracy: 0.7893\n",
            "Epoch 7/100\n",
            "469/469 [==============================] - 2s 5ms/step - loss: 17.1645 - accuracy: 0.7274 - val_loss: 1.7837 - val_accuracy: 0.2609\n",
            "Epoch 8/100\n",
            "469/469 [==============================] - 2s 5ms/step - loss: 13.0238 - accuracy: 0.7253 - val_loss: 1.7228 - val_accuracy: 0.7893\n",
            "Epoch 9/100\n",
            "469/469 [==============================] - 2s 5ms/step - loss: 10.4374 - accuracy: 0.7360 - val_loss: 0.7607 - val_accuracy: 0.7893\n",
            "Epoch 10/100\n",
            "469/469 [==============================] - 2s 4ms/step - loss: 9.5745 - accuracy: 0.7390 - val_loss: 0.8601 - val_accuracy: 0.7893\n",
            "Epoch 11/100\n",
            "469/469 [==============================] - 2s 5ms/step - loss: 7.5279 - accuracy: 0.7509 - val_loss: 0.5189 - val_accuracy: 0.7893\n",
            "Epoch 12/100\n",
            "469/469 [==============================] - 2s 5ms/step - loss: 7.8677 - accuracy: 0.7524 - val_loss: 0.5123 - val_accuracy: 0.7893\n",
            "Epoch 13/100\n",
            "469/469 [==============================] - 2s 4ms/step - loss: 5.1748 - accuracy: 0.7739 - val_loss: 0.5229 - val_accuracy: 0.7893\n",
            "Epoch 14/100\n",
            "469/469 [==============================] - 2s 4ms/step - loss: 2.7494 - accuracy: 0.7774 - val_loss: 0.5106 - val_accuracy: 0.7893\n",
            "Epoch 15/100\n",
            "469/469 [==============================] - 2s 5ms/step - loss: 2.7543 - accuracy: 0.7774 - val_loss: 0.5156 - val_accuracy: 0.7893\n",
            "Epoch 16/100\n",
            "469/469 [==============================] - 2s 5ms/step - loss: 0.6963 - accuracy: 0.7840 - val_loss: 0.5151 - val_accuracy: 0.7893\n",
            "Epoch 17/100\n",
            "469/469 [==============================] - 2s 4ms/step - loss: 0.9537 - accuracy: 0.7827 - val_loss: 0.5150 - val_accuracy: 0.7893\n",
            "Epoch 18/100\n",
            "469/469 [==============================] - 2s 4ms/step - loss: 0.6992 - accuracy: 0.7880 - val_loss: 0.5149 - val_accuracy: 0.7893\n",
            "Epoch 19/100\n",
            "469/469 [==============================] - 2s 4ms/step - loss: 0.8433 - accuracy: 0.7906 - val_loss: 0.5149 - val_accuracy: 0.7893\n",
            "Epoch 20/100\n",
            "469/469 [==============================] - 2s 5ms/step - loss: 0.7451 - accuracy: 0.7901 - val_loss: 0.5149 - val_accuracy: 0.7893\n",
            "Epoch 21/100\n",
            "469/469 [==============================] - 2s 5ms/step - loss: 0.8056 - accuracy: 0.7891 - val_loss: 0.5150 - val_accuracy: 0.7893\n",
            "Epoch 22/100\n",
            "469/469 [==============================] - 2s 4ms/step - loss: 0.7536 - accuracy: 0.7912 - val_loss: 0.5150 - val_accuracy: 0.7893\n",
            "Epoch 23/100\n",
            "469/469 [==============================] - 2s 5ms/step - loss: 0.7792 - accuracy: 0.7897 - val_loss: 0.5150 - val_accuracy: 0.7893\n",
            "Epoch 24/100\n",
            "469/469 [==============================] - 2s 4ms/step - loss: 0.7237 - accuracy: 0.7919 - val_loss: 0.5150 - val_accuracy: 0.7893\n",
            "Epoch 25/100\n",
            "469/469 [==============================] - 2s 5ms/step - loss: 0.7408 - accuracy: 0.7908 - val_loss: 0.5150 - val_accuracy: 0.7893\n",
            "Epoch 26/100\n",
            "469/469 [==============================] - 2s 4ms/step - loss: 0.7550 - accuracy: 0.7910 - val_loss: 0.5150 - val_accuracy: 0.7893\n",
            "Epoch 27/100\n",
            "469/469 [==============================] - 2s 4ms/step - loss: 0.6024 - accuracy: 0.7912 - val_loss: 0.5150 - val_accuracy: 0.7893\n",
            "Epoch 28/100\n",
            "469/469 [==============================] - 2s 5ms/step - loss: 0.6010 - accuracy: 0.7929 - val_loss: 0.5150 - val_accuracy: 0.7893\n",
            "Epoch 29/100\n",
            "469/469 [==============================] - 2s 5ms/step - loss: 0.5881 - accuracy: 0.7921 - val_loss: 0.5150 - val_accuracy: 0.7893\n",
            "Epoch 30/100\n",
            "469/469 [==============================] - 2s 4ms/step - loss: 0.6011 - accuracy: 0.7916 - val_loss: 0.5150 - val_accuracy: 0.7893\n",
            "Epoch 31/100\n",
            "469/469 [==============================] - 2s 5ms/step - loss: 0.5683 - accuracy: 0.7899 - val_loss: 0.5150 - val_accuracy: 0.7893\n",
            "Epoch 32/100\n",
            "469/469 [==============================] - 2s 5ms/step - loss: 0.5530 - accuracy: 0.7914 - val_loss: 0.5150 - val_accuracy: 0.7893\n",
            "Epoch 33/100\n",
            "469/469 [==============================] - 2s 5ms/step - loss: 0.5431 - accuracy: 0.7895 - val_loss: 0.5150 - val_accuracy: 0.7893\n",
            "Epoch 34/100\n",
            "469/469 [==============================] - 2s 5ms/step - loss: 0.5151 - accuracy: 0.7923 - val_loss: 0.5150 - val_accuracy: 0.7893\n",
            "Epoch 35/100\n",
            "469/469 [==============================] - 2s 5ms/step - loss: 0.5130 - accuracy: 0.7923 - val_loss: 0.5150 - val_accuracy: 0.7893\n",
            "Epoch 36/100\n",
            "469/469 [==============================] - 2s 5ms/step - loss: 0.5142 - accuracy: 0.7931 - val_loss: 0.5150 - val_accuracy: 0.7893\n",
            "Epoch 37/100\n",
            "469/469 [==============================] - 2s 5ms/step - loss: 0.5110 - accuracy: 0.7936 - val_loss: 0.5150 - val_accuracy: 0.7893\n",
            "Epoch 38/100\n",
            "469/469 [==============================] - 2s 5ms/step - loss: 0.5097 - accuracy: 0.7933 - val_loss: 0.5150 - val_accuracy: 0.7893\n",
            "Epoch 39/100\n",
            "469/469 [==============================] - 2s 4ms/step - loss: 0.5086 - accuracy: 0.7936 - val_loss: 0.5150 - val_accuracy: 0.7893\n",
            "Epoch 40/100\n",
            "469/469 [==============================] - 2s 4ms/step - loss: 0.5091 - accuracy: 0.7940 - val_loss: 0.5150 - val_accuracy: 0.7893\n",
            "Epoch 41/100\n",
            "469/469 [==============================] - 2s 4ms/step - loss: 0.5087 - accuracy: 0.7931 - val_loss: 0.5150 - val_accuracy: 0.7893\n",
            "Epoch 42/100\n",
            "469/469 [==============================] - 2s 5ms/step - loss: 0.5087 - accuracy: 0.7940 - val_loss: 0.5150 - val_accuracy: 0.7893\n",
            "Epoch 43/100\n",
            "469/469 [==============================] - 2s 5ms/step - loss: 0.5088 - accuracy: 0.7940 - val_loss: 0.5150 - val_accuracy: 0.7893\n",
            "Epoch 44/100\n",
            "469/469 [==============================] - 2s 5ms/step - loss: 0.5087 - accuracy: 0.7940 - val_loss: 0.5150 - val_accuracy: 0.7893\n",
            "Epoch 45/100\n",
            "469/469 [==============================] - 2s 5ms/step - loss: 0.5087 - accuracy: 0.7940 - val_loss: 0.5150 - val_accuracy: 0.7893\n",
            "Epoch 46/100\n",
            "469/469 [==============================] - 2s 5ms/step - loss: 0.5115 - accuracy: 0.7938 - val_loss: 0.5150 - val_accuracy: 0.7893\n",
            "Epoch 47/100\n",
            "469/469 [==============================] - 2s 5ms/step - loss: 0.5087 - accuracy: 0.7940 - val_loss: 0.5150 - val_accuracy: 0.7893\n",
            "Epoch 48/100\n",
            "469/469 [==============================] - 2s 5ms/step - loss: 0.5087 - accuracy: 0.7940 - val_loss: 0.5150 - val_accuracy: 0.7893\n",
            "Epoch 49/100\n",
            "469/469 [==============================] - 2s 5ms/step - loss: 0.5087 - accuracy: 0.7940 - val_loss: 0.5150 - val_accuracy: 0.7893\n",
            "Epoch 50/100\n",
            "469/469 [==============================] - 2s 5ms/step - loss: 0.5087 - accuracy: 0.7940 - val_loss: 0.5150 - val_accuracy: 0.7893\n",
            "Epoch 51/100\n",
            "469/469 [==============================] - 2s 5ms/step - loss: 0.5087 - accuracy: 0.7940 - val_loss: 0.5150 - val_accuracy: 0.7893\n",
            "Epoch 52/100\n",
            "469/469 [==============================] - 2s 4ms/step - loss: 0.5087 - accuracy: 0.7940 - val_loss: 0.5150 - val_accuracy: 0.7893\n",
            "Epoch 53/100\n",
            "469/469 [==============================] - 2s 5ms/step - loss: 0.5087 - accuracy: 0.7940 - val_loss: 0.5150 - val_accuracy: 0.7893\n",
            "Epoch 54/100\n",
            "469/469 [==============================] - 2s 5ms/step - loss: 0.5087 - accuracy: 0.7940 - val_loss: 0.5150 - val_accuracy: 0.7893\n",
            "Epoch 55/100\n",
            "469/469 [==============================] - 2s 5ms/step - loss: 0.5087 - accuracy: 0.7940 - val_loss: 0.5150 - val_accuracy: 0.7893\n",
            "Epoch 56/100\n",
            "469/469 [==============================] - 2s 5ms/step - loss: 0.5087 - accuracy: 0.7940 - val_loss: 0.5150 - val_accuracy: 0.7893\n",
            "Epoch 57/100\n",
            "469/469 [==============================] - 2s 5ms/step - loss: 0.5087 - accuracy: 0.7940 - val_loss: 0.5150 - val_accuracy: 0.7893\n",
            "Epoch 58/100\n",
            "469/469 [==============================] - 2s 5ms/step - loss: 0.5087 - accuracy: 0.7940 - val_loss: 0.5150 - val_accuracy: 0.7893\n",
            "Epoch 59/100\n",
            "469/469 [==============================] - 2s 5ms/step - loss: 0.5087 - accuracy: 0.7940 - val_loss: 0.5150 - val_accuracy: 0.7893\n",
            "Epoch 60/100\n",
            "469/469 [==============================] - 2s 5ms/step - loss: 0.5087 - accuracy: 0.7940 - val_loss: 0.5150 - val_accuracy: 0.7893\n",
            "Epoch 61/100\n",
            "469/469 [==============================] - 2s 5ms/step - loss: 0.5087 - accuracy: 0.7940 - val_loss: 0.5150 - val_accuracy: 0.7893\n",
            "Epoch 62/100\n",
            "469/469 [==============================] - 3s 5ms/step - loss: 0.5087 - accuracy: 0.7940 - val_loss: 0.5150 - val_accuracy: 0.7893\n",
            "Epoch 63/100\n",
            "469/469 [==============================] - 2s 5ms/step - loss: 0.5087 - accuracy: 0.7940 - val_loss: 0.5150 - val_accuracy: 0.7893\n",
            "Epoch 64/100\n",
            "469/469 [==============================] - 2s 5ms/step - loss: 0.5087 - accuracy: 0.7940 - val_loss: 0.5150 - val_accuracy: 0.7893\n",
            "Epoch 65/100\n",
            "469/469 [==============================] - 2s 5ms/step - loss: 0.5087 - accuracy: 0.7940 - val_loss: 0.5150 - val_accuracy: 0.7893\n",
            "Epoch 66/100\n",
            "469/469 [==============================] - 2s 5ms/step - loss: 0.5087 - accuracy: 0.7940 - val_loss: 0.5150 - val_accuracy: 0.7893\n",
            "Epoch 67/100\n",
            "469/469 [==============================] - 2s 5ms/step - loss: 0.5087 - accuracy: 0.7940 - val_loss: 0.5150 - val_accuracy: 0.7893\n",
            "Epoch 68/100\n",
            "469/469 [==============================] - 2s 5ms/step - loss: 0.5087 - accuracy: 0.7940 - val_loss: 0.5150 - val_accuracy: 0.7893\n",
            "Epoch 69/100\n",
            "469/469 [==============================] - 2s 5ms/step - loss: 0.5087 - accuracy: 0.7940 - val_loss: 0.5150 - val_accuracy: 0.7893\n",
            "Epoch 70/100\n",
            "469/469 [==============================] - 2s 5ms/step - loss: 0.5087 - accuracy: 0.7940 - val_loss: 0.5150 - val_accuracy: 0.7893\n",
            "Epoch 71/100\n",
            "469/469 [==============================] - 2s 5ms/step - loss: 0.5087 - accuracy: 0.7940 - val_loss: 0.5150 - val_accuracy: 0.7893\n",
            "Epoch 72/100\n",
            "469/469 [==============================] - 2s 5ms/step - loss: 0.5087 - accuracy: 0.7940 - val_loss: 0.5150 - val_accuracy: 0.7893\n",
            "Epoch 73/100\n",
            "469/469 [==============================] - 2s 5ms/step - loss: 0.5087 - accuracy: 0.7940 - val_loss: 0.5150 - val_accuracy: 0.7893\n",
            "Epoch 74/100\n",
            "469/469 [==============================] - 2s 5ms/step - loss: 0.5087 - accuracy: 0.7940 - val_loss: 0.5150 - val_accuracy: 0.7893\n",
            "Epoch 75/100\n",
            "469/469 [==============================] - 2s 5ms/step - loss: 0.5087 - accuracy: 0.7940 - val_loss: 0.5150 - val_accuracy: 0.7893\n",
            "Epoch 76/100\n",
            "469/469 [==============================] - 2s 5ms/step - loss: 0.5087 - accuracy: 0.7940 - val_loss: 0.5150 - val_accuracy: 0.7893\n",
            "Epoch 77/100\n",
            "469/469 [==============================] - 2s 5ms/step - loss: 0.5087 - accuracy: 0.7940 - val_loss: 0.5150 - val_accuracy: 0.7893\n",
            "Epoch 78/100\n",
            "469/469 [==============================] - 2s 5ms/step - loss: 0.5087 - accuracy: 0.7940 - val_loss: 0.5150 - val_accuracy: 0.7893\n",
            "Epoch 79/100\n",
            "469/469 [==============================] - 2s 5ms/step - loss: 0.5087 - accuracy: 0.7940 - val_loss: 0.5150 - val_accuracy: 0.7893\n",
            "Epoch 80/100\n",
            "469/469 [==============================] - 2s 5ms/step - loss: 0.5087 - accuracy: 0.7940 - val_loss: 0.5150 - val_accuracy: 0.7893\n",
            "Epoch 81/100\n",
            "469/469 [==============================] - 2s 5ms/step - loss: 0.5087 - accuracy: 0.7940 - val_loss: 0.5150 - val_accuracy: 0.7893\n",
            "Epoch 82/100\n",
            "469/469 [==============================] - 2s 5ms/step - loss: 0.5087 - accuracy: 0.7940 - val_loss: 0.5150 - val_accuracy: 0.7893\n",
            "Epoch 83/100\n",
            "469/469 [==============================] - 2s 4ms/step - loss: 0.5087 - accuracy: 0.7940 - val_loss: 0.5150 - val_accuracy: 0.7893\n",
            "Epoch 84/100\n",
            "469/469 [==============================] - 2s 5ms/step - loss: 0.5087 - accuracy: 0.7940 - val_loss: 0.5150 - val_accuracy: 0.7893\n",
            "Epoch 85/100\n",
            "469/469 [==============================] - 2s 5ms/step - loss: 0.5087 - accuracy: 0.7940 - val_loss: 0.5150 - val_accuracy: 0.7893\n",
            "Epoch 86/100\n",
            "469/469 [==============================] - 2s 5ms/step - loss: 0.5087 - accuracy: 0.7940 - val_loss: 0.5150 - val_accuracy: 0.7893\n",
            "Epoch 87/100\n",
            "469/469 [==============================] - 2s 5ms/step - loss: 0.5087 - accuracy: 0.7940 - val_loss: 0.5150 - val_accuracy: 0.7893\n",
            "Epoch 88/100\n",
            "469/469 [==============================] - 2s 5ms/step - loss: 0.5087 - accuracy: 0.7940 - val_loss: 0.5150 - val_accuracy: 0.7893\n",
            "Epoch 89/100\n",
            "469/469 [==============================] - 2s 4ms/step - loss: 0.5087 - accuracy: 0.7940 - val_loss: 0.5150 - val_accuracy: 0.7893\n",
            "Epoch 90/100\n",
            "469/469 [==============================] - 2s 5ms/step - loss: 0.5087 - accuracy: 0.7940 - val_loss: 0.5150 - val_accuracy: 0.7893\n",
            "Epoch 91/100\n",
            "469/469 [==============================] - 2s 5ms/step - loss: 0.5087 - accuracy: 0.7940 - val_loss: 0.5150 - val_accuracy: 0.7893\n",
            "Epoch 92/100\n",
            "469/469 [==============================] - 2s 5ms/step - loss: 0.5087 - accuracy: 0.7940 - val_loss: 0.5150 - val_accuracy: 0.7893\n",
            "Epoch 93/100\n",
            "469/469 [==============================] - 2s 5ms/step - loss: 0.5087 - accuracy: 0.7940 - val_loss: 0.5150 - val_accuracy: 0.7893\n",
            "Epoch 94/100\n",
            "469/469 [==============================] - 2s 5ms/step - loss: 0.5087 - accuracy: 0.7940 - val_loss: 0.5150 - val_accuracy: 0.7893\n",
            "Epoch 95/100\n",
            "469/469 [==============================] - 2s 5ms/step - loss: 0.5087 - accuracy: 0.7940 - val_loss: 0.5150 - val_accuracy: 0.7893\n",
            "Epoch 96/100\n",
            "469/469 [==============================] - 2s 5ms/step - loss: 0.5087 - accuracy: 0.7940 - val_loss: 0.5150 - val_accuracy: 0.7893\n",
            "Epoch 97/100\n",
            "469/469 [==============================] - 2s 5ms/step - loss: 0.5087 - accuracy: 0.7940 - val_loss: 0.5150 - val_accuracy: 0.7893\n",
            "Epoch 98/100\n",
            "469/469 [==============================] - 2s 5ms/step - loss: 0.5087 - accuracy: 0.7940 - val_loss: 0.5150 - val_accuracy: 0.7893\n",
            "Epoch 99/100\n",
            "469/469 [==============================] - 2s 5ms/step - loss: 0.5087 - accuracy: 0.7940 - val_loss: 0.5150 - val_accuracy: 0.7893\n",
            "Epoch 100/100\n",
            "469/469 [==============================] - 2s 5ms/step - loss: 0.5087 - accuracy: 0.7940 - val_loss: 0.5150 - val_accuracy: 0.7893\n"
          ]
        }
      ]
    },
    {
      "cell_type": "code",
      "metadata": {
        "colab": {
          "base_uri": "https://localhost:8080/"
        },
        "id": "X9jcRgZIWVLw",
        "outputId": "f5642aa4-aff4-43ee-f621-1d6308ff7d28"
      },
      "source": [
        "print(churn_model_history.history.keys())"
      ],
      "execution_count": null,
      "outputs": [
        {
          "output_type": "stream",
          "name": "stdout",
          "text": [
            "dict_keys(['loss', 'accuracy', 'val_loss', 'val_accuracy'])\n"
          ]
        }
      ]
    },
    {
      "cell_type": "code",
      "metadata": {
        "colab": {
          "base_uri": "https://localhost:8080/"
        },
        "id": "lyWGfghnWbWV",
        "outputId": "3613e027-956a-46a8-d5df-81ea4990721f"
      },
      "source": [
        "# summarize history for accuracy\n",
        "plt.plot(churn_model_history.history['accuracy'])\n",
        "plt.plot(churn_model_history.history['val_accuracy'])\n",
        "plt.title('model accuracy')\n",
        "plt.ylabel('accuracy')\n",
        "plt.xlabel('epoch')\n",
        "plt.legend(['train', 'test'], loc='upper left')\n",
        "plt.show()"
      ],
      "execution_count": null,
      "outputs": [
        {
          "output_type": "display_data",
          "data": {
            "image/png": "[encoded data removed]",
            "text/plain": [
              "<Figure size 432x288 with 1 Axes>"
            ]
          },
          "metadata": {}
        }
      ]
    },
    {
      "cell_type": "code",
      "metadata": {
        "colab": {
          "base_uri": "https://localhost:8080/"
        },
        "id": "cKpbNkXGWcq0",
        "outputId": "5d98d024-ef35-4a85-fd31-8d5003f14789"
      },
      "source": [
        "# summarize history for loss\n",
        "plt.plot(churn_model_history.history['loss'])\n",
        "plt.plot(churn_model_history.history['val_loss'])\n",
        "plt.title('model loss')\n",
        "plt.ylabel('loss')\n",
        "plt.xlabel('epoch')\n",
        "plt.legend(['train', 'test'], loc='upper left')\n",
        "plt.show()"
      ],
      "execution_count": null,
      "outputs": [
        {
          "output_type": "display_data",
          "data": {
            "image/png": "[encoded data removed]",
            "text/plain": [
              "<Figure size 432x288 with 1 Axes>"
            ]
          },
          "metadata": {}
        }
      ]
    },
    {
      "cell_type": "code",
      "metadata": {
        "colab": {
          "base_uri": "https://localhost:8080/"
        },
        "id": "LdBg_maTWhAL",
        "outputId": "279acd45-3192-4f37-c070-a8221ba712e9"
      },
      "source": [
        "y_pred = classifier.predict(x_test)\n",
        "y_pred = (y_pred > 0.5)\n",
        "\n",
        "y_pred"
      ],
      "execution_count": null,
      "outputs": [
        {
          "output_type": "execute_result",
          "data": {
            "text/plain": [
              "array([[False],\n",
              "       [False],\n",
              "       [False],\n",
              "       ...,\n",
              "       [False],\n",
              "       [False],\n",
              "       [False]])"
            ]
          },
          "metadata": {},
          "execution_count": 71
        }
      ]
    },
    {
      "cell_type": "code",
      "metadata": {
        "colab": {
          "base_uri": "https://localhost:8080/"
        },
        "id": "kiW2FULCWiju",
        "outputId": "729ef554-3f92-4656-e7b1-62351c422bf4"
      },
      "source": [
        "from sklearn.metrics import confusion_matrix\n",
        "cm = confusion_matrix(y_test, y_pred)\n",
        "cm"
      ],
      "execution_count": null,
      "outputs": [
        {
          "output_type": "execute_result",
          "data": {
            "text/plain": [
              "array([[2416,    0],\n",
              "       [ 584,    0]])"
            ]
          },
          "metadata": {},
          "execution_count": 72
        }
      ]
    },
    {
      "cell_type": "code",
      "metadata": {
        "colab": {
          "base_uri": "https://localhost:8080/"
        },
        "id": "JXQDOk1WWkYc",
        "outputId": "c7053074-c75f-45ee-b7f0-4fb6c8351483"
      },
      "source": [
        "# Calculate the Accuracy\n",
        "from sklearn.metrics import accuracy_score\n",
        "score=accuracy_score(y_pred,y_test)\n",
        "print(score*100, '%')"
      ],
      "execution_count": null,
      "outputs": [
        {
          "output_type": "stream",
          "name": "stdout",
          "text": [
            "80.53333333333333 %\n"
          ]
        }
      ]
    },
    {
      "cell_type": "markdown",
      "metadata": {
        "id": "OQAyL-74ezVc"
      },
      "source": [
        "### Menentukan Algoritma Model Terbaik"
      ]
    },
    {
      "cell_type": "code",
      "metadata": {
        "id": "_wKfDNHVe0R8",
        "colab": {
          "base_uri": "https://localhost:8080/"
        },
        "outputId": "e8eb9b4b-6e94-4236-8785-8eb92ad6f059"
      },
      "source": [
        "print(log_model)"
      ],
      "execution_count": null,
      "outputs": [
        {
          "output_type": "stream",
          "name": "stdout",
          "text": [
            "LogisticRegression(C=1.0, class_weight=None, dual=False, fit_intercept=True,\n",
            "                   intercept_scaling=1, l1_ratio=None, max_iter=100,\n",
            "                   multi_class='auto', n_jobs=None, penalty='l2',\n",
            "                   random_state=None, solver='lbfgs', tol=0.0001, verbose=0,\n",
            "                   warm_start=False)\n"
          ]
        }
      ]
    },
    {
      "cell_type": "code",
      "metadata": {
        "colab": {
          "base_uri": "https://localhost:8080/"
        },
        "id": "0fkN2QZEP9sR",
        "outputId": "05ca53d3-c115-486c-fd5c-81d98da08430"
      },
      "source": [
        "print(rdf_model)"
      ],
      "execution_count": null,
      "outputs": [
        {
          "output_type": "stream",
          "name": "stdout",
          "text": [
            "RandomForestClassifier(bootstrap=True, ccp_alpha=0.0, class_weight=None,\n",
            "                       criterion='gini', max_depth=None, max_features='auto',\n",
            "                       max_leaf_nodes=None, max_samples=None,\n",
            "                       min_impurity_decrease=0.0, min_impurity_split=None,\n",
            "                       min_samples_leaf=1, min_samples_split=2,\n",
            "                       min_weight_fraction_leaf=0.0, n_estimators=100,\n",
            "                       n_jobs=None, oob_score=False, random_state=None,\n",
            "                       verbose=0, warm_start=False)\n"
          ]
        }
      ]
    }
  ]
}